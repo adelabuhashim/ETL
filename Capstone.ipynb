{
 "cells": [
  {
   "cell_type": "markdown",
   "id": "7b5e265a",
   "metadata": {},
   "source": [
    "# Project Title\n",
    "### Data Engineering Capstone Project\n",
    "\n",
    "#### Project Summary\n",
    "ETL using PySpark using US-Immigration Data.\n",
    "\n",
    "The project follows the follow steps:\n",
    "* Step 1: Scope the Project and Gather Data\n",
    "* Step 2: Explore and Assess the Data\n",
    "* Step 3: Define the Data Model\n",
    "* Step 4: Run ETL to Model the Data\n",
    "* Step 5: Complete Project Write Up"
   ]
  },
  {
   "cell_type": "code",
   "execution_count": 1,
   "id": "62d40b24",
   "metadata": {},
   "outputs": [
    {
     "data": {
      "application/vnd.jupyter.widget-view+json": {
       "model_id": "64d864d95c234564b2bb984cbc997e33",
       "version_major": 2,
       "version_minor": 0
      },
      "text/plain": [
       "VBox()"
      ]
     },
     "metadata": {},
     "output_type": "display_data"
    },
    {
     "name": "stdout",
     "output_type": "stream",
     "text": [
      "Starting Spark application\n"
     ]
    },
    {
     "data": {
      "text/html": [
       "<table>\n",
       "<tr><th>ID</th><th>YARN Application ID</th><th>Kind</th><th>State</th><th>Spark UI</th><th>Driver log</th><th>Current session?</th></tr><tr><td>1</td><td>application_1678084306076_0002</td><td>pyspark</td><td>idle</td><td><a target=\"_blank\" href=\"http://ip-172-31-81-0.ec2.internal:20888/proxy/application_1678084306076_0002/\">Link</a></td><td><a target=\"_blank\" href=\"http://ip-172-31-84-107.ec2.internal:8042/node/containerlogs/container_1678084306076_0002_01_000001/livy\">Link</a></td><td>✔</td></tr></table>"
      ],
      "text/plain": [
       "<IPython.core.display.HTML object>"
      ]
     },
     "metadata": {},
     "output_type": "display_data"
    },
    {
     "data": {
      "application/vnd.jupyter.widget-view+json": {
       "model_id": "",
       "version_major": 2,
       "version_minor": 0
      },
      "text/plain": [
       "FloatProgress(value=0.0, bar_style='info', description='Progress:', layout=Layout(height='25px', width='50%'),…"
      ]
     },
     "metadata": {},
     "output_type": "display_data"
    },
    {
     "name": "stdout",
     "output_type": "stream",
     "text": [
      "SparkSession available as 'spark'.\n"
     ]
    },
    {
     "data": {
      "application/vnd.jupyter.widget-view+json": {
       "model_id": "",
       "version_major": 2,
       "version_minor": 0
      },
      "text/plain": [
       "FloatProgress(value=0.0, bar_style='info', description='Progress:', layout=Layout(height='25px', width='50%'),…"
      ]
     },
     "metadata": {},
     "output_type": "display_data"
    }
   ],
   "source": [
    "from pyspark.sql import SparkSession\n",
    "\n",
    "spark = SparkSession.builder.\\\n",
    "config(\"spark.jars.repositories\", \"https://repos.spark-packages.org/\").\\\n",
    "config(\"spark.jars.packages\", \"saurfang:spark-sas7bdat:2.0.0-s_2.11\").\\\n",
    "enableHiveSupport().getOrCreate()"
   ]
  },
  {
   "cell_type": "markdown",
   "id": "434caaca",
   "metadata": {},
   "source": [
    "### Step 1: Scope the Project and Gather Data\n",
    "\n",
    "#### Scope \n",
    "After investiagting as sample of the Data, and creating the Conceptual model, I loaded the full data sets into S3 in same region of this EMR o implement this model using PySpark.\n",
    "\n",
    "#### Describe and Gather Data \n",
    "I'm using US-Immigration data, and US Cities Demographics"
   ]
  },
  {
   "cell_type": "markdown",
   "id": "fca7f449",
   "metadata": {},
   "source": [
    "## 1. LOADING IMMIGRATION DATA"
   ]
  },
  {
   "cell_type": "code",
   "execution_count": 2,
   "id": "1f224307",
   "metadata": {},
   "outputs": [
    {
     "data": {
      "application/vnd.jupyter.widget-view+json": {
       "model_id": "5408eb3739f34b0cb372e2a0ecdf6b1a",
       "version_major": 2,
       "version_minor": 0
      },
      "text/plain": [
       "VBox()"
      ]
     },
     "metadata": {},
     "output_type": "display_data"
    },
    {
     "data": {
      "application/vnd.jupyter.widget-view+json": {
       "model_id": "",
       "version_major": 2,
       "version_minor": 0
      },
      "text/plain": [
       "FloatProgress(value=0.0, bar_style='info', description='Progress:', layout=Layout(height='25px', width='50%'),…"
      ]
     },
     "metadata": {},
     "output_type": "display_data"
    }
   ],
   "source": [
    "df_immigration=spark.read.parquet(\"s3://aws-logs-557613354735-us-east-1/New folder/sas_data/\")"
   ]
  },
  {
   "cell_type": "code",
   "execution_count": 3,
   "id": "70cab00f",
   "metadata": {},
   "outputs": [
    {
     "data": {
      "application/vnd.jupyter.widget-view+json": {
       "model_id": "783455a55c634f0c9a1a88f10ed17812",
       "version_major": 2,
       "version_minor": 0
      },
      "text/plain": [
       "VBox()"
      ]
     },
     "metadata": {},
     "output_type": "display_data"
    },
    {
     "data": {
      "application/vnd.jupyter.widget-view+json": {
       "model_id": "",
       "version_major": 2,
       "version_minor": 0
      },
      "text/plain": [
       "FloatProgress(value=0.0, bar_style='info', description='Progress:', layout=Layout(height='25px', width='50%'),…"
      ]
     },
     "metadata": {},
     "output_type": "display_data"
    },
    {
     "name": "stdout",
     "output_type": "stream",
     "text": [
      "3096313"
     ]
    }
   ],
   "source": [
    "df_immigration.count()"
   ]
  },
  {
   "cell_type": "code",
   "execution_count": 4,
   "id": "e2482c9e",
   "metadata": {},
   "outputs": [
    {
     "data": {
      "application/vnd.jupyter.widget-view+json": {
       "model_id": "210582ac96d0431698d6a90481c71ec6",
       "version_major": 2,
       "version_minor": 0
      },
      "text/plain": [
       "VBox()"
      ]
     },
     "metadata": {},
     "output_type": "display_data"
    },
    {
     "data": {
      "application/vnd.jupyter.widget-view+json": {
       "model_id": "",
       "version_major": 2,
       "version_minor": 0
      },
      "text/plain": [
       "FloatProgress(value=0.0, bar_style='info', description='Progress:', layout=Layout(height='25px', width='50%'),…"
      ]
     },
     "metadata": {},
     "output_type": "display_data"
    },
    {
     "name": "stdout",
     "output_type": "stream",
     "text": [
      "root\n",
      " |-- cicid: double (nullable = true)\n",
      " |-- i94yr: double (nullable = true)\n",
      " |-- i94mon: double (nullable = true)\n",
      " |-- i94cit: double (nullable = true)\n",
      " |-- i94res: double (nullable = true)\n",
      " |-- i94port: string (nullable = true)\n",
      " |-- arrdate: double (nullable = true)\n",
      " |-- i94mode: double (nullable = true)\n",
      " |-- i94addr: string (nullable = true)\n",
      " |-- depdate: double (nullable = true)\n",
      " |-- i94bir: double (nullable = true)\n",
      " |-- i94visa: double (nullable = true)\n",
      " |-- count: double (nullable = true)\n",
      " |-- dtadfile: string (nullable = true)\n",
      " |-- visapost: string (nullable = true)\n",
      " |-- occup: string (nullable = true)\n",
      " |-- entdepa: string (nullable = true)\n",
      " |-- entdepd: string (nullable = true)\n",
      " |-- entdepu: string (nullable = true)\n",
      " |-- matflag: string (nullable = true)\n",
      " |-- biryear: double (nullable = true)\n",
      " |-- dtaddto: string (nullable = true)\n",
      " |-- gender: string (nullable = true)\n",
      " |-- insnum: string (nullable = true)\n",
      " |-- airline: string (nullable = true)\n",
      " |-- admnum: double (nullable = true)\n",
      " |-- fltno: string (nullable = true)\n",
      " |-- visatype: string (nullable = true)"
     ]
    }
   ],
   "source": [
    "df_immigration.printSchema()"
   ]
  },
  {
   "cell_type": "code",
   "execution_count": 5,
   "id": "f70370da",
   "metadata": {},
   "outputs": [
    {
     "data": {
      "application/vnd.jupyter.widget-view+json": {
       "model_id": "8ceb2d571cbb43afb26de298e9c52335",
       "version_major": 2,
       "version_minor": 0
      },
      "text/plain": [
       "VBox()"
      ]
     },
     "metadata": {},
     "output_type": "display_data"
    },
    {
     "data": {
      "application/vnd.jupyter.widget-view+json": {
       "model_id": "",
       "version_major": 2,
       "version_minor": 0
      },
      "text/plain": [
       "FloatProgress(value=0.0, bar_style='info', description='Progress:', layout=Layout(height='25px', width='50%'),…"
      ]
     },
     "metadata": {},
     "output_type": "display_data"
    }
   ],
   "source": [
    "df_i94 = df_immigration.select([\n",
    "    \"cicid\", \"i94yr\", \"i94mon\", \"i94cit\", \"i94res\", \"i94mode\", \"i94bir\",\n",
    "    \"i94visa\", \"gender\", \"arrdate\", \"i94addr\"\n",
    "])"
   ]
  },
  {
   "cell_type": "code",
   "execution_count": 6,
   "id": "ca0aec53",
   "metadata": {},
   "outputs": [
    {
     "data": {
      "application/vnd.jupyter.widget-view+json": {
       "model_id": "cf1850637f0f4641ad960eb0af98419e",
       "version_major": 2,
       "version_minor": 0
      },
      "text/plain": [
       "VBox()"
      ]
     },
     "metadata": {},
     "output_type": "display_data"
    },
    {
     "data": {
      "application/vnd.jupyter.widget-view+json": {
       "model_id": "",
       "version_major": 2,
       "version_minor": 0
      },
      "text/plain": [
       "FloatProgress(value=0.0, bar_style='info', description='Progress:', layout=Layout(height='25px', width='50%'),…"
      ]
     },
     "metadata": {},
     "output_type": "display_data"
    },
    {
     "name": "stdout",
     "output_type": "stream",
     "text": [
      "DataFrame[cicid: double, i94yr: double, i94mon: double, i94cit: double, i94res: double, i94mode: double, i94bir: double, i94visa: double, gender: string, arrdate: double, i94addr: string]"
     ]
    }
   ],
   "source": [
    "df_i94"
   ]
  },
  {
   "cell_type": "code",
   "execution_count": 7,
   "id": "fd58375d",
   "metadata": {},
   "outputs": [
    {
     "data": {
      "application/vnd.jupyter.widget-view+json": {
       "model_id": "3b5e517585824929a35b91f2526161dc",
       "version_major": 2,
       "version_minor": 0
      },
      "text/plain": [
       "VBox()"
      ]
     },
     "metadata": {},
     "output_type": "display_data"
    },
    {
     "data": {
      "application/vnd.jupyter.widget-view+json": {
       "model_id": "",
       "version_major": 2,
       "version_minor": 0
      },
      "text/plain": [
       "FloatProgress(value=0.0, bar_style='info', description='Progress:', layout=Layout(height='25px', width='50%'),…"
      ]
     },
     "metadata": {},
     "output_type": "display_data"
    }
   ],
   "source": [
    "df_city_dem = spark.read.option(\"delimiter\", \";\").csv(\"s3://aws-logs-557613354735-us-east-1/New folder/us-cities-demographics.csv\")"
   ]
  },
  {
   "cell_type": "code",
   "execution_count": 8,
   "id": "f254fd13",
   "metadata": {},
   "outputs": [
    {
     "data": {
      "application/vnd.jupyter.widget-view+json": {
       "model_id": "9946617d010f4920ac40636b6fbad172",
       "version_major": 2,
       "version_minor": 0
      },
      "text/plain": [
       "VBox()"
      ]
     },
     "metadata": {},
     "output_type": "display_data"
    },
    {
     "data": {
      "application/vnd.jupyter.widget-view+json": {
       "model_id": "",
       "version_major": 2,
       "version_minor": 0
      },
      "text/plain": [
       "FloatProgress(value=0.0, bar_style='info', description='Progress:', layout=Layout(height='25px', width='50%'),…"
      ]
     },
     "metadata": {},
     "output_type": "display_data"
    },
    {
     "name": "stdout",
     "output_type": "stream",
     "text": [
      "+-------------+-------------+----------+---------------+-----------------+----------------+------------------+------------+--------------------+----------+------------------+-----+\n",
      "|          _c0|          _c1|       _c2|            _c3|              _c4|             _c5|               _c6|         _c7|                 _c8|       _c9|              _c10| _c11|\n",
      "+-------------+-------------+----------+---------------+-----------------+----------------+------------------+------------+--------------------+----------+------------------+-----+\n",
      "|         City|        State|Median Age|Male Population|Female Population|Total Population|Number of Veterans|Foreign-born|Average Household...|State Code|              Race|Count|\n",
      "|Silver Spring|     Maryland|      33.8|          40601|            41862|           82463|              1562|       30908|                 2.6|        MD|Hispanic or Latino|25924|\n",
      "|       Quincy|Massachusetts|      41.0|          44129|            49500|           93629|              4147|       32935|                2.39|        MA|             White|58723|\n",
      "+-------------+-------------+----------+---------------+-----------------+----------------+------------------+------------+--------------------+----------+------------------+-----+\n",
      "only showing top 3 rows"
     ]
    }
   ],
   "source": [
    "df_city_dem.show(3)"
   ]
  },
  {
   "cell_type": "code",
   "execution_count": 9,
   "id": "e344a2f7",
   "metadata": {},
   "outputs": [
    {
     "data": {
      "application/vnd.jupyter.widget-view+json": {
       "model_id": "bc18482aed834e70819f1122e0292c8f",
       "version_major": 2,
       "version_minor": 0
      },
      "text/plain": [
       "VBox()"
      ]
     },
     "metadata": {},
     "output_type": "display_data"
    },
    {
     "data": {
      "application/vnd.jupyter.widget-view+json": {
       "model_id": "",
       "version_major": 2,
       "version_minor": 0
      },
      "text/plain": [
       "FloatProgress(value=0.0, bar_style='info', description='Progress:', layout=Layout(height='25px', width='50%'),…"
      ]
     },
     "metadata": {},
     "output_type": "display_data"
    }
   ],
   "source": [
    "df_mode  = spark.read.csv(\"s3://aws-logs-557613354735-us-east-1/New folder/data_n/i94mode.csv\")"
   ]
  },
  {
   "cell_type": "code",
   "execution_count": 10,
   "id": "b5b44a60",
   "metadata": {},
   "outputs": [
    {
     "data": {
      "application/vnd.jupyter.widget-view+json": {
       "model_id": "185f545159b24120939a8e6d931cbe3c",
       "version_major": 2,
       "version_minor": 0
      },
      "text/plain": [
       "VBox()"
      ]
     },
     "metadata": {},
     "output_type": "display_data"
    },
    {
     "data": {
      "application/vnd.jupyter.widget-view+json": {
       "model_id": "",
       "version_major": 2,
       "version_minor": 0
      },
      "text/plain": [
       "FloatProgress(value=0.0, bar_style='info', description='Progress:', layout=Layout(height='25px', width='50%'),…"
      ]
     },
     "metadata": {},
     "output_type": "display_data"
    },
    {
     "name": "stdout",
     "output_type": "stream",
     "text": [
      "+----+----+\n",
      "| _c0| _c1|\n",
      "+----+----+\n",
      "|code|mode|\n",
      "|   1| Air|\n",
      "+----+----+\n",
      "only showing top 2 rows"
     ]
    }
   ],
   "source": [
    "df_mode.show(2)"
   ]
  },
  {
   "cell_type": "code",
   "execution_count": 11,
   "id": "aef66062",
   "metadata": {},
   "outputs": [
    {
     "data": {
      "application/vnd.jupyter.widget-view+json": {
       "model_id": "05af633e8c67431cae0c949ca8f77fab",
       "version_major": 2,
       "version_minor": 0
      },
      "text/plain": [
       "VBox()"
      ]
     },
     "metadata": {},
     "output_type": "display_data"
    },
    {
     "data": {
      "application/vnd.jupyter.widget-view+json": {
       "model_id": "",
       "version_major": 2,
       "version_minor": 0
      },
      "text/plain": [
       "FloatProgress(value=0.0, bar_style='info', description='Progress:', layout=Layout(height='25px', width='50%'),…"
      ]
     },
     "metadata": {},
     "output_type": "display_data"
    }
   ],
   "source": [
    "df_country = spark.read.csv(\"s3://aws-logs-557613354735-us-east-1/New folder/data_n/i94cit_res.csv\")\n",
    "df_visa = spark.read.csv(\"s3://aws-logs-557613354735-us-east-1/New folder/data_n/i94visa.csv\")\n",
    "df_address = spark.read.csv(\"s3://aws-logs-557613354735-us-east-1/New folder/data_n/i94addr.csv\")"
   ]
  },
  {
   "cell_type": "code",
   "execution_count": 12,
   "id": "840b62d4",
   "metadata": {},
   "outputs": [
    {
     "data": {
      "application/vnd.jupyter.widget-view+json": {
       "model_id": "7c22060aa5684c48a65f9a9578e271ac",
       "version_major": 2,
       "version_minor": 0
      },
      "text/plain": [
       "VBox()"
      ]
     },
     "metadata": {},
     "output_type": "display_data"
    },
    {
     "data": {
      "application/vnd.jupyter.widget-view+json": {
       "model_id": "",
       "version_major": 2,
       "version_minor": 0
      },
      "text/plain": [
       "FloatProgress(value=0.0, bar_style='info', description='Progress:', layout=Layout(height='25px', width='50%'),…"
      ]
     },
     "metadata": {},
     "output_type": "display_data"
    },
    {
     "name": "stdout",
     "output_type": "stream",
     "text": [
      "+----+--------------------+\n",
      "| _c0|                 _c1|\n",
      "+----+--------------------+\n",
      "|code|             country|\n",
      "| 525|BRITISH VIRGIN IS...|\n",
      "+----+--------------------+\n",
      "only showing top 2 rows"
     ]
    }
   ],
   "source": [
    "df_country.show(2)"
   ]
  },
  {
   "cell_type": "code",
   "execution_count": 13,
   "id": "4863d913",
   "metadata": {},
   "outputs": [
    {
     "data": {
      "application/vnd.jupyter.widget-view+json": {
       "model_id": "4c1afc2f699b4b539e1641f4582260ba",
       "version_major": 2,
       "version_minor": 0
      },
      "text/plain": [
       "VBox()"
      ]
     },
     "metadata": {},
     "output_type": "display_data"
    },
    {
     "data": {
      "application/vnd.jupyter.widget-view+json": {
       "model_id": "",
       "version_major": 2,
       "version_minor": 0
      },
      "text/plain": [
       "FloatProgress(value=0.0, bar_style='info', description='Progress:', layout=Layout(height='25px', width='50%'),…"
      ]
     },
     "metadata": {},
     "output_type": "display_data"
    },
    {
     "name": "stdout",
     "output_type": "stream",
     "text": [
      "+----+---------+\n",
      "| _c0|      _c1|\n",
      "+----+---------+\n",
      "|code|visa_type|\n",
      "|   1| Business|\n",
      "+----+---------+\n",
      "only showing top 2 rows"
     ]
    }
   ],
   "source": [
    "df_visa.show(2)"
   ]
  },
  {
   "cell_type": "code",
   "execution_count": 14,
   "id": "150ca38d",
   "metadata": {},
   "outputs": [
    {
     "data": {
      "application/vnd.jupyter.widget-view+json": {
       "model_id": "5f5f44caa4b14c2e8758d8489508df37",
       "version_major": 2,
       "version_minor": 0
      },
      "text/plain": [
       "VBox()"
      ]
     },
     "metadata": {},
     "output_type": "display_data"
    },
    {
     "data": {
      "application/vnd.jupyter.widget-view+json": {
       "model_id": "",
       "version_major": 2,
       "version_minor": 0
      },
      "text/plain": [
       "FloatProgress(value=0.0, bar_style='info', description='Progress:', layout=Layout(height='25px', width='50%'),…"
      ]
     },
     "metadata": {},
     "output_type": "display_data"
    },
    {
     "name": "stdout",
     "output_type": "stream",
     "text": [
      "+----+-------+\n",
      "| _c0|    _c1|\n",
      "+----+-------+\n",
      "|code|  state|\n",
      "|  AL|ALABAMA|\n",
      "+----+-------+\n",
      "only showing top 2 rows"
     ]
    }
   ],
   "source": [
    "df_address.show(2)"
   ]
  },
  {
   "cell_type": "markdown",
   "id": "6534cd16",
   "metadata": {},
   "source": [
    "### Step 2: Explore and Assess the Data\n",
    "#### Explore the Data \n",
    "Identify data quality issues, like missing values, duplicate data, etc.\n",
    "\n",
    "#### Cleaning Steps\n",
    "- Immigratinon Data\n",
    "    1. Choose only the wanted columns.\n",
    "    2. Fixing Data Types\n",
    "    3. Get Date from SAS Date\n",
    "    4. Rename Columns\n",
    "    5. drop negative ages\n",
    "- OTHER\n",
    "   1. fix headers"
   ]
  },
  {
   "cell_type": "code",
   "execution_count": 15,
   "id": "c434f390",
   "metadata": {},
   "outputs": [
    {
     "data": {
      "application/vnd.jupyter.widget-view+json": {
       "model_id": "f24bbc88fd8e44bf8119a2d03d8983a2",
       "version_major": 2,
       "version_minor": 0
      },
      "text/plain": [
       "VBox()"
      ]
     },
     "metadata": {},
     "output_type": "display_data"
    },
    {
     "data": {
      "application/vnd.jupyter.widget-view+json": {
       "model_id": "",
       "version_major": 2,
       "version_minor": 0
      },
      "text/plain": [
       "FloatProgress(value=0.0, bar_style='info', description='Progress:', layout=Layout(height='25px', width='50%'),…"
      ]
     },
     "metadata": {},
     "output_type": "display_data"
    },
    {
     "name": "stdout",
     "output_type": "stream",
     "text": [
      "+-----+-----+\n",
      "|cicid|count|\n",
      "+-----+-----+\n",
      "+-----+-----+"
     ]
    }
   ],
   "source": [
    "df_i94 \\\n",
    "    .groupby(['cicid']) \\\n",
    "    .count() \\\n",
    "    .where('count > 1') \\\n",
    "    .sort('count', ascending=False) \\\n",
    "    .show()"
   ]
  },
  {
   "cell_type": "code",
   "execution_count": 16,
   "id": "3b30864d",
   "metadata": {},
   "outputs": [
    {
     "data": {
      "application/vnd.jupyter.widget-view+json": {
       "model_id": "a152de10841246caae250af0e06ff871",
       "version_major": 2,
       "version_minor": 0
      },
      "text/plain": [
       "VBox()"
      ]
     },
     "metadata": {},
     "output_type": "display_data"
    },
    {
     "data": {
      "application/vnd.jupyter.widget-view+json": {
       "model_id": "",
       "version_major": 2,
       "version_minor": 0
      },
      "text/plain": [
       "FloatProgress(value=0.0, bar_style='info', description='Progress:', layout=Layout(height='25px', width='50%'),…"
      ]
     },
     "metadata": {},
     "output_type": "display_data"
    },
    {
     "name": "stdout",
     "output_type": "stream",
     "text": [
      "root\n",
      " |-- cicid: double (nullable = true)\n",
      " |-- i94yr: double (nullable = true)\n",
      " |-- i94mon: double (nullable = true)\n",
      " |-- i94cit: double (nullable = true)\n",
      " |-- i94res: double (nullable = true)\n",
      " |-- i94mode: double (nullable = true)\n",
      " |-- i94bir: double (nullable = true)\n",
      " |-- i94visa: double (nullable = true)\n",
      " |-- gender: string (nullable = true)\n",
      " |-- arrdate: double (nullable = true)\n",
      " |-- i94addr: string (nullable = true)"
     ]
    }
   ],
   "source": [
    "df_i94.printSchema()"
   ]
  },
  {
   "cell_type": "code",
   "execution_count": 17,
   "id": "720f1b9b",
   "metadata": {},
   "outputs": [
    {
     "data": {
      "application/vnd.jupyter.widget-view+json": {
       "model_id": "a845004248a84d4096b53c8ff7c86d67",
       "version_major": 2,
       "version_minor": 0
      },
      "text/plain": [
       "VBox()"
      ]
     },
     "metadata": {},
     "output_type": "display_data"
    },
    {
     "data": {
      "application/vnd.jupyter.widget-view+json": {
       "model_id": "",
       "version_major": 2,
       "version_minor": 0
      },
      "text/plain": [
       "FloatProgress(value=0.0, bar_style='info', description='Progress:', layout=Layout(height='25px', width='50%'),…"
      ]
     },
     "metadata": {},
     "output_type": "display_data"
    }
   ],
   "source": [
    "from pyspark.sql.types import IntegerType, DateType\n",
    "df_i94 = df_i94.withColumn(\"cicid\",df_i94.cicid.cast(IntegerType()))\n",
    "df_i94 = df_i94.withColumn(\"i94yr\",df_i94.i94yr.cast(IntegerType()))\n",
    "df_i94 = df_i94.withColumn(\"i94mon\",df_i94.i94mon.cast(IntegerType()))\n",
    "df_i94 = df_i94.withColumn(\"i94cit\",df_i94.i94cit.cast(IntegerType()))\n",
    "df_i94 = df_i94.withColumn(\"i94res\",df_i94.i94res.cast(IntegerType()))\n",
    "df_i94 = df_i94.withColumn(\"i94mode\",df_i94.i94mode.cast(IntegerType()))\n",
    "df_i94 = df_i94.withColumn(\"i94bir\",df_i94.i94bir.cast(IntegerType()))\n",
    "df_i94 = df_i94.withColumn(\"i94visa\",df_i94.i94visa.cast(IntegerType()))\n",
    "df_i94 = df_i94.withColumn(\"arrdate\",df_i94.arrdate.cast(IntegerType()))"
   ]
  },
  {
   "cell_type": "code",
   "execution_count": 18,
   "id": "ad63c0e5",
   "metadata": {},
   "outputs": [
    {
     "data": {
      "application/vnd.jupyter.widget-view+json": {
       "model_id": "29cd0705b0c0439ab50065767d634311",
       "version_major": 2,
       "version_minor": 0
      },
      "text/plain": [
       "VBox()"
      ]
     },
     "metadata": {},
     "output_type": "display_data"
    },
    {
     "data": {
      "application/vnd.jupyter.widget-view+json": {
       "model_id": "",
       "version_major": 2,
       "version_minor": 0
      },
      "text/plain": [
       "FloatProgress(value=0.0, bar_style='info', description='Progress:', layout=Layout(height='25px', width='50%'),…"
      ]
     },
     "metadata": {},
     "output_type": "display_data"
    },
    {
     "name": "stdout",
     "output_type": "stream",
     "text": [
      "root\n",
      " |-- cicid: integer (nullable = true)\n",
      " |-- i94yr: integer (nullable = true)\n",
      " |-- i94mon: integer (nullable = true)\n",
      " |-- i94cit: integer (nullable = true)\n",
      " |-- i94res: integer (nullable = true)\n",
      " |-- i94mode: integer (nullable = true)\n",
      " |-- i94bir: integer (nullable = true)\n",
      " |-- i94visa: integer (nullable = true)\n",
      " |-- gender: string (nullable = true)\n",
      " |-- arrdate: integer (nullable = true)\n",
      " |-- i94addr: string (nullable = true)"
     ]
    }
   ],
   "source": [
    "df_i94.printSchema()"
   ]
  },
  {
   "cell_type": "code",
   "execution_count": 19,
   "id": "0951dba5",
   "metadata": {},
   "outputs": [
    {
     "data": {
      "application/vnd.jupyter.widget-view+json": {
       "model_id": "79dadc0fe3584b5b9b10437c307eabc5",
       "version_major": 2,
       "version_minor": 0
      },
      "text/plain": [
       "VBox()"
      ]
     },
     "metadata": {},
     "output_type": "display_data"
    },
    {
     "data": {
      "application/vnd.jupyter.widget-view+json": {
       "model_id": "",
       "version_major": 2,
       "version_minor": 0
      },
      "text/plain": [
       "FloatProgress(value=0.0, bar_style='info', description='Progress:', layout=Layout(height='25px', width='50%'),…"
      ]
     },
     "metadata": {},
     "output_type": "display_data"
    }
   ],
   "source": [
    "from pyspark.sql import functions as F\n",
    "from datetime import datetime, timedelta\n",
    "def get_date(x):\n",
    "    \"\"\"\n",
    "    Getting Dates from SAD DATE\n",
    "    # https://libguides.library.kent.edu/SAS/DatesTime\n",
    "    \"\"\"\n",
    "    try:\n",
    "        start = datetime(1960, 1, 1)\n",
    "        return start + timedelta(days=x)\n",
    "    except:\n",
    "        return None\n",
    "    \n",
    "get_date = F.udf(get_date, DateType())"
   ]
  },
  {
   "cell_type": "code",
   "execution_count": 20,
   "id": "fb795ae4",
   "metadata": {},
   "outputs": [
    {
     "data": {
      "application/vnd.jupyter.widget-view+json": {
       "model_id": "b2007998084c47d2b94e5cba85268626",
       "version_major": 2,
       "version_minor": 0
      },
      "text/plain": [
       "VBox()"
      ]
     },
     "metadata": {},
     "output_type": "display_data"
    },
    {
     "data": {
      "application/vnd.jupyter.widget-view+json": {
       "model_id": "",
       "version_major": 2,
       "version_minor": 0
      },
      "text/plain": [
       "FloatProgress(value=0.0, bar_style='info', description='Progress:', layout=Layout(height='25px', width='50%'),…"
      ]
     },
     "metadata": {},
     "output_type": "display_data"
    },
    {
     "name": "stdout",
     "output_type": "stream",
     "text": [
      "+-------+----------+\n",
      "|arrdate|      date|\n",
      "+-------+----------+\n",
      "|  20574|2016-04-30|\n",
      "|  20574|2016-04-30|\n",
      "|  20574|2016-04-30|\n",
      "|  20574|2016-04-30|\n",
      "|  20574|2016-04-30|\n",
      "|  20574|2016-04-30|\n",
      "|  20574|2016-04-30|\n",
      "|  20574|2016-04-30|\n",
      "|  20574|2016-04-30|\n",
      "|  20574|2016-04-30|\n",
      "|  20574|2016-04-30|\n",
      "|  20574|2016-04-30|\n",
      "|  20574|2016-04-30|\n",
      "|  20574|2016-04-30|\n",
      "|  20574|2016-04-30|\n",
      "|  20574|2016-04-30|\n",
      "|  20574|2016-04-30|\n",
      "|  20574|2016-04-30|\n",
      "|  20574|2016-04-30|\n",
      "|  20574|2016-04-30|\n",
      "+-------+----------+\n",
      "only showing top 20 rows"
     ]
    }
   ],
   "source": [
    "df_i94.select('arrdate', get_date('arrdate').alias(\"date\")).show()"
   ]
  },
  {
   "cell_type": "code",
   "execution_count": 21,
   "id": "97855b37",
   "metadata": {},
   "outputs": [
    {
     "data": {
      "application/vnd.jupyter.widget-view+json": {
       "model_id": "e8e964828a8a4c14beed2dd89738d7f4",
       "version_major": 2,
       "version_minor": 0
      },
      "text/plain": [
       "VBox()"
      ]
     },
     "metadata": {},
     "output_type": "display_data"
    },
    {
     "data": {
      "application/vnd.jupyter.widget-view+json": {
       "model_id": "",
       "version_major": 2,
       "version_minor": 0
      },
      "text/plain": [
       "FloatProgress(value=0.0, bar_style='info', description='Progress:', layout=Layout(height='25px', width='50%'),…"
      ]
     },
     "metadata": {},
     "output_type": "display_data"
    }
   ],
   "source": [
    "df_i94 = df_i94.withColumn(\"arrdate\", get_date(df_i94.arrdate)) "
   ]
  },
  {
   "cell_type": "code",
   "execution_count": 22,
   "id": "0672dba5",
   "metadata": {},
   "outputs": [
    {
     "data": {
      "application/vnd.jupyter.widget-view+json": {
       "model_id": "1b6c0955efe04c949184841d33b40f7f",
       "version_major": 2,
       "version_minor": 0
      },
      "text/plain": [
       "VBox()"
      ]
     },
     "metadata": {},
     "output_type": "display_data"
    },
    {
     "data": {
      "application/vnd.jupyter.widget-view+json": {
       "model_id": "",
       "version_major": 2,
       "version_minor": 0
      },
      "text/plain": [
       "FloatProgress(value=0.0, bar_style='info', description='Progress:', layout=Layout(height='25px', width='50%'),…"
      ]
     },
     "metadata": {},
     "output_type": "display_data"
    },
    {
     "name": "stdout",
     "output_type": "stream",
     "text": [
      "root\n",
      " |-- cicid: integer (nullable = true)\n",
      " |-- i94yr: integer (nullable = true)\n",
      " |-- i94mon: integer (nullable = true)\n",
      " |-- i94cit: integer (nullable = true)\n",
      " |-- i94res: integer (nullable = true)\n",
      " |-- i94mode: integer (nullable = true)\n",
      " |-- i94bir: integer (nullable = true)\n",
      " |-- i94visa: integer (nullable = true)\n",
      " |-- gender: string (nullable = true)\n",
      " |-- arrdate: date (nullable = true)\n",
      " |-- i94addr: string (nullable = true)"
     ]
    }
   ],
   "source": [
    "df_i94.printSchema()"
   ]
  },
  {
   "cell_type": "code",
   "execution_count": 23,
   "id": "6cebc285",
   "metadata": {},
   "outputs": [
    {
     "data": {
      "application/vnd.jupyter.widget-view+json": {
       "model_id": "f09472a660c347daad25f8fed4a25828",
       "version_major": 2,
       "version_minor": 0
      },
      "text/plain": [
       "VBox()"
      ]
     },
     "metadata": {},
     "output_type": "display_data"
    },
    {
     "data": {
      "application/vnd.jupyter.widget-view+json": {
       "model_id": "",
       "version_major": 2,
       "version_minor": 0
      },
      "text/plain": [
       "FloatProgress(value=0.0, bar_style='info', description='Progress:', layout=Layout(height='25px', width='50%'),…"
      ]
     },
     "metadata": {},
     "output_type": "display_data"
    }
   ],
   "source": [
    "df_i94 = df_i94.withColumnRenamed(\"cicid\", \"id\")\n",
    "df_i94 = df_i94.withColumnRenamed(\"i94yr\", \"year\")\n",
    "df_i94 = df_i94.withColumnRenamed(\"i94mon\", \"month\")\n",
    "df_i94 = df_i94.withColumnRenamed(\"i94cit\", \"citizenship_code\")\n",
    "df_i94 = df_i94.withColumnRenamed(\"i94res\", \"residence_code\")\n",
    "df_i94 = df_i94.withColumnRenamed(\"i94mode\", \"mode\")\n",
    "df_i94 = df_i94.withColumnRenamed(\"i94bir\", \"age\")\n",
    "df_i94 = df_i94.withColumnRenamed(\"i94visa\", \"visa_type\")\n",
    "df_i94 = df_i94.withColumnRenamed(\"arrdate\", \"dt_arrival\")\n",
    "df_i94 = df_i94.withColumnRenamed(\"i94addr\", \"address\")"
   ]
  },
  {
   "cell_type": "code",
   "execution_count": 24,
   "id": "f21a71dc",
   "metadata": {},
   "outputs": [
    {
     "data": {
      "application/vnd.jupyter.widget-view+json": {
       "model_id": "e241c3ab70c643eca6d8de423d84e66b",
       "version_major": 2,
       "version_minor": 0
      },
      "text/plain": [
       "VBox()"
      ]
     },
     "metadata": {},
     "output_type": "display_data"
    },
    {
     "data": {
      "application/vnd.jupyter.widget-view+json": {
       "model_id": "",
       "version_major": 2,
       "version_minor": 0
      },
      "text/plain": [
       "FloatProgress(value=0.0, bar_style='info', description='Progress:', layout=Layout(height='25px', width='50%'),…"
      ]
     },
     "metadata": {},
     "output_type": "display_data"
    },
    {
     "name": "stdout",
     "output_type": "stream",
     "text": [
      "+-------+----+-----+----------------+--------------+----+---+---------+------+----------+-------+\n",
      "|     id|year|month|citizenship_code|residence_code|mode|age|visa_type|gender|dt_arrival|address|\n",
      "+-------+----+-----+----------------+--------------+----+---+---------+------+----------+-------+\n",
      "|5748517|2016|    4|             245|           438|   1| 40|        1|     F|2016-04-30|     CA|\n",
      "|5748518|2016|    4|             245|           438|   1| 32|        1|     F|2016-04-30|     NV|\n",
      "+-------+----+-----+----------------+--------------+----+---+---------+------+----------+-------+\n",
      "only showing top 2 rows\n",
      "\n",
      "----------------------------------------\n",
      "Exception happened during processing of request from ('127.0.0.1', 49254)\n",
      "Traceback (most recent call last):\n",
      "  File \"/usr/lib64/python3.6/socketserver.py\", line 320, in _handle_request_noblock\n",
      "    self.process_request(request, client_address)\n",
      "  File \"/usr/lib64/python3.6/socketserver.py\", line 351, in process_request\n",
      "    self.finish_request(request, client_address)\n",
      "  File \"/usr/lib64/python3.6/socketserver.py\", line 364, in finish_request\n",
      "    self.RequestHandlerClass(request, client_address, self)\n",
      "  File \"/usr/lib64/python3.6/socketserver.py\", line 724, in __init__\n",
      "    self.handle()\n",
      "  File \"/usr/lib/spark/python/lib/pyspark.zip/pyspark/accumulators.py\", line 266, in handle\n",
      "    poll(authenticate_and_accum_updates)\n",
      "  File \"/usr/lib/spark/python/lib/pyspark.zip/pyspark/accumulators.py\", line 241, in poll\n",
      "    if func():\n",
      "  File \"/usr/lib/spark/python/lib/pyspark.zip/pyspark/accumulators.py\", line 254, in authenticate_and_accum_updates\n",
      "    received_token = self.rfile.read(len(auth_token))\n",
      "TypeError: object of type 'NoneType' has no len()\n",
      "----------------------------------------"
     ]
    }
   ],
   "source": [
    "df_i94.show(2)"
   ]
  },
  {
   "cell_type": "code",
   "execution_count": 25,
   "id": "8da0cd69",
   "metadata": {},
   "outputs": [
    {
     "data": {
      "application/vnd.jupyter.widget-view+json": {
       "model_id": "3a75c7204d0b4120a81cab970e1b7296",
       "version_major": 2,
       "version_minor": 0
      },
      "text/plain": [
       "VBox()"
      ]
     },
     "metadata": {},
     "output_type": "display_data"
    },
    {
     "data": {
      "application/vnd.jupyter.widget-view+json": {
       "model_id": "",
       "version_major": 2,
       "version_minor": 0
      },
      "text/plain": [
       "FloatProgress(value=0.0, bar_style='info', description='Progress:', layout=Layout(height='25px', width='50%'),…"
      ]
     },
     "metadata": {},
     "output_type": "display_data"
    },
    {
     "name": "stdout",
     "output_type": "stream",
     "text": [
      "root\n",
      " |-- id: integer (nullable = true)\n",
      " |-- year: integer (nullable = true)\n",
      " |-- month: integer (nullable = true)\n",
      " |-- citizenship_code: integer (nullable = true)\n",
      " |-- residence_code: integer (nullable = true)\n",
      " |-- mode: integer (nullable = true)\n",
      " |-- age: integer (nullable = true)\n",
      " |-- visa_type: integer (nullable = true)\n",
      " |-- gender: string (nullable = true)\n",
      " |-- dt_arrival: date (nullable = true)\n",
      " |-- address: string (nullable = true)"
     ]
    }
   ],
   "source": [
    "df_i94.printSchema()"
   ]
  },
  {
   "cell_type": "code",
   "execution_count": 26,
   "id": "79efb0a5",
   "metadata": {},
   "outputs": [
    {
     "data": {
      "application/vnd.jupyter.widget-view+json": {
       "model_id": "d0872764d1e149eaa45fa6dca89f694c",
       "version_major": 2,
       "version_minor": 0
      },
      "text/plain": [
       "VBox()"
      ]
     },
     "metadata": {},
     "output_type": "display_data"
    },
    {
     "data": {
      "application/vnd.jupyter.widget-view+json": {
       "model_id": "",
       "version_major": 2,
       "version_minor": 0
      },
      "text/plain": [
       "FloatProgress(value=0.0, bar_style='info', description='Progress:', layout=Layout(height='25px', width='50%'),…"
      ]
     },
     "metadata": {},
     "output_type": "display_data"
    }
   ],
   "source": [
    "df_i94.createOrReplaceTempView('i94')\n"
   ]
  },
  {
   "cell_type": "code",
   "execution_count": 27,
   "id": "e991d824",
   "metadata": {},
   "outputs": [
    {
     "data": {
      "application/vnd.jupyter.widget-view+json": {
       "model_id": "d9420696cd9141c08c74e5fbed5db0e6",
       "version_major": 2,
       "version_minor": 0
      },
      "text/plain": [
       "VBox()"
      ]
     },
     "metadata": {},
     "output_type": "display_data"
    },
    {
     "data": {
      "application/vnd.jupyter.widget-view+json": {
       "model_id": "",
       "version_major": 2,
       "version_minor": 0
      },
      "text/plain": [
       "FloatProgress(value=0.0, bar_style='info', description='Progress:', layout=Layout(height='25px', width='50%'),…"
      ]
     },
     "metadata": {},
     "output_type": "display_data"
    },
    {
     "name": "stdout",
     "output_type": "stream",
     "text": [
      "+-------+----+-----+----------------+--------------+----+---+---------+------+----------+-------+\n",
      "|     id|year|month|citizenship_code|residence_code|mode|age|visa_type|gender|dt_arrival|address|\n",
      "+-------+----+-----+----------------+--------------+----+---+---------+------+----------+-------+\n",
      "|1817663|2016|    4|             148|           131|   1| 23|        2|     F|2016-04-10|     CA|\n",
      "|1817664|2016|    4|             148|           131|   1| 29|        1|     M|2016-04-10|     CA|\n",
      "|1817665|2016|    4|             148|           131|   1| 47|        1|     M|2016-04-10|     CA|\n",
      "|1817666|2016|    4|             148|           131|   1| 37|        2|     F|2016-04-10|     CA|\n",
      "|1817667|2016|    4|             148|           131|   1| 41|        2|     M|2016-04-10|     CA|\n",
      "+-------+----+-----+----------------+--------------+----+---+---------+------+----------+-------+"
     ]
    }
   ],
   "source": [
    "spark.sql(\"SELECT * FROM i94 LIMIT 5\").show()"
   ]
  },
  {
   "cell_type": "code",
   "execution_count": 28,
   "id": "b9c7a203",
   "metadata": {},
   "outputs": [
    {
     "data": {
      "application/vnd.jupyter.widget-view+json": {
       "model_id": "b3adcc7b66ca4c968d0f9f1f7e31597b",
       "version_major": 2,
       "version_minor": 0
      },
      "text/plain": [
       "VBox()"
      ]
     },
     "metadata": {},
     "output_type": "display_data"
    },
    {
     "data": {
      "application/vnd.jupyter.widget-view+json": {
       "model_id": "",
       "version_major": 2,
       "version_minor": 0
      },
      "text/plain": [
       "FloatProgress(value=0.0, bar_style='info', description='Progress:', layout=Layout(height='25px', width='50%'),…"
      ]
     },
     "metadata": {},
     "output_type": "display_data"
    },
    {
     "name": "stdout",
     "output_type": "stream",
     "text": [
      "+---------------+---------------+\n",
      "|max(dt_arrival)|min(dt_arrival)|\n",
      "+---------------+---------------+\n",
      "|     2016-04-30|     2016-04-01|\n",
      "+---------------+---------------+"
     ]
    }
   ],
   "source": [
    "spark.sql(\"SELECT max(dt_arrival), min(dt_arrival) FROM i94 LIMIT 5\").show()"
   ]
  },
  {
   "cell_type": "code",
   "execution_count": 29,
   "id": "0cb3f6d0",
   "metadata": {},
   "outputs": [
    {
     "data": {
      "application/vnd.jupyter.widget-view+json": {
       "model_id": "d319d233c55c478db58800be63259331",
       "version_major": 2,
       "version_minor": 0
      },
      "text/plain": [
       "VBox()"
      ]
     },
     "metadata": {},
     "output_type": "display_data"
    },
    {
     "data": {
      "application/vnd.jupyter.widget-view+json": {
       "model_id": "",
       "version_major": 2,
       "version_minor": 0
      },
      "text/plain": [
       "FloatProgress(value=0.0, bar_style='info', description='Progress:', layout=Layout(height='25px', width='50%'),…"
      ]
     },
     "metadata": {},
     "output_type": "display_data"
    },
    {
     "name": "stdout",
     "output_type": "stream",
     "text": [
      "+--------+--------+------------------+\n",
      "|max(age)|min(age)|          avg(age)|\n",
      "+--------+--------+------------------+\n",
      "|     114|      -3|41.767614458485205|\n",
      "+--------+--------+------------------+"
     ]
    }
   ],
   "source": [
    "spark.sql(\"SELECT max(age), min(age), avg(age) FROM i94 LIMIT 5\").show()"
   ]
  },
  {
   "cell_type": "markdown",
   "id": "62819916",
   "metadata": {},
   "source": [
    "## drop -ve ages"
   ]
  },
  {
   "cell_type": "code",
   "execution_count": 30,
   "id": "15e6a055",
   "metadata": {},
   "outputs": [
    {
     "data": {
      "application/vnd.jupyter.widget-view+json": {
       "model_id": "cada363b92d04db7a12e90611ae0720c",
       "version_major": 2,
       "version_minor": 0
      },
      "text/plain": [
       "VBox()"
      ]
     },
     "metadata": {},
     "output_type": "display_data"
    },
    {
     "data": {
      "application/vnd.jupyter.widget-view+json": {
       "model_id": "",
       "version_major": 2,
       "version_minor": 0
      },
      "text/plain": [
       "FloatProgress(value=0.0, bar_style='info', description='Progress:', layout=Layout(height='25px', width='50%'),…"
      ]
     },
     "metadata": {},
     "output_type": "display_data"
    }
   ],
   "source": [
    "df_i94 = df_i94.where(df_i94.age > 0)"
   ]
  },
  {
   "cell_type": "code",
   "execution_count": 31,
   "id": "09d14b85",
   "metadata": {},
   "outputs": [
    {
     "data": {
      "application/vnd.jupyter.widget-view+json": {
       "model_id": "c30f1c6eb7f242dd9c971b661f78403f",
       "version_major": 2,
       "version_minor": 0
      },
      "text/plain": [
       "VBox()"
      ]
     },
     "metadata": {},
     "output_type": "display_data"
    },
    {
     "data": {
      "application/vnd.jupyter.widget-view+json": {
       "model_id": "",
       "version_major": 2,
       "version_minor": 0
      },
      "text/plain": [
       "FloatProgress(value=0.0, bar_style='info', description='Progress:', layout=Layout(height='25px', width='50%'),…"
      ]
     },
     "metadata": {},
     "output_type": "display_data"
    }
   ],
   "source": [
    "df_i94.createOrReplaceTempView('i94')"
   ]
  },
  {
   "cell_type": "code",
   "execution_count": 32,
   "id": "f41c34bf",
   "metadata": {},
   "outputs": [
    {
     "data": {
      "application/vnd.jupyter.widget-view+json": {
       "model_id": "d08018cf856240fbb7f96b3c3241fe4c",
       "version_major": 2,
       "version_minor": 0
      },
      "text/plain": [
       "VBox()"
      ]
     },
     "metadata": {},
     "output_type": "display_data"
    },
    {
     "data": {
      "application/vnd.jupyter.widget-view+json": {
       "model_id": "",
       "version_major": 2,
       "version_minor": 0
      },
      "text/plain": [
       "FloatProgress(value=0.0, bar_style='info', description='Progress:', layout=Layout(height='25px', width='50%'),…"
      ]
     },
     "metadata": {},
     "output_type": "display_data"
    },
    {
     "name": "stdout",
     "output_type": "stream",
     "text": [
      "+--------+--------+-----------------+\n",
      "|max(age)|min(age)|         avg(age)|\n",
      "+--------+--------+-----------------+\n",
      "|     114|       1|41.77795359553049|\n",
      "+--------+--------+-----------------+"
     ]
    }
   ],
   "source": [
    "spark.sql(\"SELECT max(age), min(age), avg(age) FROM i94 LIMIT 5\").show()"
   ]
  },
  {
   "cell_type": "code",
   "execution_count": 33,
   "id": "07ee4473",
   "metadata": {},
   "outputs": [
    {
     "data": {
      "application/vnd.jupyter.widget-view+json": {
       "model_id": "2e3177b7713749139464738389f6be0a",
       "version_major": 2,
       "version_minor": 0
      },
      "text/plain": [
       "VBox()"
      ]
     },
     "metadata": {},
     "output_type": "display_data"
    },
    {
     "data": {
      "application/vnd.jupyter.widget-view+json": {
       "model_id": "",
       "version_major": 2,
       "version_minor": 0
      },
      "text/plain": [
       "FloatProgress(value=0.0, bar_style='info', description='Progress:', layout=Layout(height='25px', width='50%'),…"
      ]
     },
     "metadata": {},
     "output_type": "display_data"
    },
    {
     "name": "stdout",
     "output_type": "stream",
     "text": [
      "[Row(_c0='City', _c1='State', _c2='Median Age', _c3='Male Population', _c4='Female Population', _c5='Total Population', _c6='Number of Veterans', _c7='Foreign-born', _c8='Average Household Size', _c9='State Code', _c10='Race', _c11='Count')]"
     ]
    }
   ],
   "source": [
    "df_city_dem.take(1)"
   ]
  },
  {
   "cell_type": "code",
   "execution_count": 34,
   "id": "334cc922",
   "metadata": {},
   "outputs": [
    {
     "data": {
      "application/vnd.jupyter.widget-view+json": {
       "model_id": "530735c7c24d4390996bd15b4661919f",
       "version_major": 2,
       "version_minor": 0
      },
      "text/plain": [
       "VBox()"
      ]
     },
     "metadata": {},
     "output_type": "display_data"
    },
    {
     "data": {
      "application/vnd.jupyter.widget-view+json": {
       "model_id": "",
       "version_major": 2,
       "version_minor": 0
      },
      "text/plain": [
       "FloatProgress(value=0.0, bar_style='info', description='Progress:', layout=Layout(height='25px', width='50%'),…"
      ]
     },
     "metadata": {},
     "output_type": "display_data"
    }
   ],
   "source": [
    "r = \"\"\"c0='City', _c1='State', _c2='Median Age', _c3='Male Population', _c4='Female Population', _c5='Total Population', _c6='Number of Veterans', _c7='Foreign-born', _c8='Average Household Size', _c9='State Code', _c10='Race', _c11='Count'\"\"\""
   ]
  },
  {
   "cell_type": "code",
   "execution_count": 35,
   "id": "4375d27e",
   "metadata": {},
   "outputs": [
    {
     "data": {
      "application/vnd.jupyter.widget-view+json": {
       "model_id": "d37fc38f08e84a68accfed713813f39d",
       "version_major": 2,
       "version_minor": 0
      },
      "text/plain": [
       "VBox()"
      ]
     },
     "metadata": {},
     "output_type": "display_data"
    },
    {
     "data": {
      "application/vnd.jupyter.widget-view+json": {
       "model_id": "",
       "version_major": 2,
       "version_minor": 0
      },
      "text/plain": [
       "FloatProgress(value=0.0, bar_style='info', description='Progress:', layout=Layout(height='25px', width='50%'),…"
      ]
     },
     "metadata": {},
     "output_type": "display_data"
    }
   ],
   "source": [
    "for i in r.split(','):\n",
    "    old, new = i.replace(\"'\",\"\").split(\"=\")\n",
    "    df_city_dem = df_city_dem.withColumnRenamed(old.strip(), new.strip())"
   ]
  },
  {
   "cell_type": "code",
   "execution_count": 36,
   "id": "702810b7",
   "metadata": {},
   "outputs": [
    {
     "data": {
      "application/vnd.jupyter.widget-view+json": {
       "model_id": "73e9628917014ec3a7ea4eb0540b88a6",
       "version_major": 2,
       "version_minor": 0
      },
      "text/plain": [
       "VBox()"
      ]
     },
     "metadata": {},
     "output_type": "display_data"
    },
    {
     "data": {
      "application/vnd.jupyter.widget-view+json": {
       "model_id": "",
       "version_major": 2,
       "version_minor": 0
      },
      "text/plain": [
       "FloatProgress(value=0.0, bar_style='info', description='Progress:', layout=Layout(height='25px', width='50%'),…"
      ]
     },
     "metadata": {},
     "output_type": "display_data"
    },
    {
     "name": "stdout",
     "output_type": "stream",
     "text": [
      "+----------------+--------------+----------+---------------+-----------------+----------------+------------------+------------+----------------------+----------+--------------------+------+\n",
      "|             _c0|         State|Median Age|Male Population|Female Population|Total Population|Number of Veterans|Foreign-born|Average Household Size|State Code|                Race| Count|\n",
      "+----------------+--------------+----------+---------------+-----------------+----------------+------------------+------------+----------------------+----------+--------------------+------+\n",
      "|            City|         State|Median Age|Male Population|Female Population|Total Population|Number of Veterans|Foreign-born|  Average Household...|State Code|                Race| Count|\n",
      "|   Silver Spring|      Maryland|      33.8|          40601|            41862|           82463|              1562|       30908|                   2.6|        MD|  Hispanic or Latino| 25924|\n",
      "|          Quincy| Massachusetts|      41.0|          44129|            49500|           93629|              4147|       32935|                  2.39|        MA|               White| 58723|\n",
      "|          Hoover|       Alabama|      38.5|          38040|            46799|           84839|              4819|        8229|                  2.58|        AL|               Asian|  4759|\n",
      "|Rancho Cucamonga|    California|      34.5|          88127|            87105|          175232|              5821|       33878|                  3.18|        CA|Black or African-...| 24437|\n",
      "|          Newark|    New Jersey|      34.6|         138040|           143873|          281913|              5829|       86253|                  2.73|        NJ|               White| 76402|\n",
      "|          Peoria|      Illinois|      33.1|          56229|            62432|          118661|              6634|        7517|                   2.4|        IL|American Indian a...|  1343|\n",
      "|        Avondale|       Arizona|      29.1|          38712|            41971|           80683|              4815|        8355|                  3.18|        AZ|Black or African-...| 11592|\n",
      "|     West Covina|    California|      39.8|          51629|            56860|          108489|              3800|       37038|                  3.56|        CA|               Asian| 32716|\n",
      "|        O'Fallon|      Missouri|      36.0|          41762|            43270|           85032|              5783|        3269|                  2.77|        MO|  Hispanic or Latino|  2583|\n",
      "|      High Point|North Carolina|      35.5|          51751|            58077|          109828|              5204|       16315|                  2.65|        NC|               Asian| 11060|\n",
      "|          Folsom|    California|      40.9|          41051|            35317|           76368|              4187|       13234|                  2.62|        CA|  Hispanic or Latino|  5822|\n",
      "|          Folsom|    California|      40.9|          41051|            35317|           76368|              4187|       13234|                  2.62|        CA|American Indian a...|   998|\n",
      "|    Philadelphia|  Pennsylvania|      34.1|         741270|           826172|         1567442|             61995|      205339|                  2.61|        PA|               Asian|122721|\n",
      "|         Wichita|        Kansas|      34.6|         192354|           197601|          389955|             23978|       40270|                  2.56|        KS|  Hispanic or Latino| 65162|\n",
      "|         Wichita|        Kansas|      34.6|         192354|           197601|          389955|             23978|       40270|                  2.56|        KS|American Indian a...|  8791|\n",
      "|      Fort Myers|       Florida|      37.3|          36850|            37165|           74015|              4312|       15365|                  2.45|        FL|               White| 50169|\n",
      "|      Pittsburgh|  Pennsylvania|      32.9|         149690|           154695|          304385|             17728|       28187|                  2.13|        PA|               White|208863|\n",
      "|          Laredo|         Texas|      28.8|         124305|           131484|          255789|              4921|       68427|                  3.66|        TX|American Indian a...|  1253|\n",
      "|        Berkeley|    California|      32.5|          60142|            60829|          120971|              3736|       25000|                  2.35|        CA|               Asian| 27089|\n",
      "+----------------+--------------+----------+---------------+-----------------+----------------+------------------+------------+----------------------+----------+--------------------+------+\n",
      "only showing top 20 rows"
     ]
    }
   ],
   "source": [
    "df_city_dem.show()"
   ]
  },
  {
   "cell_type": "code",
   "execution_count": 37,
   "id": "5e5c916c",
   "metadata": {},
   "outputs": [
    {
     "data": {
      "application/vnd.jupyter.widget-view+json": {
       "model_id": "5353461dd28543eba8d64c4fe35101f2",
       "version_major": 2,
       "version_minor": 0
      },
      "text/plain": [
       "VBox()"
      ]
     },
     "metadata": {},
     "output_type": "display_data"
    },
    {
     "data": {
      "application/vnd.jupyter.widget-view+json": {
       "model_id": "",
       "version_major": 2,
       "version_minor": 0
      },
      "text/plain": [
       "FloatProgress(value=0.0, bar_style='info', description='Progress:', layout=Layout(height='25px', width='50%'),…"
      ]
     },
     "metadata": {},
     "output_type": "display_data"
    }
   ],
   "source": [
    "df_city_dem = df_city_dem.withColumnRenamed(\"_c0\", \"City\")"
   ]
  },
  {
   "cell_type": "code",
   "execution_count": 38,
   "id": "0007166b",
   "metadata": {},
   "outputs": [
    {
     "data": {
      "application/vnd.jupyter.widget-view+json": {
       "model_id": "4b2b96b241fb4f48bcfb705c089d79e7",
       "version_major": 2,
       "version_minor": 0
      },
      "text/plain": [
       "VBox()"
      ]
     },
     "metadata": {},
     "output_type": "display_data"
    },
    {
     "data": {
      "application/vnd.jupyter.widget-view+json": {
       "model_id": "",
       "version_major": 2,
       "version_minor": 0
      },
      "text/plain": [
       "FloatProgress(value=0.0, bar_style='info', description='Progress:', layout=Layout(height='25px', width='50%'),…"
      ]
     },
     "metadata": {},
     "output_type": "display_data"
    },
    {
     "name": "stdout",
     "output_type": "stream",
     "text": [
      "+-------------+--------+----------+---------------+-----------------+----------------+------------------+------------+----------------------+----------+------------------+-----+\n",
      "|         City|   State|Median Age|Male Population|Female Population|Total Population|Number of Veterans|Foreign-born|Average Household Size|State Code|              Race|Count|\n",
      "+-------------+--------+----------+---------------+-----------------+----------------+------------------+------------+----------------------+----------+------------------+-----+\n",
      "|         City|   State|Median Age|Male Population|Female Population|Total Population|Number of Veterans|Foreign-born|  Average Household...|State Code|              Race|Count|\n",
      "|Silver Spring|Maryland|      33.8|          40601|            41862|           82463|              1562|       30908|                   2.6|        MD|Hispanic or Latino|25924|\n",
      "+-------------+--------+----------+---------------+-----------------+----------------+------------------+------------+----------------------+----------+------------------+-----+\n",
      "only showing top 2 rows"
     ]
    }
   ],
   "source": [
    "df_city_dem.show(2)"
   ]
  },
  {
   "cell_type": "code",
   "execution_count": 39,
   "id": "468c6c60",
   "metadata": {},
   "outputs": [
    {
     "data": {
      "application/vnd.jupyter.widget-view+json": {
       "model_id": "5888ce615a814ee0b7f49d653fa79834",
       "version_major": 2,
       "version_minor": 0
      },
      "text/plain": [
       "VBox()"
      ]
     },
     "metadata": {},
     "output_type": "display_data"
    },
    {
     "data": {
      "application/vnd.jupyter.widget-view+json": {
       "model_id": "",
       "version_major": 2,
       "version_minor": 0
      },
      "text/plain": [
       "FloatProgress(value=0.0, bar_style='info', description='Progress:', layout=Layout(height='25px', width='50%'),…"
      ]
     },
     "metadata": {},
     "output_type": "display_data"
    }
   ],
   "source": [
    "# remove first row\n",
    "df_city_dem = df_city_dem.filter(df_city_dem.City != \"City\")"
   ]
  },
  {
   "cell_type": "code",
   "execution_count": 40,
   "id": "d5948719",
   "metadata": {},
   "outputs": [
    {
     "data": {
      "application/vnd.jupyter.widget-view+json": {
       "model_id": "0be3876680c0400bab46bf0b3123eda1",
       "version_major": 2,
       "version_minor": 0
      },
      "text/plain": [
       "VBox()"
      ]
     },
     "metadata": {},
     "output_type": "display_data"
    },
    {
     "data": {
      "application/vnd.jupyter.widget-view+json": {
       "model_id": "",
       "version_major": 2,
       "version_minor": 0
      },
      "text/plain": [
       "FloatProgress(value=0.0, bar_style='info', description='Progress:', layout=Layout(height='25px', width='50%'),…"
      ]
     },
     "metadata": {},
     "output_type": "display_data"
    },
    {
     "name": "stdout",
     "output_type": "stream",
     "text": [
      "+-------------+-------------+----------+---------------+-----------------+----------------+------------------+------------+----------------------+----------+------------------+-----+\n",
      "|         City|        State|Median Age|Male Population|Female Population|Total Population|Number of Veterans|Foreign-born|Average Household Size|State Code|              Race|Count|\n",
      "+-------------+-------------+----------+---------------+-----------------+----------------+------------------+------------+----------------------+----------+------------------+-----+\n",
      "|Silver Spring|     Maryland|      33.8|          40601|            41862|           82463|              1562|       30908|                   2.6|        MD|Hispanic or Latino|25924|\n",
      "|       Quincy|Massachusetts|      41.0|          44129|            49500|           93629|              4147|       32935|                  2.39|        MA|             White|58723|\n",
      "+-------------+-------------+----------+---------------+-----------------+----------------+------------------+------------+----------------------+----------+------------------+-----+\n",
      "only showing top 2 rows"
     ]
    }
   ],
   "source": [
    "df_city_dem.show(2)"
   ]
  },
  {
   "cell_type": "code",
   "execution_count": 41,
   "id": "9ae2eafc",
   "metadata": {},
   "outputs": [
    {
     "data": {
      "application/vnd.jupyter.widget-view+json": {
       "model_id": "89a2eeb3c10844df957799198688a43b",
       "version_major": 2,
       "version_minor": 0
      },
      "text/plain": [
       "VBox()"
      ]
     },
     "metadata": {},
     "output_type": "display_data"
    },
    {
     "data": {
      "application/vnd.jupyter.widget-view+json": {
       "model_id": "",
       "version_major": 2,
       "version_minor": 0
      },
      "text/plain": [
       "FloatProgress(value=0.0, bar_style='info', description='Progress:', layout=Layout(height='25px', width='50%'),…"
      ]
     },
     "metadata": {},
     "output_type": "display_data"
    },
    {
     "name": "stdout",
     "output_type": "stream",
     "text": [
      "root\n",
      " |-- City: string (nullable = true)\n",
      " |-- State: string (nullable = true)\n",
      " |-- Median Age: string (nullable = true)\n",
      " |-- Male Population: string (nullable = true)\n",
      " |-- Female Population: string (nullable = true)\n",
      " |-- Total Population: string (nullable = true)\n",
      " |-- Number of Veterans: string (nullable = true)\n",
      " |-- Foreign-born: string (nullable = true)\n",
      " |-- Average Household Size: string (nullable = true)\n",
      " |-- State Code: string (nullable = true)\n",
      " |-- Race: string (nullable = true)\n",
      " |-- Count: string (nullable = true)"
     ]
    }
   ],
   "source": [
    "df_city_dem.printSchema()"
   ]
  },
  {
   "cell_type": "code",
   "execution_count": 42,
   "id": "f2f63328",
   "metadata": {},
   "outputs": [
    {
     "data": {
      "application/vnd.jupyter.widget-view+json": {
       "model_id": "8caf2b0155ac4dd798e84469ccbb0e5a",
       "version_major": 2,
       "version_minor": 0
      },
      "text/plain": [
       "VBox()"
      ]
     },
     "metadata": {},
     "output_type": "display_data"
    },
    {
     "data": {
      "application/vnd.jupyter.widget-view+json": {
       "model_id": "",
       "version_major": 2,
       "version_minor": 0
      },
      "text/plain": [
       "FloatProgress(value=0.0, bar_style='info', description='Progress:', layout=Layout(height='25px', width='50%'),…"
      ]
     },
     "metadata": {},
     "output_type": "display_data"
    }
   ],
   "source": [
    "df_city_dem = df_city_dem.withColumnRenamed(\"City\", \"city\")\n",
    "df_city_dem = df_city_dem.withColumnRenamed(\"State\", \"state\")\n",
    "df_city_dem = df_city_dem.withColumnRenamed(\"Median Age\", \"median_age\")\n",
    "df_city_dem = df_city_dem.withColumnRenamed(\"Male Population\", \"male_population\")\n",
    "df_city_dem = df_city_dem.withColumnRenamed(\"Female Population\", \"female_population\")\n",
    "df_city_dem = df_city_dem.withColumnRenamed(\"Total Population\", \"total_population\")\n",
    "df_city_dem = df_city_dem.withColumnRenamed(\"Number of Veterans\", \"n_veterans\")\n",
    "df_city_dem = df_city_dem.withColumnRenamed(\"Foreign-born\", \"foreign_born\")\n",
    "df_city_dem = df_city_dem.withColumnRenamed(\"Average Household Size\", \"avg_household_size\")\n",
    "df_city_dem = df_city_dem.withColumnRenamed(\"State Code\", \"state_code\")\n",
    "df_city_dem = df_city_dem.withColumnRenamed(\"Race\", \"race\")\n",
    "df_city_dem = df_city_dem.withColumnRenamed(\"City\", \"city\")\n"
   ]
  },
  {
   "cell_type": "code",
   "execution_count": 43,
   "id": "50a7a60b",
   "metadata": {},
   "outputs": [
    {
     "data": {
      "application/vnd.jupyter.widget-view+json": {
       "model_id": "81393adde11e48d7a7e1c9fa15d5542d",
       "version_major": 2,
       "version_minor": 0
      },
      "text/plain": [
       "VBox()"
      ]
     },
     "metadata": {},
     "output_type": "display_data"
    },
    {
     "data": {
      "application/vnd.jupyter.widget-view+json": {
       "model_id": "",
       "version_major": 2,
       "version_minor": 0
      },
      "text/plain": [
       "FloatProgress(value=0.0, bar_style='info', description='Progress:', layout=Layout(height='25px', width='50%'),…"
      ]
     },
     "metadata": {},
     "output_type": "display_data"
    },
    {
     "name": "stdout",
     "output_type": "stream",
     "text": [
      "root\n",
      " |-- city: string (nullable = true)\n",
      " |-- state: string (nullable = true)\n",
      " |-- median_age: string (nullable = true)\n",
      " |-- male_population: string (nullable = true)\n",
      " |-- female_population: string (nullable = true)\n",
      " |-- total_population: string (nullable = true)\n",
      " |-- n_veterans: string (nullable = true)\n",
      " |-- foreign_born: string (nullable = true)\n",
      " |-- avg_household_size: string (nullable = true)\n",
      " |-- state_code: string (nullable = true)\n",
      " |-- race: string (nullable = true)\n",
      " |-- Count: string (nullable = true)"
     ]
    }
   ],
   "source": [
    "df_city_dem.printSchema()"
   ]
  },
  {
   "cell_type": "code",
   "execution_count": 44,
   "id": "bccdfdd0",
   "metadata": {
    "scrolled": true
   },
   "outputs": [
    {
     "data": {
      "application/vnd.jupyter.widget-view+json": {
       "model_id": "24e5be405b4a4150a795caa164e81932",
       "version_major": 2,
       "version_minor": 0
      },
      "text/plain": [
       "VBox()"
      ]
     },
     "metadata": {},
     "output_type": "display_data"
    },
    {
     "data": {
      "application/vnd.jupyter.widget-view+json": {
       "model_id": "",
       "version_major": 2,
       "version_minor": 0
      },
      "text/plain": [
       "FloatProgress(value=0.0, bar_style='info', description='Progress:', layout=Layout(height='25px', width='50%'),…"
      ]
     },
     "metadata": {},
     "output_type": "display_data"
    }
   ],
   "source": [
    "df_city_dem = df_city_dem.withColumn(\"n_veterans\",df_city_dem.n_veterans.cast(IntegerType()))"
   ]
  },
  {
   "cell_type": "code",
   "execution_count": 45,
   "id": "4ecee0a3",
   "metadata": {},
   "outputs": [
    {
     "data": {
      "application/vnd.jupyter.widget-view+json": {
       "model_id": "d9bee1abc8154bac9da7454641e602d1",
       "version_major": 2,
       "version_minor": 0
      },
      "text/plain": [
       "VBox()"
      ]
     },
     "metadata": {},
     "output_type": "display_data"
    },
    {
     "data": {
      "application/vnd.jupyter.widget-view+json": {
       "model_id": "",
       "version_major": 2,
       "version_minor": 0
      },
      "text/plain": [
       "FloatProgress(value=0.0, bar_style='info', description='Progress:', layout=Layout(height='25px', width='50%'),…"
      ]
     },
     "metadata": {},
     "output_type": "display_data"
    },
    {
     "name": "stdout",
     "output_type": "stream",
     "text": [
      "root\n",
      " |-- city: string (nullable = true)\n",
      " |-- state: string (nullable = true)\n",
      " |-- median_age: string (nullable = true)\n",
      " |-- male_population: string (nullable = true)\n",
      " |-- female_population: string (nullable = true)\n",
      " |-- total_population: string (nullable = true)\n",
      " |-- n_veterans: integer (nullable = true)\n",
      " |-- foreign_born: string (nullable = true)\n",
      " |-- avg_household_size: string (nullable = true)\n",
      " |-- state_code: string (nullable = true)\n",
      " |-- race: string (nullable = true)\n",
      " |-- Count: string (nullable = true)"
     ]
    }
   ],
   "source": [
    "df_city_dem.printSchema()"
   ]
  },
  {
   "cell_type": "code",
   "execution_count": 46,
   "id": "bee8b5c8",
   "metadata": {},
   "outputs": [
    {
     "data": {
      "application/vnd.jupyter.widget-view+json": {
       "model_id": "531e4459d9274409aecb5f2c36e293fa",
       "version_major": 2,
       "version_minor": 0
      },
      "text/plain": [
       "VBox()"
      ]
     },
     "metadata": {},
     "output_type": "display_data"
    },
    {
     "data": {
      "application/vnd.jupyter.widget-view+json": {
       "model_id": "",
       "version_major": 2,
       "version_minor": 0
      },
      "text/plain": [
       "FloatProgress(value=0.0, bar_style='info', description='Progress:', layout=Layout(height='25px', width='50%'),…"
      ]
     },
     "metadata": {},
     "output_type": "display_data"
    }
   ],
   "source": [
    "from pyspark.sql.types import DoubleType\n",
    "\n",
    "df_city_dem = df_city_dem.withColumn(\"Count\",df_city_dem.Count.cast(IntegerType()))\n",
    "df_city_dem = df_city_dem.withColumn(\"state_code\",df_city_dem.state_code.cast(IntegerType()))\n",
    "df_city_dem = df_city_dem.withColumn(\"foreign_born\",df_city_dem.foreign_born.cast(IntegerType()))\n",
    "df_city_dem = df_city_dem.withColumn(\"avg_household_size\",df_city_dem.avg_household_size.cast(DoubleType()))\n",
    "df_city_dem = df_city_dem.withColumn(\"total_population\",df_city_dem.total_population.cast(DoubleType()))\n",
    "df_city_dem = df_city_dem.withColumn(\"female_population\",df_city_dem.female_population.cast(DoubleType()))\n",
    "df_city_dem = df_city_dem.withColumn(\"male_population\",df_city_dem.male_population.cast(DoubleType()))\n",
    "df_city_dem = df_city_dem.withColumn(\"median_age\",df_city_dem.median_age.cast(DoubleType()))"
   ]
  },
  {
   "cell_type": "code",
   "execution_count": 47,
   "id": "e2c59656",
   "metadata": {},
   "outputs": [
    {
     "data": {
      "application/vnd.jupyter.widget-view+json": {
       "model_id": "52bfcafb850e4887b06300390c094ff6",
       "version_major": 2,
       "version_minor": 0
      },
      "text/plain": [
       "VBox()"
      ]
     },
     "metadata": {},
     "output_type": "display_data"
    },
    {
     "data": {
      "application/vnd.jupyter.widget-view+json": {
       "model_id": "",
       "version_major": 2,
       "version_minor": 0
      },
      "text/plain": [
       "FloatProgress(value=0.0, bar_style='info', description='Progress:', layout=Layout(height='25px', width='50%'),…"
      ]
     },
     "metadata": {},
     "output_type": "display_data"
    },
    {
     "name": "stdout",
     "output_type": "stream",
     "text": [
      "root\n",
      " |-- city: string (nullable = true)\n",
      " |-- state: string (nullable = true)\n",
      " |-- median_age: double (nullable = true)\n",
      " |-- male_population: double (nullable = true)\n",
      " |-- female_population: double (nullable = true)\n",
      " |-- total_population: double (nullable = true)\n",
      " |-- n_veterans: integer (nullable = true)\n",
      " |-- foreign_born: integer (nullable = true)\n",
      " |-- avg_household_size: double (nullable = true)\n",
      " |-- state_code: integer (nullable = true)\n",
      " |-- race: string (nullable = true)\n",
      " |-- Count: integer (nullable = true)"
     ]
    }
   ],
   "source": [
    "df_city_dem.printSchema()"
   ]
  },
  {
   "cell_type": "code",
   "execution_count": 86,
   "id": "b93fa8cd",
   "metadata": {},
   "outputs": [
    {
     "data": {
      "application/vnd.jupyter.widget-view+json": {
       "model_id": "0abe7982bc564d8c82ae69db38e4ff17",
       "version_major": 2,
       "version_minor": 0
      },
      "text/plain": [
       "VBox()"
      ]
     },
     "metadata": {},
     "output_type": "display_data"
    },
    {
     "data": {
      "application/vnd.jupyter.widget-view+json": {
       "model_id": "",
       "version_major": 2,
       "version_minor": 0
      },
      "text/plain": [
       "FloatProgress(value=0.0, bar_style='info', description='Progress:', layout=Layout(height='25px', width='50%'),…"
      ]
     },
     "metadata": {},
     "output_type": "display_data"
    },
    {
     "name": "stdout",
     "output_type": "stream",
     "text": [
      "+-------------+-------------+----------+---------------+-----------------+----------------+----------+------------+------------------+----------+------------------+-----+\n",
      "|         city|        state|median_age|male_population|female_population|total_population|n_veterans|foreign_born|avg_household_size|state_code|              race|Count|\n",
      "+-------------+-------------+----------+---------------+-----------------+----------------+----------+------------+------------------+----------+------------------+-----+\n",
      "|Silver Spring|     Maryland|      33.8|        40601.0|          41862.0|         82463.0|      1562|       30908|               2.6|      null|Hispanic or Latino|25924|\n",
      "|       Quincy|Massachusetts|      41.0|        44129.0|          49500.0|         93629.0|      4147|       32935|              2.39|      null|             White|58723|\n",
      "|       Hoover|      Alabama|      38.5|        38040.0|          46799.0|         84839.0|      4819|        8229|              2.58|      null|             Asian| 4759|\n",
      "+-------------+-------------+----------+---------------+-----------------+----------------+----------+------------+------------------+----------+------------------+-----+\n",
      "only showing top 3 rows"
     ]
    }
   ],
   "source": [
    "df_city_dem.show(3)"
   ]
  },
  {
   "cell_type": "code",
   "execution_count": 49,
   "id": "1de468bf",
   "metadata": {},
   "outputs": [
    {
     "data": {
      "application/vnd.jupyter.widget-view+json": {
       "model_id": "495f50e598bf45aba67079e13ad242c5",
       "version_major": 2,
       "version_minor": 0
      },
      "text/plain": [
       "VBox()"
      ]
     },
     "metadata": {},
     "output_type": "display_data"
    },
    {
     "data": {
      "application/vnd.jupyter.widget-view+json": {
       "model_id": "",
       "version_major": 2,
       "version_minor": 0
      },
      "text/plain": [
       "FloatProgress(value=0.0, bar_style='info', description='Progress:', layout=Layout(height='25px', width='50%'),…"
      ]
     },
     "metadata": {},
     "output_type": "display_data"
    },
    {
     "name": "stdout",
     "output_type": "stream",
     "text": [
      "+----------------+----------+---------------+\n",
      "|            city|median_age|male_population|\n",
      "+----------------+----------+---------------+\n",
      "|   Silver Spring|      33.8|        40601.0|\n",
      "|          Quincy|      41.0|        44129.0|\n",
      "|          Hoover|      38.5|        38040.0|\n",
      "|Rancho Cucamonga|      34.5|        88127.0|\n",
      "|          Newark|      34.6|       138040.0|\n",
      "+----------------+----------+---------------+\n",
      "only showing top 5 rows"
     ]
    }
   ],
   "source": [
    "df_city_dem.select([\"city\",  \"median_age\", \"male_population\"]).show(5)"
   ]
  },
  {
   "cell_type": "code",
   "execution_count": 50,
   "id": "6e3907b8",
   "metadata": {},
   "outputs": [
    {
     "data": {
      "application/vnd.jupyter.widget-view+json": {
       "model_id": "4e4e44023d354576893422acb1f70661",
       "version_major": 2,
       "version_minor": 0
      },
      "text/plain": [
       "VBox()"
      ]
     },
     "metadata": {},
     "output_type": "display_data"
    },
    {
     "data": {
      "application/vnd.jupyter.widget-view+json": {
       "model_id": "",
       "version_major": 2,
       "version_minor": 0
      },
      "text/plain": [
       "FloatProgress(value=0.0, bar_style='info', description='Progress:', layout=Layout(height='25px', width='50%'),…"
      ]
     },
     "metadata": {},
     "output_type": "display_data"
    },
    {
     "name": "stdout",
     "output_type": "stream",
     "text": [
      "+----+----+\n",
      "| _c0| _c1|\n",
      "+----+----+\n",
      "|code|mode|\n",
      "|   1| Air|\n",
      "+----+----+\n",
      "only showing top 2 rows"
     ]
    }
   ],
   "source": [
    "df_mode.show(2)"
   ]
  },
  {
   "cell_type": "code",
   "execution_count": 51,
   "id": "b00cea24",
   "metadata": {},
   "outputs": [
    {
     "data": {
      "application/vnd.jupyter.widget-view+json": {
       "model_id": "bd4ee0e084e74e8296edc2d229003ec0",
       "version_major": 2,
       "version_minor": 0
      },
      "text/plain": [
       "VBox()"
      ]
     },
     "metadata": {},
     "output_type": "display_data"
    },
    {
     "data": {
      "application/vnd.jupyter.widget-view+json": {
       "model_id": "",
       "version_major": 2,
       "version_minor": 0
      },
      "text/plain": [
       "FloatProgress(value=0.0, bar_style='info', description='Progress:', layout=Layout(height='25px', width='50%'),…"
      ]
     },
     "metadata": {},
     "output_type": "display_data"
    }
   ],
   "source": [
    "df_mode = df_mode.withColumnRenamed(\"_c0\", \"code\")\n",
    "df_mode = df_mode.withColumnRenamed(\"_c1\", \"mode\")\n",
    "df_mode = df_mode.filter(df_mode.code != \"code\")"
   ]
  },
  {
   "cell_type": "code",
   "execution_count": 52,
   "id": "42b19fd0",
   "metadata": {},
   "outputs": [
    {
     "data": {
      "application/vnd.jupyter.widget-view+json": {
       "model_id": "c925b566b0354907a97d0459e27a0652",
       "version_major": 2,
       "version_minor": 0
      },
      "text/plain": [
       "VBox()"
      ]
     },
     "metadata": {},
     "output_type": "display_data"
    },
    {
     "data": {
      "application/vnd.jupyter.widget-view+json": {
       "model_id": "",
       "version_major": 2,
       "version_minor": 0
      },
      "text/plain": [
       "FloatProgress(value=0.0, bar_style='info', description='Progress:', layout=Layout(height='25px', width='50%'),…"
      ]
     },
     "metadata": {},
     "output_type": "display_data"
    },
    {
     "name": "stdout",
     "output_type": "stream",
     "text": [
      "+----+----+\n",
      "|code|mode|\n",
      "+----+----+\n",
      "|   1| Air|\n",
      "|   2| Sea|\n",
      "+----+----+\n",
      "only showing top 2 rows"
     ]
    }
   ],
   "source": [
    "df_mode.show(2)"
   ]
  },
  {
   "cell_type": "code",
   "execution_count": 53,
   "id": "aa8d8cfb",
   "metadata": {},
   "outputs": [
    {
     "data": {
      "application/vnd.jupyter.widget-view+json": {
       "model_id": "c91f8284eaab4dfb86b1e8f797c1c4ce",
       "version_major": 2,
       "version_minor": 0
      },
      "text/plain": [
       "VBox()"
      ]
     },
     "metadata": {},
     "output_type": "display_data"
    },
    {
     "data": {
      "application/vnd.jupyter.widget-view+json": {
       "model_id": "",
       "version_major": 2,
       "version_minor": 0
      },
      "text/plain": [
       "FloatProgress(value=0.0, bar_style='info', description='Progress:', layout=Layout(height='25px', width='50%'),…"
      ]
     },
     "metadata": {},
     "output_type": "display_data"
    }
   ],
   "source": [
    "df_mode = df_mode.withColumnRenamed(\"_c0\", \"code\")\n",
    "df_mode = df_mode.withColumnRenamed(\"_c1\", \"mode\")\n",
    "df_mode = df_mode.filter(df_mode.code != \"code\")\n",
    "df_mode = df_mode.withColumn(\"code\",df_mode.code.cast(IntegerType()))"
   ]
  },
  {
   "cell_type": "code",
   "execution_count": 54,
   "id": "ca8b8c6d",
   "metadata": {},
   "outputs": [
    {
     "data": {
      "application/vnd.jupyter.widget-view+json": {
       "model_id": "7cdcdae6f35d480da95c1df2b38b9b08",
       "version_major": 2,
       "version_minor": 0
      },
      "text/plain": [
       "VBox()"
      ]
     },
     "metadata": {},
     "output_type": "display_data"
    },
    {
     "data": {
      "application/vnd.jupyter.widget-view+json": {
       "model_id": "",
       "version_major": 2,
       "version_minor": 0
      },
      "text/plain": [
       "FloatProgress(value=0.0, bar_style='info', description='Progress:', layout=Layout(height='25px', width='50%'),…"
      ]
     },
     "metadata": {},
     "output_type": "display_data"
    },
    {
     "name": "stdout",
     "output_type": "stream",
     "text": [
      "root\n",
      " |-- code: integer (nullable = true)\n",
      " |-- mode: string (nullable = true)"
     ]
    }
   ],
   "source": [
    "df_mode.printSchema()"
   ]
  },
  {
   "cell_type": "code",
   "execution_count": 55,
   "id": "00b874fb",
   "metadata": {},
   "outputs": [
    {
     "data": {
      "application/vnd.jupyter.widget-view+json": {
       "model_id": "b38d4835a1bb4e74a2eb26cd8b9c4196",
       "version_major": 2,
       "version_minor": 0
      },
      "text/plain": [
       "VBox()"
      ]
     },
     "metadata": {},
     "output_type": "display_data"
    },
    {
     "data": {
      "application/vnd.jupyter.widget-view+json": {
       "model_id": "",
       "version_major": 2,
       "version_minor": 0
      },
      "text/plain": [
       "FloatProgress(value=0.0, bar_style='info', description='Progress:', layout=Layout(height='25px', width='50%'),…"
      ]
     },
     "metadata": {},
     "output_type": "display_data"
    },
    {
     "name": "stdout",
     "output_type": "stream",
     "text": [
      "+----+--------------------+\n",
      "| _c0|                 _c1|\n",
      "+----+--------------------+\n",
      "|code|             country|\n",
      "| 525|BRITISH VIRGIN IS...|\n",
      "+----+--------------------+\n",
      "only showing top 2 rows"
     ]
    }
   ],
   "source": [
    "df_country.show(2)"
   ]
  },
  {
   "cell_type": "code",
   "execution_count": 56,
   "id": "fc1c420e",
   "metadata": {},
   "outputs": [
    {
     "data": {
      "application/vnd.jupyter.widget-view+json": {
       "model_id": "04793e94f95d4195af10a7c2e5ea551a",
       "version_major": 2,
       "version_minor": 0
      },
      "text/plain": [
       "VBox()"
      ]
     },
     "metadata": {},
     "output_type": "display_data"
    },
    {
     "data": {
      "application/vnd.jupyter.widget-view+json": {
       "model_id": "",
       "version_major": 2,
       "version_minor": 0
      },
      "text/plain": [
       "FloatProgress(value=0.0, bar_style='info', description='Progress:', layout=Layout(height='25px', width='50%'),…"
      ]
     },
     "metadata": {},
     "output_type": "display_data"
    }
   ],
   "source": [
    "df_country = df_country.withColumnRenamed(\"_c0\", \"code\")\n",
    "df_country = df_country.withColumnRenamed(\"_c1\", \"country\")\n",
    "df_country = df_country.filter(df_country.code != \"code\")\n",
    "df_country = df_country.withColumn(\"code\",df_country.code.cast(IntegerType()))"
   ]
  },
  {
   "cell_type": "code",
   "execution_count": 57,
   "id": "97a8a4b6",
   "metadata": {},
   "outputs": [
    {
     "data": {
      "application/vnd.jupyter.widget-view+json": {
       "model_id": "0073ea17bb7442d1a9cc6dc19158b11e",
       "version_major": 2,
       "version_minor": 0
      },
      "text/plain": [
       "VBox()"
      ]
     },
     "metadata": {},
     "output_type": "display_data"
    },
    {
     "data": {
      "application/vnd.jupyter.widget-view+json": {
       "model_id": "",
       "version_major": 2,
       "version_minor": 0
      },
      "text/plain": [
       "FloatProgress(value=0.0, bar_style='info', description='Progress:', layout=Layout(height='25px', width='50%'),…"
      ]
     },
     "metadata": {},
     "output_type": "display_data"
    },
    {
     "name": "stdout",
     "output_type": "stream",
     "text": [
      "+----+--------------------+\n",
      "|code|             country|\n",
      "+----+--------------------+\n",
      "| 525|BRITISH VIRGIN IS...|\n",
      "| 217|              BRUNEI|\n",
      "+----+--------------------+\n",
      "only showing top 2 rows"
     ]
    }
   ],
   "source": [
    "df_country.show(2)"
   ]
  },
  {
   "cell_type": "code",
   "execution_count": 58,
   "id": "f808e183",
   "metadata": {},
   "outputs": [
    {
     "data": {
      "application/vnd.jupyter.widget-view+json": {
       "model_id": "f83a2cc9151b449483e245f5cbe6d54e",
       "version_major": 2,
       "version_minor": 0
      },
      "text/plain": [
       "VBox()"
      ]
     },
     "metadata": {},
     "output_type": "display_data"
    },
    {
     "data": {
      "application/vnd.jupyter.widget-view+json": {
       "model_id": "",
       "version_major": 2,
       "version_minor": 0
      },
      "text/plain": [
       "FloatProgress(value=0.0, bar_style='info', description='Progress:', layout=Layout(height='25px', width='50%'),…"
      ]
     },
     "metadata": {},
     "output_type": "display_data"
    },
    {
     "name": "stdout",
     "output_type": "stream",
     "text": [
      "root\n",
      " |-- code: integer (nullable = true)\n",
      " |-- country: string (nullable = true)"
     ]
    }
   ],
   "source": [
    "df_country.printSchema()"
   ]
  },
  {
   "cell_type": "code",
   "execution_count": 59,
   "id": "465105d7",
   "metadata": {},
   "outputs": [
    {
     "data": {
      "application/vnd.jupyter.widget-view+json": {
       "model_id": "18c34f39c9eb4be8ac31694cdd6a32e4",
       "version_major": 2,
       "version_minor": 0
      },
      "text/plain": [
       "VBox()"
      ]
     },
     "metadata": {},
     "output_type": "display_data"
    },
    {
     "data": {
      "application/vnd.jupyter.widget-view+json": {
       "model_id": "",
       "version_major": 2,
       "version_minor": 0
      },
      "text/plain": [
       "FloatProgress(value=0.0, bar_style='info', description='Progress:', layout=Layout(height='25px', width='50%'),…"
      ]
     },
     "metadata": {},
     "output_type": "display_data"
    },
    {
     "name": "stdout",
     "output_type": "stream",
     "text": [
      "+----+---------+\n",
      "| _c0|      _c1|\n",
      "+----+---------+\n",
      "|code|visa_type|\n",
      "|   1| Business|\n",
      "+----+---------+\n",
      "only showing top 2 rows"
     ]
    }
   ],
   "source": [
    "df_visa.show(2)"
   ]
  },
  {
   "cell_type": "code",
   "execution_count": 60,
   "id": "ec445768",
   "metadata": {},
   "outputs": [
    {
     "data": {
      "application/vnd.jupyter.widget-view+json": {
       "model_id": "060e3f539b154a818e4a3b40e2055e10",
       "version_major": 2,
       "version_minor": 0
      },
      "text/plain": [
       "VBox()"
      ]
     },
     "metadata": {},
     "output_type": "display_data"
    },
    {
     "data": {
      "application/vnd.jupyter.widget-view+json": {
       "model_id": "",
       "version_major": 2,
       "version_minor": 0
      },
      "text/plain": [
       "FloatProgress(value=0.0, bar_style='info', description='Progress:', layout=Layout(height='25px', width='50%'),…"
      ]
     },
     "metadata": {},
     "output_type": "display_data"
    }
   ],
   "source": [
    "df_visa = df_visa.withColumnRenamed(\"_c0\", \"code\")\n",
    "df_visa = df_visa.withColumnRenamed(\"_c1\", \"visa_type\")\n"
   ]
  },
  {
   "cell_type": "code",
   "execution_count": 61,
   "id": "a712ba1d",
   "metadata": {},
   "outputs": [
    {
     "data": {
      "application/vnd.jupyter.widget-view+json": {
       "model_id": "6e0f88d2fe5342298cc9426d7b3b325a",
       "version_major": 2,
       "version_minor": 0
      },
      "text/plain": [
       "VBox()"
      ]
     },
     "metadata": {},
     "output_type": "display_data"
    },
    {
     "data": {
      "application/vnd.jupyter.widget-view+json": {
       "model_id": "",
       "version_major": 2,
       "version_minor": 0
      },
      "text/plain": [
       "FloatProgress(value=0.0, bar_style='info', description='Progress:', layout=Layout(height='25px', width='50%'),…"
      ]
     },
     "metadata": {},
     "output_type": "display_data"
    }
   ],
   "source": [
    "df_visa = df_visa.withColumn(\"code\",df_visa.code.cast(IntegerType()))"
   ]
  },
  {
   "cell_type": "code",
   "execution_count": 62,
   "id": "4cfb15a0",
   "metadata": {},
   "outputs": [
    {
     "data": {
      "application/vnd.jupyter.widget-view+json": {
       "model_id": "d549002e9f2342749c7c9d44c9c667a2",
       "version_major": 2,
       "version_minor": 0
      },
      "text/plain": [
       "VBox()"
      ]
     },
     "metadata": {},
     "output_type": "display_data"
    },
    {
     "data": {
      "application/vnd.jupyter.widget-view+json": {
       "model_id": "",
       "version_major": 2,
       "version_minor": 0
      },
      "text/plain": [
       "FloatProgress(value=0.0, bar_style='info', description='Progress:', layout=Layout(height='25px', width='50%'),…"
      ]
     },
     "metadata": {},
     "output_type": "display_data"
    },
    {
     "name": "stdout",
     "output_type": "stream",
     "text": [
      "+----+---------+\n",
      "|code|visa_type|\n",
      "+----+---------+\n",
      "|null|visa_type|\n",
      "|   1| Business|\n",
      "+----+---------+\n",
      "only showing top 2 rows"
     ]
    }
   ],
   "source": [
    "df_visa.show(2)"
   ]
  },
  {
   "cell_type": "code",
   "execution_count": 63,
   "id": "4134bc0e",
   "metadata": {},
   "outputs": [
    {
     "data": {
      "application/vnd.jupyter.widget-view+json": {
       "model_id": "7e1a254ee8094709aeaf9bec31cf6c77",
       "version_major": 2,
       "version_minor": 0
      },
      "text/plain": [
       "VBox()"
      ]
     },
     "metadata": {},
     "output_type": "display_data"
    },
    {
     "data": {
      "application/vnd.jupyter.widget-view+json": {
       "model_id": "",
       "version_major": 2,
       "version_minor": 0
      },
      "text/plain": [
       "FloatProgress(value=0.0, bar_style='info', description='Progress:', layout=Layout(height='25px', width='50%'),…"
      ]
     },
     "metadata": {},
     "output_type": "display_data"
    }
   ],
   "source": [
    "df_visa = df_visa.filter(df_visa.visa_type != 'visa_type')"
   ]
  },
  {
   "cell_type": "code",
   "execution_count": 64,
   "id": "c545c49e",
   "metadata": {},
   "outputs": [
    {
     "data": {
      "application/vnd.jupyter.widget-view+json": {
       "model_id": "d16a9383c9374ab1830e68ba1df20a1d",
       "version_major": 2,
       "version_minor": 0
      },
      "text/plain": [
       "VBox()"
      ]
     },
     "metadata": {},
     "output_type": "display_data"
    },
    {
     "data": {
      "application/vnd.jupyter.widget-view+json": {
       "model_id": "",
       "version_major": 2,
       "version_minor": 0
      },
      "text/plain": [
       "FloatProgress(value=0.0, bar_style='info', description='Progress:', layout=Layout(height='25px', width='50%'),…"
      ]
     },
     "metadata": {},
     "output_type": "display_data"
    },
    {
     "name": "stdout",
     "output_type": "stream",
     "text": [
      "+----+---------+\n",
      "|code|visa_type|\n",
      "+----+---------+\n",
      "|   1| Business|\n",
      "|   2| Pleasure|\n",
      "+----+---------+\n",
      "only showing top 2 rows"
     ]
    }
   ],
   "source": [
    "df_visa.show(2)"
   ]
  },
  {
   "cell_type": "code",
   "execution_count": 65,
   "id": "1c2b6161",
   "metadata": {},
   "outputs": [
    {
     "data": {
      "application/vnd.jupyter.widget-view+json": {
       "model_id": "124a99b70a8540258d0e948c9a76b8b5",
       "version_major": 2,
       "version_minor": 0
      },
      "text/plain": [
       "VBox()"
      ]
     },
     "metadata": {},
     "output_type": "display_data"
    },
    {
     "data": {
      "application/vnd.jupyter.widget-view+json": {
       "model_id": "",
       "version_major": 2,
       "version_minor": 0
      },
      "text/plain": [
       "FloatProgress(value=0.0, bar_style='info', description='Progress:', layout=Layout(height='25px', width='50%'),…"
      ]
     },
     "metadata": {},
     "output_type": "display_data"
    },
    {
     "name": "stdout",
     "output_type": "stream",
     "text": [
      "root\n",
      " |-- code: integer (nullable = true)\n",
      " |-- visa_type: string (nullable = true)"
     ]
    }
   ],
   "source": [
    "df_visa.printSchema()"
   ]
  },
  {
   "cell_type": "code",
   "execution_count": 66,
   "id": "34675bca",
   "metadata": {},
   "outputs": [
    {
     "data": {
      "application/vnd.jupyter.widget-view+json": {
       "model_id": "3ae450260fc541549e9abceebc37ec07",
       "version_major": 2,
       "version_minor": 0
      },
      "text/plain": [
       "VBox()"
      ]
     },
     "metadata": {},
     "output_type": "display_data"
    },
    {
     "data": {
      "application/vnd.jupyter.widget-view+json": {
       "model_id": "",
       "version_major": 2,
       "version_minor": 0
      },
      "text/plain": [
       "FloatProgress(value=0.0, bar_style='info', description='Progress:', layout=Layout(height='25px', width='50%'),…"
      ]
     },
     "metadata": {},
     "output_type": "display_data"
    },
    {
     "name": "stdout",
     "output_type": "stream",
     "text": [
      "+----+-------+\n",
      "| _c0|    _c1|\n",
      "+----+-------+\n",
      "|code|  state|\n",
      "|  AL|ALABAMA|\n",
      "+----+-------+\n",
      "only showing top 2 rows"
     ]
    }
   ],
   "source": [
    "df_address.show(2)"
   ]
  },
  {
   "cell_type": "code",
   "execution_count": 67,
   "id": "04608ce7",
   "metadata": {},
   "outputs": [
    {
     "data": {
      "application/vnd.jupyter.widget-view+json": {
       "model_id": "6d867e8a27ac4461a7d093093c82ccac",
       "version_major": 2,
       "version_minor": 0
      },
      "text/plain": [
       "VBox()"
      ]
     },
     "metadata": {},
     "output_type": "display_data"
    },
    {
     "data": {
      "application/vnd.jupyter.widget-view+json": {
       "model_id": "",
       "version_major": 2,
       "version_minor": 0
      },
      "text/plain": [
       "FloatProgress(value=0.0, bar_style='info', description='Progress:', layout=Layout(height='25px', width='50%'),…"
      ]
     },
     "metadata": {},
     "output_type": "display_data"
    }
   ],
   "source": [
    "df_address = df_address.withColumnRenamed(\"_c0\", \"code\")\n",
    "df_address = df_address.withColumnRenamed(\"_c1\", \"state\")"
   ]
  },
  {
   "cell_type": "code",
   "execution_count": 68,
   "id": "aecfc5a7",
   "metadata": {},
   "outputs": [
    {
     "data": {
      "application/vnd.jupyter.widget-view+json": {
       "model_id": "2a5a7a773a684c10aedcfa36d9bb8fea",
       "version_major": 2,
       "version_minor": 0
      },
      "text/plain": [
       "VBox()"
      ]
     },
     "metadata": {},
     "output_type": "display_data"
    },
    {
     "data": {
      "application/vnd.jupyter.widget-view+json": {
       "model_id": "",
       "version_major": 2,
       "version_minor": 0
      },
      "text/plain": [
       "FloatProgress(value=0.0, bar_style='info', description='Progress:', layout=Layout(height='25px', width='50%'),…"
      ]
     },
     "metadata": {},
     "output_type": "display_data"
    }
   ],
   "source": [
    "df_address = df_address.filter(df_address.state != 'state')"
   ]
  },
  {
   "cell_type": "code",
   "execution_count": 69,
   "id": "514f5033",
   "metadata": {},
   "outputs": [
    {
     "data": {
      "application/vnd.jupyter.widget-view+json": {
       "model_id": "3765b603c8b54ec1b36dddd84e3ad0ad",
       "version_major": 2,
       "version_minor": 0
      },
      "text/plain": [
       "VBox()"
      ]
     },
     "metadata": {},
     "output_type": "display_data"
    },
    {
     "data": {
      "application/vnd.jupyter.widget-view+json": {
       "model_id": "",
       "version_major": 2,
       "version_minor": 0
      },
      "text/plain": [
       "FloatProgress(value=0.0, bar_style='info', description='Progress:', layout=Layout(height='25px', width='50%'),…"
      ]
     },
     "metadata": {},
     "output_type": "display_data"
    }
   ],
   "source": [
    "df_address = df_address.withColumn(\"code\",df_address.code.cast(IntegerType()))"
   ]
  },
  {
   "cell_type": "code",
   "execution_count": 70,
   "id": "5438379f",
   "metadata": {},
   "outputs": [
    {
     "data": {
      "application/vnd.jupyter.widget-view+json": {
       "model_id": "76a0169119f14fe286c640f4f20cd928",
       "version_major": 2,
       "version_minor": 0
      },
      "text/plain": [
       "VBox()"
      ]
     },
     "metadata": {},
     "output_type": "display_data"
    },
    {
     "data": {
      "application/vnd.jupyter.widget-view+json": {
       "model_id": "",
       "version_major": 2,
       "version_minor": 0
      },
      "text/plain": [
       "FloatProgress(value=0.0, bar_style='info', description='Progress:', layout=Layout(height='25px', width='50%'),…"
      ]
     },
     "metadata": {},
     "output_type": "display_data"
    },
    {
     "name": "stdout",
     "output_type": "stream",
     "text": [
      "+----+-------+\n",
      "|code|  state|\n",
      "+----+-------+\n",
      "|null|ALABAMA|\n",
      "|null| ALASKA|\n",
      "+----+-------+\n",
      "only showing top 2 rows"
     ]
    }
   ],
   "source": [
    "df_address.show(2)"
   ]
  },
  {
   "cell_type": "code",
   "execution_count": 71,
   "id": "a05e3f8c",
   "metadata": {},
   "outputs": [
    {
     "data": {
      "application/vnd.jupyter.widget-view+json": {
       "model_id": "54272a0262e444daab351f4400339b12",
       "version_major": 2,
       "version_minor": 0
      },
      "text/plain": [
       "VBox()"
      ]
     },
     "metadata": {},
     "output_type": "display_data"
    },
    {
     "data": {
      "application/vnd.jupyter.widget-view+json": {
       "model_id": "",
       "version_major": 2,
       "version_minor": 0
      },
      "text/plain": [
       "FloatProgress(value=0.0, bar_style='info', description='Progress:', layout=Layout(height='25px', width='50%'),…"
      ]
     },
     "metadata": {},
     "output_type": "display_data"
    },
    {
     "name": "stdout",
     "output_type": "stream",
     "text": [
      "root\n",
      " |-- code: integer (nullable = true)\n",
      " |-- state: string (nullable = true)"
     ]
    }
   ],
   "source": [
    "df_address.printSchema()"
   ]
  },
  {
   "cell_type": "markdown",
   "id": "f8007598",
   "metadata": {},
   "source": [
    "### Step 3: Define the Data Model\n",
    "#### 3.1 Conceptual Data Model\n",
    "![mode](https://github.com/adelabuhashim/ETL/blob/master/model.png?raw=true)\n",
    "#### 3.2 Mapping Out Data Pipelines\n",
    "in the wrangling step I got the tables I want to ingest the new tables schame"
   ]
  },
  {
   "cell_type": "code",
   "execution_count": 72,
   "id": "07ae8b8d",
   "metadata": {},
   "outputs": [
    {
     "data": {
      "application/vnd.jupyter.widget-view+json": {
       "model_id": "c4079c00513745329b1ec5e9662bc879",
       "version_major": 2,
       "version_minor": 0
      },
      "text/plain": [
       "VBox()"
      ]
     },
     "metadata": {},
     "output_type": "display_data"
    },
    {
     "data": {
      "application/vnd.jupyter.widget-view+json": {
       "model_id": "",
       "version_major": 2,
       "version_minor": 0
      },
      "text/plain": [
       "FloatProgress(value=0.0, bar_style='info', description='Progress:', layout=Layout(height='25px', width='50%'),…"
      ]
     },
     "metadata": {},
     "output_type": "display_data"
    },
    {
     "name": "stdout",
     "output_type": "stream",
     "text": [
      "+-------+----+-----+----------------+--------------+----+---+---------+------+----------+-------+\n",
      "|     id|year|month|citizenship_code|residence_code|mode|age|visa_type|gender|dt_arrival|address|\n",
      "+-------+----+-----+----------------+--------------+----+---+---------+------+----------+-------+\n",
      "|5748517|2016|    4|             245|           438|   1| 40|        1|     F|2016-04-30|     CA|\n",
      "|5748518|2016|    4|             245|           438|   1| 32|        1|     F|2016-04-30|     NV|\n",
      "+-------+----+-----+----------------+--------------+----+---+---------+------+----------+-------+\n",
      "only showing top 2 rows"
     ]
    }
   ],
   "source": [
    "df_i94.show(2)"
   ]
  },
  {
   "cell_type": "code",
   "execution_count": 73,
   "id": "19cb4551",
   "metadata": {},
   "outputs": [
    {
     "data": {
      "application/vnd.jupyter.widget-view+json": {
       "model_id": "26084c27bf8f49e0b8c7b611526222c7",
       "version_major": 2,
       "version_minor": 0
      },
      "text/plain": [
       "VBox()"
      ]
     },
     "metadata": {},
     "output_type": "display_data"
    },
    {
     "data": {
      "application/vnd.jupyter.widget-view+json": {
       "model_id": "",
       "version_major": 2,
       "version_minor": 0
      },
      "text/plain": [
       "FloatProgress(value=0.0, bar_style='info', description='Progress:', layout=Layout(height='25px', width='50%'),…"
      ]
     },
     "metadata": {},
     "output_type": "display_data"
    }
   ],
   "source": [
    "import os\n",
    "df_i94.write.partitionBy(\"address\").mode('overwrite')\\\n",
    "    .parquet('i94')"
   ]
  },
  {
   "cell_type": "code",
   "execution_count": 74,
   "id": "2627a28a",
   "metadata": {},
   "outputs": [
    {
     "data": {
      "application/vnd.jupyter.widget-view+json": {
       "model_id": "d4e0931565c1439786b107278fcdbe0f",
       "version_major": 2,
       "version_minor": 0
      },
      "text/plain": [
       "VBox()"
      ]
     },
     "metadata": {},
     "output_type": "display_data"
    },
    {
     "data": {
      "application/vnd.jupyter.widget-view+json": {
       "model_id": "",
       "version_major": 2,
       "version_minor": 0
      },
      "text/plain": [
       "FloatProgress(value=0.0, bar_style='info', description='Progress:', layout=Layout(height='25px', width='50%'),…"
      ]
     },
     "metadata": {},
     "output_type": "display_data"
    }
   ],
   "source": [
    "df_mode.write.mode('overwrite').parquet('mode_code')\n",
    "df_address.write.mode('overwrite').parquet('state_code')\n",
    "df_visa.write.mode('overwrite').parquet('visa_type_code')\n",
    "df_country.write.mode('overwrite').parquet('country_code')"
   ]
  },
  {
   "cell_type": "code",
   "execution_count": 75,
   "id": "c05fd70d",
   "metadata": {},
   "outputs": [
    {
     "data": {
      "application/vnd.jupyter.widget-view+json": {
       "model_id": "24996187d5c34bf491c608e816a6fe75",
       "version_major": 2,
       "version_minor": 0
      },
      "text/plain": [
       "VBox()"
      ]
     },
     "metadata": {},
     "output_type": "display_data"
    },
    {
     "data": {
      "application/vnd.jupyter.widget-view+json": {
       "model_id": "",
       "version_major": 2,
       "version_minor": 0
      },
      "text/plain": [
       "FloatProgress(value=0.0, bar_style='info', description='Progress:', layout=Layout(height='25px', width='50%'),…"
      ]
     },
     "metadata": {},
     "output_type": "display_data"
    }
   ],
   "source": [
    "df_city_dem.write.mode('overwrite').parquet('city_demographics')"
   ]
  },
  {
   "cell_type": "markdown",
   "id": "3b97401b",
   "metadata": {},
   "source": [
    "## Creating arrival_time table"
   ]
  },
  {
   "cell_type": "code",
   "execution_count": 76,
   "id": "fbb21719",
   "metadata": {},
   "outputs": [
    {
     "data": {
      "application/vnd.jupyter.widget-view+json": {
       "model_id": "e209c6103ec84e08aa1fc668fe32dd1c",
       "version_major": 2,
       "version_minor": 0
      },
      "text/plain": [
       "VBox()"
      ]
     },
     "metadata": {},
     "output_type": "display_data"
    },
    {
     "data": {
      "application/vnd.jupyter.widget-view+json": {
       "model_id": "",
       "version_major": 2,
       "version_minor": 0
      },
      "text/plain": [
       "FloatProgress(value=0.0, bar_style='info', description='Progress:', layout=Layout(height='25px', width='50%'),…"
      ]
     },
     "metadata": {},
     "output_type": "display_data"
    },
    {
     "name": "stdout",
     "output_type": "stream",
     "text": [
      "+----------+\n",
      "|dt_arrival|\n",
      "+----------+\n",
      "|2016-04-30|\n",
      "|2016-04-30|\n",
      "|2016-04-30|\n",
      "|2016-04-30|\n",
      "|2016-04-30|\n",
      "+----------+\n",
      "only showing top 5 rows"
     ]
    }
   ],
   "source": [
    "df_i94.select(\"dt_arrival\").show(5)"
   ]
  },
  {
   "cell_type": "code",
   "execution_count": 77,
   "id": "dbc02380",
   "metadata": {},
   "outputs": [
    {
     "data": {
      "application/vnd.jupyter.widget-view+json": {
       "model_id": "bf2c2719545f4b58a59c7255f2510ab2",
       "version_major": 2,
       "version_minor": 0
      },
      "text/plain": [
       "VBox()"
      ]
     },
     "metadata": {},
     "output_type": "display_data"
    },
    {
     "data": {
      "application/vnd.jupyter.widget-view+json": {
       "model_id": "",
       "version_major": 2,
       "version_minor": 0
      },
      "text/plain": [
       "FloatProgress(value=0.0, bar_style='info', description='Progress:', layout=Layout(height='25px', width='50%'),…"
      ]
     },
     "metadata": {},
     "output_type": "display_data"
    }
   ],
   "source": [
    "df_i94.select(\"dt_arrival\").createOrReplaceTempView('d')"
   ]
  },
  {
   "cell_type": "code",
   "execution_count": 78,
   "id": "49432955",
   "metadata": {},
   "outputs": [
    {
     "data": {
      "application/vnd.jupyter.widget-view+json": {
       "model_id": "d719a853a43c436c8e033c1e436a5b9e",
       "version_major": 2,
       "version_minor": 0
      },
      "text/plain": [
       "VBox()"
      ]
     },
     "metadata": {},
     "output_type": "display_data"
    },
    {
     "data": {
      "application/vnd.jupyter.widget-view+json": {
       "model_id": "",
       "version_major": 2,
       "version_minor": 0
      },
      "text/plain": [
       "FloatProgress(value=0.0, bar_style='info', description='Progress:', layout=Layout(height='25px', width='50%'),…"
      ]
     },
     "metadata": {},
     "output_type": "display_data"
    },
    {
     "name": "stdout",
     "output_type": "stream",
     "text": [
      "+----------+\n",
      "|dt_arrival|\n",
      "+----------+\n",
      "|2016-04-30|\n",
      "|2016-04-30|\n",
      "|2016-04-30|\n",
      "|2016-04-30|\n",
      "|2016-04-30|\n",
      "+----------+"
     ]
    }
   ],
   "source": [
    "spark.sql(\"SELECT * FROM d LIMIT 5\").show()"
   ]
  },
  {
   "cell_type": "code",
   "execution_count": 79,
   "id": "0b3b7f68",
   "metadata": {},
   "outputs": [
    {
     "data": {
      "application/vnd.jupyter.widget-view+json": {
       "model_id": "380b6a048f924757ade1956846e47ca3",
       "version_major": 2,
       "version_minor": 0
      },
      "text/plain": [
       "VBox()"
      ]
     },
     "metadata": {},
     "output_type": "display_data"
    },
    {
     "data": {
      "application/vnd.jupyter.widget-view+json": {
       "model_id": "",
       "version_major": 2,
       "version_minor": 0
      },
      "text/plain": [
       "FloatProgress(value=0.0, bar_style='info', description='Progress:', layout=Layout(height='25px', width='50%'),…"
      ]
     },
     "metadata": {},
     "output_type": "display_data"
    },
    {
     "name": "stdout",
     "output_type": "stream",
     "text": [
      "+----+-----+---+-------+\n",
      "|year|month|day|weekday|\n",
      "+----+-----+---+-------+\n",
      "|2016|    4| 30|      5|\n",
      "|2016|    4| 30|      5|\n",
      "|2016|    4| 30|      5|\n",
      "|2016|    4| 30|      5|\n",
      "|2016|    4| 30|      5|\n",
      "|2016|    4| 30|      5|\n",
      "|2016|    4| 30|      5|\n",
      "|2016|    4| 30|      5|\n",
      "|2016|    4| 30|      5|\n",
      "|2016|    4| 30|      5|\n",
      "|2016|    4| 30|      5|\n",
      "|2016|    4| 30|      5|\n",
      "|2016|    4| 30|      5|\n",
      "|2016|    4| 30|      5|\n",
      "|2016|    4| 30|      5|\n",
      "|2016|    4| 30|      5|\n",
      "|2016|    4| 30|      5|\n",
      "|2016|    4| 30|      5|\n",
      "|2016|    4| 30|      5|\n",
      "|2016|    4| 30|      5|\n",
      "+----+-----+---+-------+\n",
      "only showing top 20 rows"
     ]
    }
   ],
   "source": [
    "spark.sql(\"\"\"SELECT year(dt_arrival) as year, month(dt_arrival) AS month, day(dt_arrival) AS day, weekday(dt_arrival) AS weekday\n",
    "FROM d\"\"\").show()"
   ]
  },
  {
   "cell_type": "code",
   "execution_count": 80,
   "id": "19dd330c",
   "metadata": {},
   "outputs": [
    {
     "data": {
      "application/vnd.jupyter.widget-view+json": {
       "model_id": "fc5dee7c5fde4615ae6ba3171ffdb9fb",
       "version_major": 2,
       "version_minor": 0
      },
      "text/plain": [
       "VBox()"
      ]
     },
     "metadata": {},
     "output_type": "display_data"
    },
    {
     "data": {
      "application/vnd.jupyter.widget-view+json": {
       "model_id": "",
       "version_major": 2,
       "version_minor": 0
      },
      "text/plain": [
       "FloatProgress(value=0.0, bar_style='info', description='Progress:', layout=Layout(height='25px', width='50%'),…"
      ]
     },
     "metadata": {},
     "output_type": "display_data"
    },
    {
     "name": "stdout",
     "output_type": "stream",
     "text": [
      "+----------+----+-----+---+-------+\n",
      "|      time|year|month|day|weekday|\n",
      "+----------+----+-----+---+-------+\n",
      "|2016-04-30|2016|    4| 30|      5|\n",
      "|2016-04-30|2016|    4| 30|      5|\n",
      "|2016-04-30|2016|    4| 30|      5|\n",
      "|2016-04-30|2016|    4| 30|      5|\n",
      "|2016-04-30|2016|    4| 30|      5|\n",
      "|2016-04-30|2016|    4| 30|      5|\n",
      "|2016-04-30|2016|    4| 30|      5|\n",
      "|2016-04-30|2016|    4| 30|      5|\n",
      "|2016-04-30|2016|    4| 30|      5|\n",
      "|2016-04-30|2016|    4| 30|      5|\n",
      "|2016-04-30|2016|    4| 30|      5|\n",
      "|2016-04-30|2016|    4| 30|      5|\n",
      "|2016-04-30|2016|    4| 30|      5|\n",
      "|2016-04-30|2016|    4| 30|      5|\n",
      "|2016-04-30|2016|    4| 30|      5|\n",
      "|2016-04-30|2016|    4| 30|      5|\n",
      "|2016-04-30|2016|    4| 30|      5|\n",
      "|2016-04-30|2016|    4| 30|      5|\n",
      "|2016-04-30|2016|    4| 30|      5|\n",
      "|2016-04-30|2016|    4| 30|      5|\n",
      "+----------+----+-----+---+-------+\n",
      "only showing top 20 rows"
     ]
    }
   ],
   "source": [
    "spark.sql(\"\"\"SELECT dt_arrival as time,\n",
    "  year(dt_arrival) as year, \n",
    "  month(dt_arrival) AS month, \n",
    "  day(dt_arrival) AS day, \n",
    "  weekday(dt_arrival) AS weekday \n",
    "FROM \n",
    "  d\n",
    "\"\"\").show()"
   ]
  },
  {
   "cell_type": "code",
   "execution_count": 81,
   "id": "9db85053",
   "metadata": {},
   "outputs": [
    {
     "data": {
      "application/vnd.jupyter.widget-view+json": {
       "model_id": "99803766879343ff9a7530b2999e9fa4",
       "version_major": 2,
       "version_minor": 0
      },
      "text/plain": [
       "VBox()"
      ]
     },
     "metadata": {},
     "output_type": "display_data"
    },
    {
     "data": {
      "application/vnd.jupyter.widget-view+json": {
       "model_id": "",
       "version_major": 2,
       "version_minor": 0
      },
      "text/plain": [
       "FloatProgress(value=0.0, bar_style='info', description='Progress:', layout=Layout(height='25px', width='50%'),…"
      ]
     },
     "metadata": {},
     "output_type": "display_data"
    }
   ],
   "source": [
    "df_times = spark.sql(\"\"\"SELECT dt_arrival as time,\n",
    "  year(dt_arrival) as year, \n",
    "  month(dt_arrival) AS month, \n",
    "  day(dt_arrival) AS day, \n",
    "  weekday(dt_arrival) AS weekday \n",
    "FROM \n",
    "  d\n",
    "\"\"\")"
   ]
  },
  {
   "cell_type": "code",
   "execution_count": 82,
   "id": "0ff3a7cd",
   "metadata": {},
   "outputs": [
    {
     "data": {
      "application/vnd.jupyter.widget-view+json": {
       "model_id": "3660bfcce11040a986e9a0feafec15c2",
       "version_major": 2,
       "version_minor": 0
      },
      "text/plain": [
       "VBox()"
      ]
     },
     "metadata": {},
     "output_type": "display_data"
    },
    {
     "data": {
      "application/vnd.jupyter.widget-view+json": {
       "model_id": "",
       "version_major": 2,
       "version_minor": 0
      },
      "text/plain": [
       "FloatProgress(value=0.0, bar_style='info', description='Progress:', layout=Layout(height='25px', width='50%'),…"
      ]
     },
     "metadata": {},
     "output_type": "display_data"
    }
   ],
   "source": [
    "df_times = df_times.dropDuplicates()"
   ]
  },
  {
   "cell_type": "code",
   "execution_count": 83,
   "id": "9ad7ef46",
   "metadata": {},
   "outputs": [
    {
     "data": {
      "application/vnd.jupyter.widget-view+json": {
       "model_id": "40ebbf91d00d4936abcda198e4eda97c",
       "version_major": 2,
       "version_minor": 0
      },
      "text/plain": [
       "VBox()"
      ]
     },
     "metadata": {},
     "output_type": "display_data"
    },
    {
     "data": {
      "application/vnd.jupyter.widget-view+json": {
       "model_id": "",
       "version_major": 2,
       "version_minor": 0
      },
      "text/plain": [
       "FloatProgress(value=0.0, bar_style='info', description='Progress:', layout=Layout(height='25px', width='50%'),…"
      ]
     },
     "metadata": {},
     "output_type": "display_data"
    },
    {
     "name": "stdout",
     "output_type": "stream",
     "text": [
      "30"
     ]
    }
   ],
   "source": [
    "df_times.count()"
   ]
  },
  {
   "cell_type": "code",
   "execution_count": 84,
   "id": "ca69d022",
   "metadata": {},
   "outputs": [
    {
     "data": {
      "application/vnd.jupyter.widget-view+json": {
       "model_id": "050ec9e2f7ac4821ada33027ffd17cbf",
       "version_major": 2,
       "version_minor": 0
      },
      "text/plain": [
       "VBox()"
      ]
     },
     "metadata": {},
     "output_type": "display_data"
    },
    {
     "data": {
      "application/vnd.jupyter.widget-view+json": {
       "model_id": "",
       "version_major": 2,
       "version_minor": 0
      },
      "text/plain": [
       "FloatProgress(value=0.0, bar_style='info', description='Progress:', layout=Layout(height='25px', width='50%'),…"
      ]
     },
     "metadata": {},
     "output_type": "display_data"
    }
   ],
   "source": [
    "df_times.write.mode('overwrite').parquet('arrival_time')"
   ]
  },
  {
   "cell_type": "code",
   "execution_count": 85,
   "id": "5c2fd482",
   "metadata": {},
   "outputs": [
    {
     "data": {
      "application/vnd.jupyter.widget-view+json": {
       "model_id": "791b299436b6446abd0a8580a499bd1e",
       "version_major": 2,
       "version_minor": 0
      },
      "text/plain": [
       "VBox()"
      ]
     },
     "metadata": {},
     "output_type": "display_data"
    },
    {
     "data": {
      "application/vnd.jupyter.widget-view+json": {
       "model_id": "",
       "version_major": 2,
       "version_minor": 0
      },
      "text/plain": [
       "FloatProgress(value=0.0, bar_style='info', description='Progress:', layout=Layout(height='25px', width='50%'),…"
      ]
     },
     "metadata": {},
     "output_type": "display_data"
    },
    {
     "name": "stdout",
     "output_type": "stream",
     "text": [
      "root\n",
      " |-- time: date (nullable = true)\n",
      " |-- year: integer (nullable = true)\n",
      " |-- month: integer (nullable = true)\n",
      " |-- day: integer (nullable = true)\n",
      " |-- weekday: integer (nullable = true)"
     ]
    }
   ],
   "source": [
    "df_times.printSchema()"
   ]
  },
  {
   "cell_type": "markdown",
   "id": "4cdee348",
   "metadata": {},
   "source": [
    "## Data Quality Checks"
   ]
  },
  {
   "cell_type": "code",
   "execution_count": 89,
   "id": "312591f6",
   "metadata": {},
   "outputs": [
    {
     "data": {
      "application/vnd.jupyter.widget-view+json": {
       "model_id": "a2a3caf892774943979ec55757f3852d",
       "version_major": 2,
       "version_minor": 0
      },
      "text/plain": [
       "VBox()"
      ]
     },
     "metadata": {},
     "output_type": "display_data"
    },
    {
     "data": {
      "application/vnd.jupyter.widget-view+json": {
       "model_id": "",
       "version_major": 2,
       "version_minor": 0
      },
      "text/plain": [
       "FloatProgress(value=0.0, bar_style='info', description='Progress:', layout=Layout(height='25px', width='50%'),…"
      ]
     },
     "metadata": {},
     "output_type": "display_data"
    }
   ],
   "source": [
    "def check_quality_check(df):\n",
    "    \"\"\"\n",
    "    Check if the the data complete or not\n",
    "    \"\"\"\n",
    "    if (df.count() == 0):\n",
    "        print(\"Data quality check failed  with zero records!\")\n",
    "    else:\n",
    "        print(\"Data quality check passed with record_count: {} records.\".format(df.count()))"
   ]
  },
  {
   "cell_type": "code",
   "execution_count": 90,
   "id": "879887bd",
   "metadata": {},
   "outputs": [
    {
     "data": {
      "application/vnd.jupyter.widget-view+json": {
       "model_id": "d2d2bec0c86349a1ab54ba456877ebd2",
       "version_major": 2,
       "version_minor": 0
      },
      "text/plain": [
       "VBox()"
      ]
     },
     "metadata": {},
     "output_type": "display_data"
    },
    {
     "data": {
      "application/vnd.jupyter.widget-view+json": {
       "model_id": "",
       "version_major": 2,
       "version_minor": 0
      },
      "text/plain": [
       "FloatProgress(value=0.0, bar_style='info', description='Progress:', layout=Layout(height='25px', width='50%'),…"
      ]
     },
     "metadata": {},
     "output_type": "display_data"
    },
    {
     "name": "stdout",
     "output_type": "stream",
     "text": [
      "Data quality check passed with record_count: 3094745 records."
     ]
    }
   ],
   "source": [
    "check_quality_check(df_i94)"
   ]
  },
  {
   "cell_type": "code",
   "execution_count": 91,
   "id": "3f3f74c8",
   "metadata": {},
   "outputs": [
    {
     "data": {
      "application/vnd.jupyter.widget-view+json": {
       "model_id": "53a67d5c897a4f1fa2bae45c5c494393",
       "version_major": 2,
       "version_minor": 0
      },
      "text/plain": [
       "VBox()"
      ]
     },
     "metadata": {},
     "output_type": "display_data"
    },
    {
     "data": {
      "application/vnd.jupyter.widget-view+json": {
       "model_id": "",
       "version_major": 2,
       "version_minor": 0
      },
      "text/plain": [
       "FloatProgress(value=0.0, bar_style='info', description='Progress:', layout=Layout(height='25px', width='50%'),…"
      ]
     },
     "metadata": {},
     "output_type": "display_data"
    },
    {
     "name": "stdout",
     "output_type": "stream",
     "text": [
      "Data quality check passed with record_count: 4 records."
     ]
    }
   ],
   "source": [
    "check_quality_check(df_mode)"
   ]
  },
  {
   "cell_type": "code",
   "execution_count": 92,
   "id": "c79413cc",
   "metadata": {},
   "outputs": [
    {
     "data": {
      "application/vnd.jupyter.widget-view+json": {
       "model_id": "4dcb8fed508d4414801c5c7b84b53aa3",
       "version_major": 2,
       "version_minor": 0
      },
      "text/plain": [
       "VBox()"
      ]
     },
     "metadata": {},
     "output_type": "display_data"
    },
    {
     "data": {
      "application/vnd.jupyter.widget-view+json": {
       "model_id": "",
       "version_major": 2,
       "version_minor": 0
      },
      "text/plain": [
       "FloatProgress(value=0.0, bar_style='info', description='Progress:', layout=Layout(height='25px', width='50%'),…"
      ]
     },
     "metadata": {},
     "output_type": "display_data"
    },
    {
     "name": "stdout",
     "output_type": "stream",
     "text": [
      "Data quality check passed with record_count: 3 records."
     ]
    }
   ],
   "source": [
    "check_quality_check(df_visa)"
   ]
  },
  {
   "cell_type": "code",
   "execution_count": 93,
   "id": "9334d6be",
   "metadata": {},
   "outputs": [
    {
     "data": {
      "application/vnd.jupyter.widget-view+json": {
       "model_id": "0cba6c019d46406da037e246503dc18e",
       "version_major": 2,
       "version_minor": 0
      },
      "text/plain": [
       "VBox()"
      ]
     },
     "metadata": {},
     "output_type": "display_data"
    },
    {
     "data": {
      "application/vnd.jupyter.widget-view+json": {
       "model_id": "",
       "version_major": 2,
       "version_minor": 0
      },
      "text/plain": [
       "FloatProgress(value=0.0, bar_style='info', description='Progress:', layout=Layout(height='25px', width='50%'),…"
      ]
     },
     "metadata": {},
     "output_type": "display_data"
    },
    {
     "name": "stdout",
     "output_type": "stream",
     "text": [
      "Data quality check passed with record_count: 55 records."
     ]
    }
   ],
   "source": [
    "check_quality_check(df_address)"
   ]
  },
  {
   "cell_type": "code",
   "execution_count": 95,
   "id": "06039b10",
   "metadata": {},
   "outputs": [
    {
     "data": {
      "application/vnd.jupyter.widget-view+json": {
       "model_id": "562642eaf1654f0aa9d5516e886c32a1",
       "version_major": 2,
       "version_minor": 0
      },
      "text/plain": [
       "VBox()"
      ]
     },
     "metadata": {},
     "output_type": "display_data"
    },
    {
     "data": {
      "application/vnd.jupyter.widget-view+json": {
       "model_id": "",
       "version_major": 2,
       "version_minor": 0
      },
      "text/plain": [
       "FloatProgress(value=0.0, bar_style='info', description='Progress:', layout=Layout(height='25px', width='50%'),…"
      ]
     },
     "metadata": {},
     "output_type": "display_data"
    },
    {
     "name": "stdout",
     "output_type": "stream",
     "text": [
      "Data quality check passed with record_count: 2891 records."
     ]
    }
   ],
   "source": [
    "check_quality_check(df_city_dem)"
   ]
  },
  {
   "cell_type": "markdown",
   "id": "c8e333cc",
   "metadata": {},
   "source": [
    "#### 4 Data dictionary \n"
   ]
  },
  {
   "cell_type": "raw",
   "id": "0a186568",
   "metadata": {},
   "source": [
    "i94\n",
    " |-- id: integer (nullable = true)\n",
    " |-- year: integer (nullable = true)\n",
    " |-- month: integer (nullable = true)\n",
    " |-- citizenship_code: integer (nullable = true)\n",
    " |-- residence_code: integer (nullable = true)\n",
    " |-- mode: integer (nullable = true)\n",
    " |-- age: integer (nullable = true)\n",
    " |-- visa_type: integer (nullable = true)\n",
    " |-- gender: string (nullable = true)\n",
    " |-- dt_arrival: date (nullable = true)\n",
    " |-- address: string (nullable = true)\n",
    "\n",
    "city_demographics\n",
    " |-- city: string (nullable = true)\n",
    " |-- state: string (nullable = true)\n",
    " |-- median_age: double (nullable = true)\n",
    " |-- male_population: double (nullable = true)\n",
    " |-- female_population: double (nullable = true)\n",
    " |-- total_population: double (nullable = true)\n",
    " |-- n_veterans: integer (nullable = true)\n",
    " |-- foreign_born: integer (nullable = true)\n",
    " |-- avg_household_size: double (nullable = true)\n",
    " |-- state_code: integer (nullable = true)\n",
    " |-- race: string (nullable = true)\n",
    " |-- Count: integer (nullable = true)\n",
    " \n",
    "address\n",
    " |-- code: integer (nullable = true)\n",
    " |-- state: string (nullable = true)\n",
    "\n",
    "visa__type_code\n",
    " |-- code: integer (nullable = true)\n",
    " |-- visa_type: string (nullable = true)\n",
    " \n",
    "\n",
    "country_code\n",
    " |-- code: integer (nullable = true)\n",
    " |-- country: string (nullable = true)\n",
    " \n",
    "mode_code\n",
    " |-- code: integer (nullable = true)\n",
    " |-- mode: string (nullable = true)\n",
    " \n",
    "arrival_time\n",
    " |-- time: date (nullable = true)\n",
    " |-- year: integer (nullable = true)\n",
    " |-- month: integer (nullable = true)\n",
    " |-- day: integer (nullable = true)\n",
    " |-- weekday: integer (nullable = true)"
   ]
  },
  {
   "cell_type": "markdown",
   "id": "e2ab3822",
   "metadata": {},
   "source": [
    "#### Step 5: Complete Project Write Up\n",
    "* I choosed Pyspark installed over EMR within AWS Cluster, why?\n",
    "    1. No one has cluster on his home.\n",
    "    2. It requires a lot of effort to install pyspark in local mode.\n",
    "    3. it is easier to connectwith the data on AWS S3.\n",
    "Before going into the cloud I did soma wrangling using pandas as it is easy and fast using small dataset, also I'm expert on it :D\n",
    "\n",
    "* The data may be updated for each bath, we can say monthly batchs for evey persiod of the application..\n",
    "* Write a description of how you would approach the problem differently under the following scenarios:\n",
    " * If the data becam 100X large it is no prblem as were using Spark on large cluster adn we can store it for hundreds of those data.\n",
    " * We can connect with tableu with batch streaming to load the data in this time daily to easy load and reload in using (better performance).\n",
    " * We can make usr groups that can connect ot the same data base or we can easily meake the s3 saved mode pulic.\n",
    " * For Data Qullaity I checked the number of rows in each table bfore saveing them as parquest"
   ]
  },
  {
   "cell_type": "code",
   "execution_count": null,
   "id": "07f2476d",
   "metadata": {},
   "outputs": [],
   "source": []
  }
 ],
 "metadata": {
  "kernelspec": {
   "display_name": "PySpark",
   "language": "",
   "name": "pysparkkernel"
  },
  "language_info": {
   "codemirror_mode": {
    "name": "python",
    "version": 2
   },
   "mimetype": "text/x-python",
   "name": "pyspark",
   "pygments_lexer": "python2"
  }
 },
 "nbformat": 4,
 "nbformat_minor": 5
}
