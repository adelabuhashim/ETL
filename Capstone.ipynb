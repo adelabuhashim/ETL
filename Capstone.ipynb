{
 "cells": [
  {
   "cell_type": "markdown",
   "id": "7b5e265a",
   "metadata": {},
   "source": [
    "# Project Title\n",
    "### Data Engineering Capstone Project\n",
    "\n",
    "#### Project Summary\n",
    "ETL using PySpark using US-Immigration Data.\n",
    "\n",
    "The project follows the follow steps:\n",
    "* Step 1: Scope the Project and Gather Data\n",
    "* Step 2: Explore and Assess the Data\n",
    "* Step 3: Define the Data Model\n",
    "* Step 4: Run ETL to Model the Data\n",
    "* Step 5: Complete Project Write Up"
   ]
  },
  {
   "cell_type": "code",
   "execution_count": 1,
   "id": "62d40b24",
   "metadata": {},
   "outputs": [
    {
     "data": {
      "application/vnd.jupyter.widget-view+json": {
       "model_id": "6578711c591e4a9c948f115788ebb6f9",
       "version_major": 2,
       "version_minor": 0
      },
      "text/plain": [
       "VBox()"
      ]
     },
     "metadata": {},
     "output_type": "display_data"
    },
    {
     "name": "stdout",
     "output_type": "stream",
     "text": [
      "Starting Spark application\n"
     ]
    },
    {
     "data": {
      "text/html": [
       "<table>\n",
       "<tr><th>ID</th><th>YARN Application ID</th><th>Kind</th><th>State</th><th>Spark UI</th><th>Driver log</th><th>Current session?</th></tr><tr><td>0</td><td>application_1678084306076_0001</td><td>pyspark</td><td>idle</td><td><a target=\"_blank\" href=\"http://ip-172-31-81-0.ec2.internal:20888/proxy/application_1678084306076_0001/\">Link</a></td><td><a target=\"_blank\" href=\"http://ip-172-31-81-91.ec2.internal:8042/node/containerlogs/container_1678084306076_0001_01_000001/livy\">Link</a></td><td>✔</td></tr></table>"
      ],
      "text/plain": [
       "<IPython.core.display.HTML object>"
      ]
     },
     "metadata": {},
     "output_type": "display_data"
    },
    {
     "data": {
      "application/vnd.jupyter.widget-view+json": {
       "model_id": "",
       "version_major": 2,
       "version_minor": 0
      },
      "text/plain": [
       "FloatProgress(value=0.0, bar_style='info', description='Progress:', layout=Layout(height='25px', width='50%'),…"
      ]
     },
     "metadata": {},
     "output_type": "display_data"
    },
    {
     "name": "stdout",
     "output_type": "stream",
     "text": [
      "SparkSession available as 'spark'.\n"
     ]
    },
    {
     "data": {
      "application/vnd.jupyter.widget-view+json": {
       "model_id": "",
       "version_major": 2,
       "version_minor": 0
      },
      "text/plain": [
       "FloatProgress(value=0.0, bar_style='info', description='Progress:', layout=Layout(height='25px', width='50%'),…"
      ]
     },
     "metadata": {},
     "output_type": "display_data"
    }
   ],
   "source": [
    "from pyspark.sql import SparkSession\n",
    "\n",
    "spark = SparkSession.builder.\\\n",
    "config(\"spark.jars.repositories\", \"https://repos.spark-packages.org/\").\\\n",
    "config(\"spark.jars.packages\", \"saurfang:spark-sas7bdat:2.0.0-s_2.11\").\\\n",
    "enableHiveSupport().getOrCreate()"
   ]
  },
  {
   "cell_type": "markdown",
   "id": "434caaca",
   "metadata": {},
   "source": [
    "### Step 1: Scope the Project and Gather Data\n",
    "\n",
    "#### Scope \n",
    "After investiagting as sample of the Data, and creating the Conceptual model, I loaded the full data sets into S3 in same region of this EMR o implement this model using PySpark.\n",
    "\n",
    "#### Describe and Gather Data \n",
    "I'm using US-Immigration data, and US Cities Demographics"
   ]
  },
  {
   "cell_type": "markdown",
   "id": "fca7f449",
   "metadata": {},
   "source": [
    "## 1. LOADING IMMIGRATION DATA"
   ]
  },
  {
   "cell_type": "code",
   "execution_count": 2,
   "id": "1f224307",
   "metadata": {},
   "outputs": [
    {
     "data": {
      "application/vnd.jupyter.widget-view+json": {
       "model_id": "004a985d6fab4415b6bc34de40d23778",
       "version_major": 2,
       "version_minor": 0
      },
      "text/plain": [
       "VBox()"
      ]
     },
     "metadata": {},
     "output_type": "display_data"
    },
    {
     "data": {
      "application/vnd.jupyter.widget-view+json": {
       "model_id": "",
       "version_major": 2,
       "version_minor": 0
      },
      "text/plain": [
       "FloatProgress(value=0.0, bar_style='info', description='Progress:', layout=Layout(height='25px', width='50%'),…"
      ]
     },
     "metadata": {},
     "output_type": "display_data"
    }
   ],
   "source": [
    "df_immigration=spark.read.parquet(\"s3://aws-logs-557613354735-us-east-1/New folder/sas_data/\")"
   ]
  },
  {
   "cell_type": "code",
   "execution_count": 3,
   "id": "70cab00f",
   "metadata": {},
   "outputs": [
    {
     "data": {
      "application/vnd.jupyter.widget-view+json": {
       "model_id": "c6cc5ad9bc5c4f7c9e0b6acb133cad62",
       "version_major": 2,
       "version_minor": 0
      },
      "text/plain": [
       "VBox()"
      ]
     },
     "metadata": {},
     "output_type": "display_data"
    },
    {
     "data": {
      "application/vnd.jupyter.widget-view+json": {
       "model_id": "",
       "version_major": 2,
       "version_minor": 0
      },
      "text/plain": [
       "FloatProgress(value=0.0, bar_style='info', description='Progress:', layout=Layout(height='25px', width='50%'),…"
      ]
     },
     "metadata": {},
     "output_type": "display_data"
    },
    {
     "name": "stdout",
     "output_type": "stream",
     "text": [
      "3096313"
     ]
    }
   ],
   "source": [
    "df_immigration.count()"
   ]
  },
  {
   "cell_type": "code",
   "execution_count": 4,
   "id": "e2482c9e",
   "metadata": {},
   "outputs": [
    {
     "data": {
      "application/vnd.jupyter.widget-view+json": {
       "model_id": "6769def2cceb40869ff2753d00596021",
       "version_major": 2,
       "version_minor": 0
      },
      "text/plain": [
       "VBox()"
      ]
     },
     "metadata": {},
     "output_type": "display_data"
    },
    {
     "data": {
      "application/vnd.jupyter.widget-view+json": {
       "model_id": "",
       "version_major": 2,
       "version_minor": 0
      },
      "text/plain": [
       "FloatProgress(value=0.0, bar_style='info', description='Progress:', layout=Layout(height='25px', width='50%'),…"
      ]
     },
     "metadata": {},
     "output_type": "display_data"
    },
    {
     "name": "stdout",
     "output_type": "stream",
     "text": [
      "root\n",
      " |-- cicid: double (nullable = true)\n",
      " |-- i94yr: double (nullable = true)\n",
      " |-- i94mon: double (nullable = true)\n",
      " |-- i94cit: double (nullable = true)\n",
      " |-- i94res: double (nullable = true)\n",
      " |-- i94port: string (nullable = true)\n",
      " |-- arrdate: double (nullable = true)\n",
      " |-- i94mode: double (nullable = true)\n",
      " |-- i94addr: string (nullable = true)\n",
      " |-- depdate: double (nullable = true)\n",
      " |-- i94bir: double (nullable = true)\n",
      " |-- i94visa: double (nullable = true)\n",
      " |-- count: double (nullable = true)\n",
      " |-- dtadfile: string (nullable = true)\n",
      " |-- visapost: string (nullable = true)\n",
      " |-- occup: string (nullable = true)\n",
      " |-- entdepa: string (nullable = true)\n",
      " |-- entdepd: string (nullable = true)\n",
      " |-- entdepu: string (nullable = true)\n",
      " |-- matflag: string (nullable = true)\n",
      " |-- biryear: double (nullable = true)\n",
      " |-- dtaddto: string (nullable = true)\n",
      " |-- gender: string (nullable = true)\n",
      " |-- insnum: string (nullable = true)\n",
      " |-- airline: string (nullable = true)\n",
      " |-- admnum: double (nullable = true)\n",
      " |-- fltno: string (nullable = true)\n",
      " |-- visatype: string (nullable = true)"
     ]
    }
   ],
   "source": [
    "df_immigration.printSchema()"
   ]
  },
  {
   "cell_type": "code",
   "execution_count": 5,
   "id": "f70370da",
   "metadata": {},
   "outputs": [
    {
     "data": {
      "application/vnd.jupyter.widget-view+json": {
       "model_id": "82abff440eb9479186f69d62572652d2",
       "version_major": 2,
       "version_minor": 0
      },
      "text/plain": [
       "VBox()"
      ]
     },
     "metadata": {},
     "output_type": "display_data"
    },
    {
     "data": {
      "application/vnd.jupyter.widget-view+json": {
       "model_id": "",
       "version_major": 2,
       "version_minor": 0
      },
      "text/plain": [
       "FloatProgress(value=0.0, bar_style='info', description='Progress:', layout=Layout(height='25px', width='50%'),…"
      ]
     },
     "metadata": {},
     "output_type": "display_data"
    }
   ],
   "source": [
    "df_i94 = df_immigration.select([\n",
    "    \"cicid\", \"i94yr\", \"i94mon\", \"i94cit\", \"i94res\", \"i94mode\", \"i94bir\",\n",
    "    \"i94visa\", \"gender\", \"arrdate\", \"i94addr\"\n",
    "])"
   ]
  },
  {
   "cell_type": "code",
   "execution_count": 6,
   "id": "ca0aec53",
   "metadata": {},
   "outputs": [
    {
     "data": {
      "application/vnd.jupyter.widget-view+json": {
       "model_id": "a097a8b99083461aaf3864864eed1104",
       "version_major": 2,
       "version_minor": 0
      },
      "text/plain": [
       "VBox()"
      ]
     },
     "metadata": {},
     "output_type": "display_data"
    },
    {
     "data": {
      "application/vnd.jupyter.widget-view+json": {
       "model_id": "",
       "version_major": 2,
       "version_minor": 0
      },
      "text/plain": [
       "FloatProgress(value=0.0, bar_style='info', description='Progress:', layout=Layout(height='25px', width='50%'),…"
      ]
     },
     "metadata": {},
     "output_type": "display_data"
    },
    {
     "name": "stdout",
     "output_type": "stream",
     "text": [
      "DataFrame[cicid: double, i94yr: double, i94mon: double, i94cit: double, i94res: double, i94mode: double, i94bir: double, i94visa: double, gender: string, arrdate: double, i94addr: string]"
     ]
    }
   ],
   "source": [
    "df_i94"
   ]
  },
  {
   "cell_type": "code",
   "execution_count": 7,
   "id": "fd58375d",
   "metadata": {},
   "outputs": [
    {
     "data": {
      "application/vnd.jupyter.widget-view+json": {
       "model_id": "bc20af16e0f247c39444039956e1c0d0",
       "version_major": 2,
       "version_minor": 0
      },
      "text/plain": [
       "VBox()"
      ]
     },
     "metadata": {},
     "output_type": "display_data"
    },
    {
     "data": {
      "application/vnd.jupyter.widget-view+json": {
       "model_id": "",
       "version_major": 2,
       "version_minor": 0
      },
      "text/plain": [
       "FloatProgress(value=0.0, bar_style='info', description='Progress:', layout=Layout(height='25px', width='50%'),…"
      ]
     },
     "metadata": {},
     "output_type": "display_data"
    }
   ],
   "source": [
    "df_city_dem = spark.read.option(\"delimiter\", \";\").csv(\"s3://aws-logs-557613354735-us-east-1/New folder/us-cities-demographics.csv\")"
   ]
  },
  {
   "cell_type": "code",
   "execution_count": 8,
   "id": "f254fd13",
   "metadata": {},
   "outputs": [
    {
     "data": {
      "application/vnd.jupyter.widget-view+json": {
       "model_id": "17a6da659f4a430f8c5c738e5152d954",
       "version_major": 2,
       "version_minor": 0
      },
      "text/plain": [
       "VBox()"
      ]
     },
     "metadata": {},
     "output_type": "display_data"
    },
    {
     "data": {
      "application/vnd.jupyter.widget-view+json": {
       "model_id": "",
       "version_major": 2,
       "version_minor": 0
      },
      "text/plain": [
       "FloatProgress(value=0.0, bar_style='info', description='Progress:', layout=Layout(height='25px', width='50%'),…"
      ]
     },
     "metadata": {},
     "output_type": "display_data"
    },
    {
     "name": "stdout",
     "output_type": "stream",
     "text": [
      "+-------------+-------------+----------+---------------+-----------------+----------------+------------------+------------+--------------------+----------+------------------+-----+\n",
      "|          _c0|          _c1|       _c2|            _c3|              _c4|             _c5|               _c6|         _c7|                 _c8|       _c9|              _c10| _c11|\n",
      "+-------------+-------------+----------+---------------+-----------------+----------------+------------------+------------+--------------------+----------+------------------+-----+\n",
      "|         City|        State|Median Age|Male Population|Female Population|Total Population|Number of Veterans|Foreign-born|Average Household...|State Code|              Race|Count|\n",
      "|Silver Spring|     Maryland|      33.8|          40601|            41862|           82463|              1562|       30908|                 2.6|        MD|Hispanic or Latino|25924|\n",
      "|       Quincy|Massachusetts|      41.0|          44129|            49500|           93629|              4147|       32935|                2.39|        MA|             White|58723|\n",
      "+-------------+-------------+----------+---------------+-----------------+----------------+------------------+------------+--------------------+----------+------------------+-----+\n",
      "only showing top 3 rows"
     ]
    }
   ],
   "source": [
    "df_city_dem.show(3)"
   ]
  },
  {
   "cell_type": "code",
   "execution_count": 69,
   "id": "e344a2f7",
   "metadata": {},
   "outputs": [
    {
     "data": {
      "application/vnd.jupyter.widget-view+json": {
       "model_id": "3544f27805f54ae48b6541cf9296a964",
       "version_major": 2,
       "version_minor": 0
      },
      "text/plain": [
       "VBox()"
      ]
     },
     "metadata": {},
     "output_type": "display_data"
    },
    {
     "data": {
      "application/vnd.jupyter.widget-view+json": {
       "model_id": "",
       "version_major": 2,
       "version_minor": 0
      },
      "text/plain": [
       "FloatProgress(value=0.0, bar_style='info', description='Progress:', layout=Layout(height='25px', width='50%'),…"
      ]
     },
     "metadata": {},
     "output_type": "display_data"
    }
   ],
   "source": [
    "df_mode  = spark.read.csv(\"s3://aws-logs-557613354735-us-east-1/New folder/data_n/i94mode.csv\")"
   ]
  },
  {
   "cell_type": "code",
   "execution_count": 70,
   "id": "b5b44a60",
   "metadata": {},
   "outputs": [
    {
     "data": {
      "application/vnd.jupyter.widget-view+json": {
       "model_id": "f552550352ed4951998e49236f7669e1",
       "version_major": 2,
       "version_minor": 0
      },
      "text/plain": [
       "VBox()"
      ]
     },
     "metadata": {},
     "output_type": "display_data"
    },
    {
     "data": {
      "application/vnd.jupyter.widget-view+json": {
       "model_id": "",
       "version_major": 2,
       "version_minor": 0
      },
      "text/plain": [
       "FloatProgress(value=0.0, bar_style='info', description='Progress:', layout=Layout(height='25px', width='50%'),…"
      ]
     },
     "metadata": {},
     "output_type": "display_data"
    },
    {
     "name": "stdout",
     "output_type": "stream",
     "text": [
      "+----+----+\n",
      "| _c0| _c1|\n",
      "+----+----+\n",
      "|code|mode|\n",
      "|   1| Air|\n",
      "+----+----+\n",
      "only showing top 2 rows"
     ]
    }
   ],
   "source": [
    "df_mode.show(2)"
   ]
  },
  {
   "cell_type": "code",
   "execution_count": 71,
   "id": "aef66062",
   "metadata": {},
   "outputs": [
    {
     "data": {
      "application/vnd.jupyter.widget-view+json": {
       "model_id": "ccb42867c4064139b604832901d95640",
       "version_major": 2,
       "version_minor": 0
      },
      "text/plain": [
       "VBox()"
      ]
     },
     "metadata": {},
     "output_type": "display_data"
    },
    {
     "data": {
      "application/vnd.jupyter.widget-view+json": {
       "model_id": "",
       "version_major": 2,
       "version_minor": 0
      },
      "text/plain": [
       "FloatProgress(value=0.0, bar_style='info', description='Progress:', layout=Layout(height='25px', width='50%'),…"
      ]
     },
     "metadata": {},
     "output_type": "display_data"
    }
   ],
   "source": [
    "df_country = spark.read.csv(\"s3://aws-logs-557613354735-us-east-1/New folder/data_n/i94cit_res.csv\")\n",
    "df_visa = spark.read.csv(\"s3://aws-logs-557613354735-us-east-1/New folder/data_n/i94visa.csv\")\n",
    "df_address = spark.read.csv(\"s3://aws-logs-557613354735-us-east-1/New folder/data_n/i94addr.csv\")"
   ]
  },
  {
   "cell_type": "code",
   "execution_count": 72,
   "id": "840b62d4",
   "metadata": {},
   "outputs": [
    {
     "data": {
      "application/vnd.jupyter.widget-view+json": {
       "model_id": "13df04446d6e45818e69abc7e4336f8b",
       "version_major": 2,
       "version_minor": 0
      },
      "text/plain": [
       "VBox()"
      ]
     },
     "metadata": {},
     "output_type": "display_data"
    },
    {
     "data": {
      "application/vnd.jupyter.widget-view+json": {
       "model_id": "",
       "version_major": 2,
       "version_minor": 0
      },
      "text/plain": [
       "FloatProgress(value=0.0, bar_style='info', description='Progress:', layout=Layout(height='25px', width='50%'),…"
      ]
     },
     "metadata": {},
     "output_type": "display_data"
    },
    {
     "name": "stdout",
     "output_type": "stream",
     "text": [
      "+----+--------------------+\n",
      "| _c0|                 _c1|\n",
      "+----+--------------------+\n",
      "|code|             country|\n",
      "| 525|BRITISH VIRGIN IS...|\n",
      "+----+--------------------+\n",
      "only showing top 2 rows"
     ]
    }
   ],
   "source": [
    "df_country.show(2)"
   ]
  },
  {
   "cell_type": "code",
   "execution_count": 73,
   "id": "4863d913",
   "metadata": {},
   "outputs": [
    {
     "data": {
      "application/vnd.jupyter.widget-view+json": {
       "model_id": "96c638c1e1a2420c81acfb21aef993c2",
       "version_major": 2,
       "version_minor": 0
      },
      "text/plain": [
       "VBox()"
      ]
     },
     "metadata": {},
     "output_type": "display_data"
    },
    {
     "data": {
      "application/vnd.jupyter.widget-view+json": {
       "model_id": "",
       "version_major": 2,
       "version_minor": 0
      },
      "text/plain": [
       "FloatProgress(value=0.0, bar_style='info', description='Progress:', layout=Layout(height='25px', width='50%'),…"
      ]
     },
     "metadata": {},
     "output_type": "display_data"
    },
    {
     "name": "stdout",
     "output_type": "stream",
     "text": [
      "+----+---------+\n",
      "| _c0|      _c1|\n",
      "+----+---------+\n",
      "|code|visa_type|\n",
      "|   1| Business|\n",
      "+----+---------+\n",
      "only showing top 2 rows"
     ]
    }
   ],
   "source": [
    "df_visa.show(2)"
   ]
  },
  {
   "cell_type": "code",
   "execution_count": 74,
   "id": "150ca38d",
   "metadata": {},
   "outputs": [
    {
     "data": {
      "application/vnd.jupyter.widget-view+json": {
       "model_id": "f74cbbaca9824893bee92e4394547c3a",
       "version_major": 2,
       "version_minor": 0
      },
      "text/plain": [
       "VBox()"
      ]
     },
     "metadata": {},
     "output_type": "display_data"
    },
    {
     "data": {
      "application/vnd.jupyter.widget-view+json": {
       "model_id": "",
       "version_major": 2,
       "version_minor": 0
      },
      "text/plain": [
       "FloatProgress(value=0.0, bar_style='info', description='Progress:', layout=Layout(height='25px', width='50%'),…"
      ]
     },
     "metadata": {},
     "output_type": "display_data"
    },
    {
     "name": "stdout",
     "output_type": "stream",
     "text": [
      "+----+-------+\n",
      "| _c0|    _c1|\n",
      "+----+-------+\n",
      "|code|  state|\n",
      "|  AL|ALABAMA|\n",
      "+----+-------+\n",
      "only showing top 2 rows"
     ]
    }
   ],
   "source": [
    "df_address.show(2)"
   ]
  },
  {
   "cell_type": "markdown",
   "id": "6534cd16",
   "metadata": {},
   "source": [
    "### Step 2: Explore and Assess the Data\n",
    "#### Explore the Data \n",
    "Identify data quality issues, like missing values, duplicate data, etc.\n",
    "\n",
    "#### Cleaning Steps\n",
    "- Immigratinon Data\n",
    "    1. Choose only the wanted columns.\n",
    "    2. Fixing Data Types\n",
    "    3. Get Date from SAS Date\n",
    "    4. Rename Columns\n",
    "    5. drop negative ages\n",
    "- OTHER\n",
    "   1. fix headers"
   ]
  },
  {
   "cell_type": "code",
   "execution_count": 9,
   "id": "c434f390",
   "metadata": {},
   "outputs": [
    {
     "data": {
      "application/vnd.jupyter.widget-view+json": {
       "model_id": "34d29140177a42f68c34b8387c93982c",
       "version_major": 2,
       "version_minor": 0
      },
      "text/plain": [
       "VBox()"
      ]
     },
     "metadata": {},
     "output_type": "display_data"
    },
    {
     "data": {
      "application/vnd.jupyter.widget-view+json": {
       "model_id": "",
       "version_major": 2,
       "version_minor": 0
      },
      "text/plain": [
       "FloatProgress(value=0.0, bar_style='info', description='Progress:', layout=Layout(height='25px', width='50%'),…"
      ]
     },
     "metadata": {},
     "output_type": "display_data"
    },
    {
     "name": "stdout",
     "output_type": "stream",
     "text": [
      "+-----+-----+\n",
      "|cicid|count|\n",
      "+-----+-----+\n",
      "+-----+-----+"
     ]
    }
   ],
   "source": [
    "df_i94 \\\n",
    "    .groupby(['cicid']) \\\n",
    "    .count() \\\n",
    "    .where('count > 1') \\\n",
    "    .sort('count', ascending=False) \\\n",
    "    .show()"
   ]
  },
  {
   "cell_type": "code",
   "execution_count": 10,
   "id": "3b30864d",
   "metadata": {},
   "outputs": [
    {
     "data": {
      "application/vnd.jupyter.widget-view+json": {
       "model_id": "cb760e34059f4043b81bc75302de78c4",
       "version_major": 2,
       "version_minor": 0
      },
      "text/plain": [
       "VBox()"
      ]
     },
     "metadata": {},
     "output_type": "display_data"
    },
    {
     "data": {
      "application/vnd.jupyter.widget-view+json": {
       "model_id": "",
       "version_major": 2,
       "version_minor": 0
      },
      "text/plain": [
       "FloatProgress(value=0.0, bar_style='info', description='Progress:', layout=Layout(height='25px', width='50%'),…"
      ]
     },
     "metadata": {},
     "output_type": "display_data"
    },
    {
     "name": "stdout",
     "output_type": "stream",
     "text": [
      "root\n",
      " |-- cicid: double (nullable = true)\n",
      " |-- i94yr: double (nullable = true)\n",
      " |-- i94mon: double (nullable = true)\n",
      " |-- i94cit: double (nullable = true)\n",
      " |-- i94res: double (nullable = true)\n",
      " |-- i94mode: double (nullable = true)\n",
      " |-- i94bir: double (nullable = true)\n",
      " |-- i94visa: double (nullable = true)\n",
      " |-- gender: string (nullable = true)\n",
      " |-- arrdate: double (nullable = true)\n",
      " |-- i94addr: string (nullable = true)"
     ]
    }
   ],
   "source": [
    "df_i94.printSchema()"
   ]
  },
  {
   "cell_type": "code",
   "execution_count": 11,
   "id": "720f1b9b",
   "metadata": {},
   "outputs": [
    {
     "data": {
      "application/vnd.jupyter.widget-view+json": {
       "model_id": "137695cd4cb54f5682cd237151a820e2",
       "version_major": 2,
       "version_minor": 0
      },
      "text/plain": [
       "VBox()"
      ]
     },
     "metadata": {},
     "output_type": "display_data"
    },
    {
     "data": {
      "application/vnd.jupyter.widget-view+json": {
       "model_id": "",
       "version_major": 2,
       "version_minor": 0
      },
      "text/plain": [
       "FloatProgress(value=0.0, bar_style='info', description='Progress:', layout=Layout(height='25px', width='50%'),…"
      ]
     },
     "metadata": {},
     "output_type": "display_data"
    }
   ],
   "source": [
    "from pyspark.sql.types import IntegerType, DateType\n",
    "df_i94 = df_i94.withColumn(\"cicid\",df_i94.cicid.cast(IntegerType()))\n",
    "df_i94 = df_i94.withColumn(\"i94yr\",df_i94.i94yr.cast(IntegerType()))\n",
    "df_i94 = df_i94.withColumn(\"i94mon\",df_i94.i94mon.cast(IntegerType()))\n",
    "df_i94 = df_i94.withColumn(\"i94cit\",df_i94.i94cit.cast(IntegerType()))\n",
    "df_i94 = df_i94.withColumn(\"i94res\",df_i94.i94res.cast(IntegerType()))\n",
    "df_i94 = df_i94.withColumn(\"i94mode\",df_i94.i94mode.cast(IntegerType()))\n",
    "df_i94 = df_i94.withColumn(\"i94bir\",df_i94.i94bir.cast(IntegerType()))\n",
    "df_i94 = df_i94.withColumn(\"i94visa\",df_i94.i94visa.cast(IntegerType()))\n",
    "df_i94 = df_i94.withColumn(\"arrdate\",df_i94.arrdate.cast(IntegerType()))"
   ]
  },
  {
   "cell_type": "code",
   "execution_count": 12,
   "id": "ad63c0e5",
   "metadata": {},
   "outputs": [
    {
     "data": {
      "application/vnd.jupyter.widget-view+json": {
       "model_id": "11e42ea6e2d94c50b68f280e0ae61253",
       "version_major": 2,
       "version_minor": 0
      },
      "text/plain": [
       "VBox()"
      ]
     },
     "metadata": {},
     "output_type": "display_data"
    },
    {
     "data": {
      "application/vnd.jupyter.widget-view+json": {
       "model_id": "",
       "version_major": 2,
       "version_minor": 0
      },
      "text/plain": [
       "FloatProgress(value=0.0, bar_style='info', description='Progress:', layout=Layout(height='25px', width='50%'),…"
      ]
     },
     "metadata": {},
     "output_type": "display_data"
    },
    {
     "name": "stdout",
     "output_type": "stream",
     "text": [
      "root\n",
      " |-- cicid: integer (nullable = true)\n",
      " |-- i94yr: integer (nullable = true)\n",
      " |-- i94mon: integer (nullable = true)\n",
      " |-- i94cit: integer (nullable = true)\n",
      " |-- i94res: integer (nullable = true)\n",
      " |-- i94mode: integer (nullable = true)\n",
      " |-- i94bir: integer (nullable = true)\n",
      " |-- i94visa: integer (nullable = true)\n",
      " |-- gender: string (nullable = true)\n",
      " |-- arrdate: integer (nullable = true)\n",
      " |-- i94addr: string (nullable = true)"
     ]
    }
   ],
   "source": [
    "df_i94.printSchema()"
   ]
  },
  {
   "cell_type": "code",
   "execution_count": 13,
   "id": "0951dba5",
   "metadata": {},
   "outputs": [
    {
     "data": {
      "application/vnd.jupyter.widget-view+json": {
       "model_id": "5799a0857ff8402280f7f48b38678615",
       "version_major": 2,
       "version_minor": 0
      },
      "text/plain": [
       "VBox()"
      ]
     },
     "metadata": {},
     "output_type": "display_data"
    },
    {
     "data": {
      "application/vnd.jupyter.widget-view+json": {
       "model_id": "",
       "version_major": 2,
       "version_minor": 0
      },
      "text/plain": [
       "FloatProgress(value=0.0, bar_style='info', description='Progress:', layout=Layout(height='25px', width='50%'),…"
      ]
     },
     "metadata": {},
     "output_type": "display_data"
    }
   ],
   "source": [
    "from pyspark.sql import functions as F\n",
    "from datetime import datetime, timedelta\n",
    "def get_date(x):\n",
    "    \"\"\"\n",
    "    Getting Dates from SAD DATE\n",
    "    # https://libguides.library.kent.edu/SAS/DatesTime\n",
    "    \"\"\"\n",
    "    try:\n",
    "        start = datetime(1960, 1, 1)\n",
    "        return start + timedelta(days=x)\n",
    "    except:\n",
    "        return None\n",
    "    \n",
    "get_date = F.udf(get_date, DateType())"
   ]
  },
  {
   "cell_type": "code",
   "execution_count": 14,
   "id": "fb795ae4",
   "metadata": {},
   "outputs": [
    {
     "data": {
      "application/vnd.jupyter.widget-view+json": {
       "model_id": "65e123a452884bdfba84a7f8cc9f2389",
       "version_major": 2,
       "version_minor": 0
      },
      "text/plain": [
       "VBox()"
      ]
     },
     "metadata": {},
     "output_type": "display_data"
    },
    {
     "data": {
      "application/vnd.jupyter.widget-view+json": {
       "model_id": "",
       "version_major": 2,
       "version_minor": 0
      },
      "text/plain": [
       "FloatProgress(value=0.0, bar_style='info', description='Progress:', layout=Layout(height='25px', width='50%'),…"
      ]
     },
     "metadata": {},
     "output_type": "display_data"
    },
    {
     "name": "stdout",
     "output_type": "stream",
     "text": [
      "+-------+----------+\n",
      "|arrdate|      date|\n",
      "+-------+----------+\n",
      "|  20574|2016-04-30|\n",
      "|  20574|2016-04-30|\n",
      "|  20574|2016-04-30|\n",
      "|  20574|2016-04-30|\n",
      "|  20574|2016-04-30|\n",
      "|  20574|2016-04-30|\n",
      "|  20574|2016-04-30|\n",
      "|  20574|2016-04-30|\n",
      "|  20574|2016-04-30|\n",
      "|  20574|2016-04-30|\n",
      "|  20574|2016-04-30|\n",
      "|  20574|2016-04-30|\n",
      "|  20574|2016-04-30|\n",
      "|  20574|2016-04-30|\n",
      "|  20574|2016-04-30|\n",
      "|  20574|2016-04-30|\n",
      "|  20574|2016-04-30|\n",
      "|  20574|2016-04-30|\n",
      "|  20574|2016-04-30|\n",
      "|  20574|2016-04-30|\n",
      "+-------+----------+\n",
      "only showing top 20 rows"
     ]
    }
   ],
   "source": [
    "df_i94.select('arrdate', get_date('arrdate').alias(\"date\")).show()"
   ]
  },
  {
   "cell_type": "code",
   "execution_count": 15,
   "id": "97855b37",
   "metadata": {},
   "outputs": [
    {
     "data": {
      "application/vnd.jupyter.widget-view+json": {
       "model_id": "0888b733d86044db82635d0c9a1160c4",
       "version_major": 2,
       "version_minor": 0
      },
      "text/plain": [
       "VBox()"
      ]
     },
     "metadata": {},
     "output_type": "display_data"
    },
    {
     "data": {
      "application/vnd.jupyter.widget-view+json": {
       "model_id": "",
       "version_major": 2,
       "version_minor": 0
      },
      "text/plain": [
       "FloatProgress(value=0.0, bar_style='info', description='Progress:', layout=Layout(height='25px', width='50%'),…"
      ]
     },
     "metadata": {},
     "output_type": "display_data"
    }
   ],
   "source": [
    "df_i94 = df_i94.withColumn(\"arrdate\", get_date(df_i94.arrdate)) "
   ]
  },
  {
   "cell_type": "code",
   "execution_count": 16,
   "id": "0672dba5",
   "metadata": {},
   "outputs": [
    {
     "data": {
      "application/vnd.jupyter.widget-view+json": {
       "model_id": "54f26ad9eee1478483bbac4c39eb90b9",
       "version_major": 2,
       "version_minor": 0
      },
      "text/plain": [
       "VBox()"
      ]
     },
     "metadata": {},
     "output_type": "display_data"
    },
    {
     "data": {
      "application/vnd.jupyter.widget-view+json": {
       "model_id": "",
       "version_major": 2,
       "version_minor": 0
      },
      "text/plain": [
       "FloatProgress(value=0.0, bar_style='info', description='Progress:', layout=Layout(height='25px', width='50%'),…"
      ]
     },
     "metadata": {},
     "output_type": "display_data"
    },
    {
     "name": "stdout",
     "output_type": "stream",
     "text": [
      "root\n",
      " |-- cicid: integer (nullable = true)\n",
      " |-- i94yr: integer (nullable = true)\n",
      " |-- i94mon: integer (nullable = true)\n",
      " |-- i94cit: integer (nullable = true)\n",
      " |-- i94res: integer (nullable = true)\n",
      " |-- i94mode: integer (nullable = true)\n",
      " |-- i94bir: integer (nullable = true)\n",
      " |-- i94visa: integer (nullable = true)\n",
      " |-- gender: string (nullable = true)\n",
      " |-- arrdate: date (nullable = true)\n",
      " |-- i94addr: string (nullable = true)"
     ]
    }
   ],
   "source": [
    "df_i94.printSchema()"
   ]
  },
  {
   "cell_type": "code",
   "execution_count": 17,
   "id": "6cebc285",
   "metadata": {},
   "outputs": [
    {
     "data": {
      "application/vnd.jupyter.widget-view+json": {
       "model_id": "fdf9d53ba0c747cbbcce1319c2679b4e",
       "version_major": 2,
       "version_minor": 0
      },
      "text/plain": [
       "VBox()"
      ]
     },
     "metadata": {},
     "output_type": "display_data"
    },
    {
     "data": {
      "application/vnd.jupyter.widget-view+json": {
       "model_id": "",
       "version_major": 2,
       "version_minor": 0
      },
      "text/plain": [
       "FloatProgress(value=0.0, bar_style='info', description='Progress:', layout=Layout(height='25px', width='50%'),…"
      ]
     },
     "metadata": {},
     "output_type": "display_data"
    }
   ],
   "source": [
    "df_i94 = df_i94.withColumnRenamed(\"cicid\", \"id\")\n",
    "df_i94 = df_i94.withColumnRenamed(\"i94yr\", \"year\")\n",
    "df_i94 = df_i94.withColumnRenamed(\"i94mon\", \"month\")\n",
    "df_i94 = df_i94.withColumnRenamed(\"i94cit\", \"citizenship_code\")\n",
    "df_i94 = df_i94.withColumnRenamed(\"i94res\", \"residence_code\")\n",
    "df_i94 = df_i94.withColumnRenamed(\"i94mode\", \"mode\")\n",
    "df_i94 = df_i94.withColumnRenamed(\"i94bir\", \"age\")\n",
    "df_i94 = df_i94.withColumnRenamed(\"i94visa\", \"visa_type\")\n",
    "df_i94 = df_i94.withColumnRenamed(\"arrdate\", \"dt_arrival\")\n",
    "df_i94 = df_i94.withColumnRenamed(\"i94addr\", \"address\")"
   ]
  },
  {
   "cell_type": "code",
   "execution_count": 18,
   "id": "f21a71dc",
   "metadata": {},
   "outputs": [
    {
     "data": {
      "application/vnd.jupyter.widget-view+json": {
       "model_id": "e87a86c02895448496515a85c8d28088",
       "version_major": 2,
       "version_minor": 0
      },
      "text/plain": [
       "VBox()"
      ]
     },
     "metadata": {},
     "output_type": "display_data"
    },
    {
     "data": {
      "application/vnd.jupyter.widget-view+json": {
       "model_id": "",
       "version_major": 2,
       "version_minor": 0
      },
      "text/plain": [
       "FloatProgress(value=0.0, bar_style='info', description='Progress:', layout=Layout(height='25px', width='50%'),…"
      ]
     },
     "metadata": {},
     "output_type": "display_data"
    },
    {
     "name": "stdout",
     "output_type": "stream",
     "text": [
      "+-------+----+-----+----------------+--------------+----+---+---------+------+----------+-------+\n",
      "|     id|year|month|citizenship_code|residence_code|mode|age|visa_type|gender|dt_arrival|address|\n",
      "+-------+----+-----+----------------+--------------+----+---+---------+------+----------+-------+\n",
      "|5748517|2016|    4|             245|           438|   1| 40|        1|     F|2016-04-30|     CA|\n",
      "|5748518|2016|    4|             245|           438|   1| 32|        1|     F|2016-04-30|     NV|\n",
      "+-------+----+-----+----------------+--------------+----+---+---------+------+----------+-------+\n",
      "only showing top 2 rows\n",
      "\n",
      "----------------------------------------\n",
      "Exception happened during processing of request from ('127.0.0.1', 45906)\n",
      "Traceback (most recent call last):\n",
      "  File \"/usr/lib64/python3.6/socketserver.py\", line 320, in _handle_request_noblock\n",
      "    self.process_request(request, client_address)\n",
      "  File \"/usr/lib64/python3.6/socketserver.py\", line 351, in process_request\n",
      "    self.finish_request(request, client_address)\n",
      "  File \"/usr/lib64/python3.6/socketserver.py\", line 364, in finish_request\n",
      "    self.RequestHandlerClass(request, client_address, self)\n",
      "  File \"/usr/lib64/python3.6/socketserver.py\", line 724, in __init__\n",
      "    self.handle()\n",
      "  File \"/usr/lib/spark/python/lib/pyspark.zip/pyspark/accumulators.py\", line 266, in handle\n",
      "    poll(authenticate_and_accum_updates)\n",
      "  File \"/usr/lib/spark/python/lib/pyspark.zip/pyspark/accumulators.py\", line 241, in poll\n",
      "    if func():\n",
      "  File \"/usr/lib/spark/python/lib/pyspark.zip/pyspark/accumulators.py\", line 254, in authenticate_and_accum_updates\n",
      "    received_token = self.rfile.read(len(auth_token))\n",
      "TypeError: object of type 'NoneType' has no len()\n",
      "----------------------------------------"
     ]
    }
   ],
   "source": [
    "df_i94.show(2)"
   ]
  },
  {
   "cell_type": "code",
   "execution_count": 19,
   "id": "8da0cd69",
   "metadata": {},
   "outputs": [
    {
     "data": {
      "application/vnd.jupyter.widget-view+json": {
       "model_id": "eae2d3f257dd4ad0869192dace5e0da6",
       "version_major": 2,
       "version_minor": 0
      },
      "text/plain": [
       "VBox()"
      ]
     },
     "metadata": {},
     "output_type": "display_data"
    },
    {
     "data": {
      "application/vnd.jupyter.widget-view+json": {
       "model_id": "",
       "version_major": 2,
       "version_minor": 0
      },
      "text/plain": [
       "FloatProgress(value=0.0, bar_style='info', description='Progress:', layout=Layout(height='25px', width='50%'),…"
      ]
     },
     "metadata": {},
     "output_type": "display_data"
    },
    {
     "name": "stdout",
     "output_type": "stream",
     "text": [
      "root\n",
      " |-- id: integer (nullable = true)\n",
      " |-- year: integer (nullable = true)\n",
      " |-- month: integer (nullable = true)\n",
      " |-- citizenship_code: integer (nullable = true)\n",
      " |-- residence_code: integer (nullable = true)\n",
      " |-- mode: integer (nullable = true)\n",
      " |-- age: integer (nullable = true)\n",
      " |-- visa_type: integer (nullable = true)\n",
      " |-- gender: string (nullable = true)\n",
      " |-- dt_arrival: date (nullable = true)\n",
      " |-- address: string (nullable = true)"
     ]
    }
   ],
   "source": [
    "df_i94.printSchema()"
   ]
  },
  {
   "cell_type": "code",
   "execution_count": 20,
   "id": "79efb0a5",
   "metadata": {},
   "outputs": [
    {
     "data": {
      "application/vnd.jupyter.widget-view+json": {
       "model_id": "0d988c32e6b5428ab189a96135d5dedc",
       "version_major": 2,
       "version_minor": 0
      },
      "text/plain": [
       "VBox()"
      ]
     },
     "metadata": {},
     "output_type": "display_data"
    },
    {
     "data": {
      "application/vnd.jupyter.widget-view+json": {
       "model_id": "",
       "version_major": 2,
       "version_minor": 0
      },
      "text/plain": [
       "FloatProgress(value=0.0, bar_style='info', description='Progress:', layout=Layout(height='25px', width='50%'),…"
      ]
     },
     "metadata": {},
     "output_type": "display_data"
    }
   ],
   "source": [
    "df_i94.createOrReplaceTempView('i94')\n"
   ]
  },
  {
   "cell_type": "code",
   "execution_count": 21,
   "id": "e991d824",
   "metadata": {},
   "outputs": [
    {
     "data": {
      "application/vnd.jupyter.widget-view+json": {
       "model_id": "03b0f1582eda4b9489efb7abe271c195",
       "version_major": 2,
       "version_minor": 0
      },
      "text/plain": [
       "VBox()"
      ]
     },
     "metadata": {},
     "output_type": "display_data"
    },
    {
     "data": {
      "application/vnd.jupyter.widget-view+json": {
       "model_id": "",
       "version_major": 2,
       "version_minor": 0
      },
      "text/plain": [
       "FloatProgress(value=0.0, bar_style='info', description='Progress:', layout=Layout(height='25px', width='50%'),…"
      ]
     },
     "metadata": {},
     "output_type": "display_data"
    },
    {
     "name": "stdout",
     "output_type": "stream",
     "text": [
      "+-------+----+-----+----------------+--------------+----+---+---------+------+----------+-------+\n",
      "|     id|year|month|citizenship_code|residence_code|mode|age|visa_type|gender|dt_arrival|address|\n",
      "+-------+----+-----+----------------+--------------+----+---+---------+------+----------+-------+\n",
      "|1817663|2016|    4|             148|           131|   1| 23|        2|     F|2016-04-10|     CA|\n",
      "|1817664|2016|    4|             148|           131|   1| 29|        1|     M|2016-04-10|     CA|\n",
      "|1817665|2016|    4|             148|           131|   1| 47|        1|     M|2016-04-10|     CA|\n",
      "|1817666|2016|    4|             148|           131|   1| 37|        2|     F|2016-04-10|     CA|\n",
      "|1817667|2016|    4|             148|           131|   1| 41|        2|     M|2016-04-10|     CA|\n",
      "+-------+----+-----+----------------+--------------+----+---+---------+------+----------+-------+"
     ]
    }
   ],
   "source": [
    "spark.sql(\"SELECT * FROM i94 LIMIT 5\").show()"
   ]
  },
  {
   "cell_type": "code",
   "execution_count": 22,
   "id": "b9c7a203",
   "metadata": {},
   "outputs": [
    {
     "data": {
      "application/vnd.jupyter.widget-view+json": {
       "model_id": "6bafe7af769e4a179961271ed6e1d350",
       "version_major": 2,
       "version_minor": 0
      },
      "text/plain": [
       "VBox()"
      ]
     },
     "metadata": {},
     "output_type": "display_data"
    },
    {
     "data": {
      "application/vnd.jupyter.widget-view+json": {
       "model_id": "",
       "version_major": 2,
       "version_minor": 0
      },
      "text/plain": [
       "FloatProgress(value=0.0, bar_style='info', description='Progress:', layout=Layout(height='25px', width='50%'),…"
      ]
     },
     "metadata": {},
     "output_type": "display_data"
    },
    {
     "name": "stdout",
     "output_type": "stream",
     "text": [
      "+---------------+---------------+\n",
      "|max(dt_arrival)|min(dt_arrival)|\n",
      "+---------------+---------------+\n",
      "|     2016-04-30|     2016-04-01|\n",
      "+---------------+---------------+"
     ]
    }
   ],
   "source": [
    "spark.sql(\"SELECT max(dt_arrival), min(dt_arrival) FROM i94 LIMIT 5\").show()"
   ]
  },
  {
   "cell_type": "code",
   "execution_count": 23,
   "id": "0cb3f6d0",
   "metadata": {},
   "outputs": [
    {
     "data": {
      "application/vnd.jupyter.widget-view+json": {
       "model_id": "d36ace382d44459dba7988334a439327",
       "version_major": 2,
       "version_minor": 0
      },
      "text/plain": [
       "VBox()"
      ]
     },
     "metadata": {},
     "output_type": "display_data"
    },
    {
     "data": {
      "application/vnd.jupyter.widget-view+json": {
       "model_id": "",
       "version_major": 2,
       "version_minor": 0
      },
      "text/plain": [
       "FloatProgress(value=0.0, bar_style='info', description='Progress:', layout=Layout(height='25px', width='50%'),…"
      ]
     },
     "metadata": {},
     "output_type": "display_data"
    },
    {
     "name": "stdout",
     "output_type": "stream",
     "text": [
      "+--------+--------+------------------+\n",
      "|max(age)|min(age)|          avg(age)|\n",
      "+--------+--------+------------------+\n",
      "|     114|      -3|41.767614458485205|\n",
      "+--------+--------+------------------+"
     ]
    }
   ],
   "source": [
    "spark.sql(\"SELECT max(age), min(age), avg(age) FROM i94 LIMIT 5\").show()"
   ]
  },
  {
   "cell_type": "markdown",
   "id": "62819916",
   "metadata": {},
   "source": [
    "## drop -ve ages"
   ]
  },
  {
   "cell_type": "code",
   "execution_count": 24,
   "id": "15e6a055",
   "metadata": {},
   "outputs": [
    {
     "data": {
      "application/vnd.jupyter.widget-view+json": {
       "model_id": "4cc25d05a88d483d8be0fb168da1fc49",
       "version_major": 2,
       "version_minor": 0
      },
      "text/plain": [
       "VBox()"
      ]
     },
     "metadata": {},
     "output_type": "display_data"
    },
    {
     "data": {
      "application/vnd.jupyter.widget-view+json": {
       "model_id": "",
       "version_major": 2,
       "version_minor": 0
      },
      "text/plain": [
       "FloatProgress(value=0.0, bar_style='info', description='Progress:', layout=Layout(height='25px', width='50%'),…"
      ]
     },
     "metadata": {},
     "output_type": "display_data"
    }
   ],
   "source": [
    "df_i94 = df_i94.where(df_i94.age > 0)"
   ]
  },
  {
   "cell_type": "code",
   "execution_count": 25,
   "id": "09d14b85",
   "metadata": {},
   "outputs": [
    {
     "data": {
      "application/vnd.jupyter.widget-view+json": {
       "model_id": "eeaeebe148c147bab45c22b502025726",
       "version_major": 2,
       "version_minor": 0
      },
      "text/plain": [
       "VBox()"
      ]
     },
     "metadata": {},
     "output_type": "display_data"
    },
    {
     "data": {
      "application/vnd.jupyter.widget-view+json": {
       "model_id": "",
       "version_major": 2,
       "version_minor": 0
      },
      "text/plain": [
       "FloatProgress(value=0.0, bar_style='info', description='Progress:', layout=Layout(height='25px', width='50%'),…"
      ]
     },
     "metadata": {},
     "output_type": "display_data"
    }
   ],
   "source": [
    "df_i94.createOrReplaceTempView('i94')"
   ]
  },
  {
   "cell_type": "code",
   "execution_count": 26,
   "id": "f41c34bf",
   "metadata": {},
   "outputs": [
    {
     "data": {
      "application/vnd.jupyter.widget-view+json": {
       "model_id": "01dcb3e95c47494389bb2119307cd081",
       "version_major": 2,
       "version_minor": 0
      },
      "text/plain": [
       "VBox()"
      ]
     },
     "metadata": {},
     "output_type": "display_data"
    },
    {
     "data": {
      "application/vnd.jupyter.widget-view+json": {
       "model_id": "",
       "version_major": 2,
       "version_minor": 0
      },
      "text/plain": [
       "FloatProgress(value=0.0, bar_style='info', description='Progress:', layout=Layout(height='25px', width='50%'),…"
      ]
     },
     "metadata": {},
     "output_type": "display_data"
    },
    {
     "name": "stdout",
     "output_type": "stream",
     "text": [
      "+--------+--------+-----------------+\n",
      "|max(age)|min(age)|         avg(age)|\n",
      "+--------+--------+-----------------+\n",
      "|     114|       1|41.77795359553049|\n",
      "+--------+--------+-----------------+"
     ]
    }
   ],
   "source": [
    "spark.sql(\"SELECT max(age), min(age), avg(age) FROM i94 LIMIT 5\").show()"
   ]
  },
  {
   "cell_type": "code",
   "execution_count": 27,
   "id": "07ee4473",
   "metadata": {},
   "outputs": [
    {
     "data": {
      "application/vnd.jupyter.widget-view+json": {
       "model_id": "2b8561314f3b4f13831c8be0acbd41ff",
       "version_major": 2,
       "version_minor": 0
      },
      "text/plain": [
       "VBox()"
      ]
     },
     "metadata": {},
     "output_type": "display_data"
    },
    {
     "data": {
      "application/vnd.jupyter.widget-view+json": {
       "model_id": "",
       "version_major": 2,
       "version_minor": 0
      },
      "text/plain": [
       "FloatProgress(value=0.0, bar_style='info', description='Progress:', layout=Layout(height='25px', width='50%'),…"
      ]
     },
     "metadata": {},
     "output_type": "display_data"
    },
    {
     "name": "stdout",
     "output_type": "stream",
     "text": [
      "[Row(_c0='City', _c1='State', _c2='Median Age', _c3='Male Population', _c4='Female Population', _c5='Total Population', _c6='Number of Veterans', _c7='Foreign-born', _c8='Average Household Size', _c9='State Code', _c10='Race', _c11='Count')]"
     ]
    }
   ],
   "source": [
    "df_city_dem.take(1)"
   ]
  },
  {
   "cell_type": "code",
   "execution_count": 28,
   "id": "334cc922",
   "metadata": {},
   "outputs": [
    {
     "data": {
      "application/vnd.jupyter.widget-view+json": {
       "model_id": "99c81be15f004b2fbaa46b558a5485cb",
       "version_major": 2,
       "version_minor": 0
      },
      "text/plain": [
       "VBox()"
      ]
     },
     "metadata": {},
     "output_type": "display_data"
    },
    {
     "data": {
      "application/vnd.jupyter.widget-view+json": {
       "model_id": "",
       "version_major": 2,
       "version_minor": 0
      },
      "text/plain": [
       "FloatProgress(value=0.0, bar_style='info', description='Progress:', layout=Layout(height='25px', width='50%'),…"
      ]
     },
     "metadata": {},
     "output_type": "display_data"
    }
   ],
   "source": [
    "r = \"\"\"c0='City', _c1='State', _c2='Median Age', _c3='Male Population', _c4='Female Population', _c5='Total Population', _c6='Number of Veterans', _c7='Foreign-born', _c8='Average Household Size', _c9='State Code', _c10='Race', _c11='Count'\"\"\""
   ]
  },
  {
   "cell_type": "code",
   "execution_count": 29,
   "id": "4375d27e",
   "metadata": {},
   "outputs": [
    {
     "data": {
      "application/vnd.jupyter.widget-view+json": {
       "model_id": "deb7c6cba3ac459c90a7ee94c6ac077c",
       "version_major": 2,
       "version_minor": 0
      },
      "text/plain": [
       "VBox()"
      ]
     },
     "metadata": {},
     "output_type": "display_data"
    },
    {
     "data": {
      "application/vnd.jupyter.widget-view+json": {
       "model_id": "",
       "version_major": 2,
       "version_minor": 0
      },
      "text/plain": [
       "FloatProgress(value=0.0, bar_style='info', description='Progress:', layout=Layout(height='25px', width='50%'),…"
      ]
     },
     "metadata": {},
     "output_type": "display_data"
    }
   ],
   "source": [
    "for i in r.split(','):\n",
    "    old, new = i.replace(\"'\",\"\").split(\"=\")\n",
    "    df_city_dem = df_city_dem.withColumnRenamed(old.strip(), new.strip())"
   ]
  },
  {
   "cell_type": "code",
   "execution_count": 30,
   "id": "702810b7",
   "metadata": {},
   "outputs": [
    {
     "data": {
      "application/vnd.jupyter.widget-view+json": {
       "model_id": "3c43609ddf194741b121e54f4f6142f9",
       "version_major": 2,
       "version_minor": 0
      },
      "text/plain": [
       "VBox()"
      ]
     },
     "metadata": {},
     "output_type": "display_data"
    },
    {
     "data": {
      "application/vnd.jupyter.widget-view+json": {
       "model_id": "",
       "version_major": 2,
       "version_minor": 0
      },
      "text/plain": [
       "FloatProgress(value=0.0, bar_style='info', description='Progress:', layout=Layout(height='25px', width='50%'),…"
      ]
     },
     "metadata": {},
     "output_type": "display_data"
    },
    {
     "name": "stdout",
     "output_type": "stream",
     "text": [
      "+----------------+--------------+----------+---------------+-----------------+----------------+------------------+------------+----------------------+----------+--------------------+------+\n",
      "|             _c0|         State|Median Age|Male Population|Female Population|Total Population|Number of Veterans|Foreign-born|Average Household Size|State Code|                Race| Count|\n",
      "+----------------+--------------+----------+---------------+-----------------+----------------+------------------+------------+----------------------+----------+--------------------+------+\n",
      "|            City|         State|Median Age|Male Population|Female Population|Total Population|Number of Veterans|Foreign-born|  Average Household...|State Code|                Race| Count|\n",
      "|   Silver Spring|      Maryland|      33.8|          40601|            41862|           82463|              1562|       30908|                   2.6|        MD|  Hispanic or Latino| 25924|\n",
      "|          Quincy| Massachusetts|      41.0|          44129|            49500|           93629|              4147|       32935|                  2.39|        MA|               White| 58723|\n",
      "|          Hoover|       Alabama|      38.5|          38040|            46799|           84839|              4819|        8229|                  2.58|        AL|               Asian|  4759|\n",
      "|Rancho Cucamonga|    California|      34.5|          88127|            87105|          175232|              5821|       33878|                  3.18|        CA|Black or African-...| 24437|\n",
      "|          Newark|    New Jersey|      34.6|         138040|           143873|          281913|              5829|       86253|                  2.73|        NJ|               White| 76402|\n",
      "|          Peoria|      Illinois|      33.1|          56229|            62432|          118661|              6634|        7517|                   2.4|        IL|American Indian a...|  1343|\n",
      "|        Avondale|       Arizona|      29.1|          38712|            41971|           80683|              4815|        8355|                  3.18|        AZ|Black or African-...| 11592|\n",
      "|     West Covina|    California|      39.8|          51629|            56860|          108489|              3800|       37038|                  3.56|        CA|               Asian| 32716|\n",
      "|        O'Fallon|      Missouri|      36.0|          41762|            43270|           85032|              5783|        3269|                  2.77|        MO|  Hispanic or Latino|  2583|\n",
      "|      High Point|North Carolina|      35.5|          51751|            58077|          109828|              5204|       16315|                  2.65|        NC|               Asian| 11060|\n",
      "|          Folsom|    California|      40.9|          41051|            35317|           76368|              4187|       13234|                  2.62|        CA|  Hispanic or Latino|  5822|\n",
      "|          Folsom|    California|      40.9|          41051|            35317|           76368|              4187|       13234|                  2.62|        CA|American Indian a...|   998|\n",
      "|    Philadelphia|  Pennsylvania|      34.1|         741270|           826172|         1567442|             61995|      205339|                  2.61|        PA|               Asian|122721|\n",
      "|         Wichita|        Kansas|      34.6|         192354|           197601|          389955|             23978|       40270|                  2.56|        KS|  Hispanic or Latino| 65162|\n",
      "|         Wichita|        Kansas|      34.6|         192354|           197601|          389955|             23978|       40270|                  2.56|        KS|American Indian a...|  8791|\n",
      "|      Fort Myers|       Florida|      37.3|          36850|            37165|           74015|              4312|       15365|                  2.45|        FL|               White| 50169|\n",
      "|      Pittsburgh|  Pennsylvania|      32.9|         149690|           154695|          304385|             17728|       28187|                  2.13|        PA|               White|208863|\n",
      "|          Laredo|         Texas|      28.8|         124305|           131484|          255789|              4921|       68427|                  3.66|        TX|American Indian a...|  1253|\n",
      "|        Berkeley|    California|      32.5|          60142|            60829|          120971|              3736|       25000|                  2.35|        CA|               Asian| 27089|\n",
      "+----------------+--------------+----------+---------------+-----------------+----------------+------------------+------------+----------------------+----------+--------------------+------+\n",
      "only showing top 20 rows"
     ]
    }
   ],
   "source": [
    "df_city_dem.show()"
   ]
  },
  {
   "cell_type": "code",
   "execution_count": 31,
   "id": "5e5c916c",
   "metadata": {},
   "outputs": [
    {
     "data": {
      "application/vnd.jupyter.widget-view+json": {
       "model_id": "2b707dec2b0b44c89156ab4cfe426742",
       "version_major": 2,
       "version_minor": 0
      },
      "text/plain": [
       "VBox()"
      ]
     },
     "metadata": {},
     "output_type": "display_data"
    },
    {
     "data": {
      "application/vnd.jupyter.widget-view+json": {
       "model_id": "",
       "version_major": 2,
       "version_minor": 0
      },
      "text/plain": [
       "FloatProgress(value=0.0, bar_style='info', description='Progress:', layout=Layout(height='25px', width='50%'),…"
      ]
     },
     "metadata": {},
     "output_type": "display_data"
    }
   ],
   "source": [
    "df_city_dem = df_city_dem.withColumnRenamed(\"_c0\", \"City\")"
   ]
  },
  {
   "cell_type": "code",
   "execution_count": 32,
   "id": "0007166b",
   "metadata": {},
   "outputs": [
    {
     "data": {
      "application/vnd.jupyter.widget-view+json": {
       "model_id": "b322ba0fd74c4b5ca514e70f0aa29cc9",
       "version_major": 2,
       "version_minor": 0
      },
      "text/plain": [
       "VBox()"
      ]
     },
     "metadata": {},
     "output_type": "display_data"
    },
    {
     "data": {
      "application/vnd.jupyter.widget-view+json": {
       "model_id": "",
       "version_major": 2,
       "version_minor": 0
      },
      "text/plain": [
       "FloatProgress(value=0.0, bar_style='info', description='Progress:', layout=Layout(height='25px', width='50%'),…"
      ]
     },
     "metadata": {},
     "output_type": "display_data"
    },
    {
     "name": "stdout",
     "output_type": "stream",
     "text": [
      "+-------------+--------+----------+---------------+-----------------+----------------+------------------+------------+----------------------+----------+------------------+-----+\n",
      "|         City|   State|Median Age|Male Population|Female Population|Total Population|Number of Veterans|Foreign-born|Average Household Size|State Code|              Race|Count|\n",
      "+-------------+--------+----------+---------------+-----------------+----------------+------------------+------------+----------------------+----------+------------------+-----+\n",
      "|         City|   State|Median Age|Male Population|Female Population|Total Population|Number of Veterans|Foreign-born|  Average Household...|State Code|              Race|Count|\n",
      "|Silver Spring|Maryland|      33.8|          40601|            41862|           82463|              1562|       30908|                   2.6|        MD|Hispanic or Latino|25924|\n",
      "+-------------+--------+----------+---------------+-----------------+----------------+------------------+------------+----------------------+----------+------------------+-----+\n",
      "only showing top 2 rows"
     ]
    }
   ],
   "source": [
    "df_city_dem.show(2)"
   ]
  },
  {
   "cell_type": "code",
   "execution_count": 33,
   "id": "468c6c60",
   "metadata": {},
   "outputs": [
    {
     "data": {
      "application/vnd.jupyter.widget-view+json": {
       "model_id": "8790e686c68943d8a84825d1918f6dab",
       "version_major": 2,
       "version_minor": 0
      },
      "text/plain": [
       "VBox()"
      ]
     },
     "metadata": {},
     "output_type": "display_data"
    },
    {
     "data": {
      "application/vnd.jupyter.widget-view+json": {
       "model_id": "",
       "version_major": 2,
       "version_minor": 0
      },
      "text/plain": [
       "FloatProgress(value=0.0, bar_style='info', description='Progress:', layout=Layout(height='25px', width='50%'),…"
      ]
     },
     "metadata": {},
     "output_type": "display_data"
    }
   ],
   "source": [
    "# remove first row\n",
    "df_city_dem = df_city_dem.filter(df_city_dem.City != \"City\")"
   ]
  },
  {
   "cell_type": "code",
   "execution_count": 34,
   "id": "d5948719",
   "metadata": {},
   "outputs": [
    {
     "data": {
      "application/vnd.jupyter.widget-view+json": {
       "model_id": "390e78253db540328cfc12300def2bce",
       "version_major": 2,
       "version_minor": 0
      },
      "text/plain": [
       "VBox()"
      ]
     },
     "metadata": {},
     "output_type": "display_data"
    },
    {
     "data": {
      "application/vnd.jupyter.widget-view+json": {
       "model_id": "",
       "version_major": 2,
       "version_minor": 0
      },
      "text/plain": [
       "FloatProgress(value=0.0, bar_style='info', description='Progress:', layout=Layout(height='25px', width='50%'),…"
      ]
     },
     "metadata": {},
     "output_type": "display_data"
    },
    {
     "name": "stdout",
     "output_type": "stream",
     "text": [
      "+-------------+-------------+----------+---------------+-----------------+----------------+------------------+------------+----------------------+----------+------------------+-----+\n",
      "|         City|        State|Median Age|Male Population|Female Population|Total Population|Number of Veterans|Foreign-born|Average Household Size|State Code|              Race|Count|\n",
      "+-------------+-------------+----------+---------------+-----------------+----------------+------------------+------------+----------------------+----------+------------------+-----+\n",
      "|Silver Spring|     Maryland|      33.8|          40601|            41862|           82463|              1562|       30908|                   2.6|        MD|Hispanic or Latino|25924|\n",
      "|       Quincy|Massachusetts|      41.0|          44129|            49500|           93629|              4147|       32935|                  2.39|        MA|             White|58723|\n",
      "+-------------+-------------+----------+---------------+-----------------+----------------+------------------+------------+----------------------+----------+------------------+-----+\n",
      "only showing top 2 rows"
     ]
    }
   ],
   "source": [
    "df_city_dem.show(2)"
   ]
  },
  {
   "cell_type": "code",
   "execution_count": 35,
   "id": "9ae2eafc",
   "metadata": {},
   "outputs": [
    {
     "data": {
      "application/vnd.jupyter.widget-view+json": {
       "model_id": "95a49b82a2e44828a87a6f7478b3168e",
       "version_major": 2,
       "version_minor": 0
      },
      "text/plain": [
       "VBox()"
      ]
     },
     "metadata": {},
     "output_type": "display_data"
    },
    {
     "data": {
      "application/vnd.jupyter.widget-view+json": {
       "model_id": "",
       "version_major": 2,
       "version_minor": 0
      },
      "text/plain": [
       "FloatProgress(value=0.0, bar_style='info', description='Progress:', layout=Layout(height='25px', width='50%'),…"
      ]
     },
     "metadata": {},
     "output_type": "display_data"
    },
    {
     "name": "stdout",
     "output_type": "stream",
     "text": [
      "root\n",
      " |-- City: string (nullable = true)\n",
      " |-- State: string (nullable = true)\n",
      " |-- Median Age: string (nullable = true)\n",
      " |-- Male Population: string (nullable = true)\n",
      " |-- Female Population: string (nullable = true)\n",
      " |-- Total Population: string (nullable = true)\n",
      " |-- Number of Veterans: string (nullable = true)\n",
      " |-- Foreign-born: string (nullable = true)\n",
      " |-- Average Household Size: string (nullable = true)\n",
      " |-- State Code: string (nullable = true)\n",
      " |-- Race: string (nullable = true)\n",
      " |-- Count: string (nullable = true)"
     ]
    }
   ],
   "source": [
    "df_city_dem.printSchema()"
   ]
  },
  {
   "cell_type": "code",
   "execution_count": 36,
   "id": "f2f63328",
   "metadata": {},
   "outputs": [
    {
     "data": {
      "application/vnd.jupyter.widget-view+json": {
       "model_id": "b6002135823c41b5bf3a0d02999ef4f6",
       "version_major": 2,
       "version_minor": 0
      },
      "text/plain": [
       "VBox()"
      ]
     },
     "metadata": {},
     "output_type": "display_data"
    },
    {
     "data": {
      "application/vnd.jupyter.widget-view+json": {
       "model_id": "",
       "version_major": 2,
       "version_minor": 0
      },
      "text/plain": [
       "FloatProgress(value=0.0, bar_style='info', description='Progress:', layout=Layout(height='25px', width='50%'),…"
      ]
     },
     "metadata": {},
     "output_type": "display_data"
    }
   ],
   "source": [
    "df_city_dem = df_city_dem.withColumnRenamed(\"City\", \"city\")\n",
    "df_city_dem = df_city_dem.withColumnRenamed(\"State\", \"state\")\n",
    "df_city_dem = df_city_dem.withColumnRenamed(\"Median Age\", \"median_age\")\n",
    "df_city_dem = df_city_dem.withColumnRenamed(\"Male Population\", \"male_population\")\n",
    "df_city_dem = df_city_dem.withColumnRenamed(\"Female Population\", \"female_population\")\n",
    "df_city_dem = df_city_dem.withColumnRenamed(\"Total Population\", \"total_population\")\n",
    "df_city_dem = df_city_dem.withColumnRenamed(\"Number of Veterans\", \"n_veterans\")\n",
    "df_city_dem = df_city_dem.withColumnRenamed(\"Foreign-born\", \"foreign_born\")\n",
    "df_city_dem = df_city_dem.withColumnRenamed(\"Average Household Size\", \"avg_household_size\")\n",
    "df_city_dem = df_city_dem.withColumnRenamed(\"State Code\", \"state_code\")\n",
    "df_city_dem = df_city_dem.withColumnRenamed(\"Race\", \"race\")\n",
    "df_city_dem = df_city_dem.withColumnRenamed(\"City\", \"city\")\n"
   ]
  },
  {
   "cell_type": "code",
   "execution_count": 37,
   "id": "50a7a60b",
   "metadata": {},
   "outputs": [
    {
     "data": {
      "application/vnd.jupyter.widget-view+json": {
       "model_id": "fac89ca192a84e5f89848f33a44ca31f",
       "version_major": 2,
       "version_minor": 0
      },
      "text/plain": [
       "VBox()"
      ]
     },
     "metadata": {},
     "output_type": "display_data"
    },
    {
     "data": {
      "application/vnd.jupyter.widget-view+json": {
       "model_id": "",
       "version_major": 2,
       "version_minor": 0
      },
      "text/plain": [
       "FloatProgress(value=0.0, bar_style='info', description='Progress:', layout=Layout(height='25px', width='50%'),…"
      ]
     },
     "metadata": {},
     "output_type": "display_data"
    },
    {
     "name": "stdout",
     "output_type": "stream",
     "text": [
      "root\n",
      " |-- city: string (nullable = true)\n",
      " |-- state: string (nullable = true)\n",
      " |-- median_age: string (nullable = true)\n",
      " |-- male_population: string (nullable = true)\n",
      " |-- female_population: string (nullable = true)\n",
      " |-- total_population: string (nullable = true)\n",
      " |-- n_veterans: string (nullable = true)\n",
      " |-- foreign_born: string (nullable = true)\n",
      " |-- avg_household_size: string (nullable = true)\n",
      " |-- state_code: string (nullable = true)\n",
      " |-- race: string (nullable = true)\n",
      " |-- Count: string (nullable = true)"
     ]
    }
   ],
   "source": [
    "df_city_dem.printSchema()"
   ]
  },
  {
   "cell_type": "code",
   "execution_count": 38,
   "id": "bccdfdd0",
   "metadata": {
    "scrolled": true
   },
   "outputs": [
    {
     "data": {
      "application/vnd.jupyter.widget-view+json": {
       "model_id": "ca79b71871da41a1852574139f3d6d15",
       "version_major": 2,
       "version_minor": 0
      },
      "text/plain": [
       "VBox()"
      ]
     },
     "metadata": {},
     "output_type": "display_data"
    },
    {
     "data": {
      "application/vnd.jupyter.widget-view+json": {
       "model_id": "",
       "version_major": 2,
       "version_minor": 0
      },
      "text/plain": [
       "FloatProgress(value=0.0, bar_style='info', description='Progress:', layout=Layout(height='25px', width='50%'),…"
      ]
     },
     "metadata": {},
     "output_type": "display_data"
    }
   ],
   "source": [
    "df_city_dem = df_city_dem.withColumn(\"n_veterans\",df_city_dem.n_veterans.cast(IntegerType()))"
   ]
  },
  {
   "cell_type": "code",
   "execution_count": 39,
   "id": "4ecee0a3",
   "metadata": {},
   "outputs": [
    {
     "data": {
      "application/vnd.jupyter.widget-view+json": {
       "model_id": "2b48d0074035437b88c0cb3b63981beb",
       "version_major": 2,
       "version_minor": 0
      },
      "text/plain": [
       "VBox()"
      ]
     },
     "metadata": {},
     "output_type": "display_data"
    },
    {
     "data": {
      "application/vnd.jupyter.widget-view+json": {
       "model_id": "",
       "version_major": 2,
       "version_minor": 0
      },
      "text/plain": [
       "FloatProgress(value=0.0, bar_style='info', description='Progress:', layout=Layout(height='25px', width='50%'),…"
      ]
     },
     "metadata": {},
     "output_type": "display_data"
    },
    {
     "name": "stdout",
     "output_type": "stream",
     "text": [
      "root\n",
      " |-- city: string (nullable = true)\n",
      " |-- state: string (nullable = true)\n",
      " |-- median_age: string (nullable = true)\n",
      " |-- male_population: string (nullable = true)\n",
      " |-- female_population: string (nullable = true)\n",
      " |-- total_population: string (nullable = true)\n",
      " |-- n_veterans: integer (nullable = true)\n",
      " |-- foreign_born: string (nullable = true)\n",
      " |-- avg_household_size: string (nullable = true)\n",
      " |-- state_code: string (nullable = true)\n",
      " |-- race: string (nullable = true)\n",
      " |-- Count: string (nullable = true)"
     ]
    }
   ],
   "source": [
    "df_city_dem.printSchema()"
   ]
  },
  {
   "cell_type": "code",
   "execution_count": 40,
   "id": "bee8b5c8",
   "metadata": {},
   "outputs": [
    {
     "data": {
      "application/vnd.jupyter.widget-view+json": {
       "model_id": "28e919b25a8b4093b03870da71de93cb",
       "version_major": 2,
       "version_minor": 0
      },
      "text/plain": [
       "VBox()"
      ]
     },
     "metadata": {},
     "output_type": "display_data"
    },
    {
     "data": {
      "application/vnd.jupyter.widget-view+json": {
       "model_id": "",
       "version_major": 2,
       "version_minor": 0
      },
      "text/plain": [
       "FloatProgress(value=0.0, bar_style='info', description='Progress:', layout=Layout(height='25px', width='50%'),…"
      ]
     },
     "metadata": {},
     "output_type": "display_data"
    }
   ],
   "source": [
    "from pyspark.sql.types import DoubleType\n",
    "\n",
    "df_city_dem = df_city_dem.withColumn(\"Count\",df_city_dem.Count.cast(IntegerType()))\n",
    "df_city_dem = df_city_dem.withColumn(\"state_code\",df_city_dem.state_code.cast(IntegerType()))\n",
    "df_city_dem = df_city_dem.withColumn(\"foreign_born\",df_city_dem.foreign_born.cast(IntegerType()))\n",
    "df_city_dem = df_city_dem.withColumn(\"avg_household_size\",df_city_dem.avg_household_size.cast(DoubleType()))\n",
    "df_city_dem = df_city_dem.withColumn(\"total_population\",df_city_dem.total_population.cast(DoubleType()))\n",
    "df_city_dem = df_city_dem.withColumn(\"female_population\",df_city_dem.female_population.cast(DoubleType()))\n",
    "df_city_dem = df_city_dem.withColumn(\"male_population\",df_city_dem.male_population.cast(DoubleType()))\n",
    "df_city_dem = df_city_dem.withColumn(\"median_age\",df_city_dem.median_age.cast(DoubleType()))"
   ]
  },
  {
   "cell_type": "code",
   "execution_count": 41,
   "id": "e2c59656",
   "metadata": {},
   "outputs": [
    {
     "data": {
      "application/vnd.jupyter.widget-view+json": {
       "model_id": "38a33badf2fb4a5081d5e6cb1bd7a618",
       "version_major": 2,
       "version_minor": 0
      },
      "text/plain": [
       "VBox()"
      ]
     },
     "metadata": {},
     "output_type": "display_data"
    },
    {
     "data": {
      "application/vnd.jupyter.widget-view+json": {
       "model_id": "",
       "version_major": 2,
       "version_minor": 0
      },
      "text/plain": [
       "FloatProgress(value=0.0, bar_style='info', description='Progress:', layout=Layout(height='25px', width='50%'),…"
      ]
     },
     "metadata": {},
     "output_type": "display_data"
    },
    {
     "name": "stdout",
     "output_type": "stream",
     "text": [
      "root\n",
      " |-- city: string (nullable = true)\n",
      " |-- state: string (nullable = true)\n",
      " |-- median_age: double (nullable = true)\n",
      " |-- male_population: double (nullable = true)\n",
      " |-- female_population: double (nullable = true)\n",
      " |-- total_population: double (nullable = true)\n",
      " |-- n_veterans: integer (nullable = true)\n",
      " |-- foreign_born: integer (nullable = true)\n",
      " |-- avg_household_size: double (nullable = true)\n",
      " |-- state_code: integer (nullable = true)\n",
      " |-- race: string (nullable = true)\n",
      " |-- Count: integer (nullable = true)"
     ]
    }
   ],
   "source": [
    "df_city_dem.printSchema()"
   ]
  },
  {
   "cell_type": "code",
   "execution_count": 42,
   "id": "b93fa8cd",
   "metadata": {},
   "outputs": [
    {
     "data": {
      "application/vnd.jupyter.widget-view+json": {
       "model_id": "7ef59ce0b9d4496bba5028a59331681c",
       "version_major": 2,
       "version_minor": 0
      },
      "text/plain": [
       "VBox()"
      ]
     },
     "metadata": {},
     "output_type": "display_data"
    },
    {
     "data": {
      "application/vnd.jupyter.widget-view+json": {
       "model_id": "",
       "version_major": 2,
       "version_minor": 0
      },
      "text/plain": [
       "FloatProgress(value=0.0, bar_style='info', description='Progress:', layout=Layout(height='25px', width='50%'),…"
      ]
     },
     "metadata": {},
     "output_type": "display_data"
    },
    {
     "name": "stdout",
     "output_type": "stream",
     "text": [
      "+-------------+-------------+----------+---------------+-----------------+----------------+----------+------------+------------------+----------+------------------+-----+\n",
      "|         city|        state|median_age|male_population|female_population|total_population|n_veterans|foreign_born|avg_household_size|state_code|              race|Count|\n",
      "+-------------+-------------+----------+---------------+-----------------+----------------+----------+------------+------------------+----------+------------------+-----+\n",
      "|Silver Spring|     Maryland|      33.8|        40601.0|          41862.0|         82463.0|      1562|       30908|               2.6|      null|Hispanic or Latino|25924|\n",
      "|       Quincy|Massachusetts|      41.0|        44129.0|          49500.0|         93629.0|      4147|       32935|              2.39|      null|             White|58723|\n",
      "|       Hoover|      Alabama|      38.5|        38040.0|          46799.0|         84839.0|      4819|        8229|              2.58|      null|             Asian| 4759|\n",
      "+-------------+-------------+----------+---------------+-----------------+----------------+----------+------------+------------------+----------+------------------+-----+\n",
      "only showing top 3 rows"
     ]
    }
   ],
   "source": [
    "[df_city_dem].show(3)"
   ]
  },
  {
   "cell_type": "code",
   "execution_count": 43,
   "id": "1de468bf",
   "metadata": {},
   "outputs": [
    {
     "data": {
      "application/vnd.jupyter.widget-view+json": {
       "model_id": "e773e5be76764ed1a2c4ddaedefd7a2c",
       "version_major": 2,
       "version_minor": 0
      },
      "text/plain": [
       "VBox()"
      ]
     },
     "metadata": {},
     "output_type": "display_data"
    },
    {
     "data": {
      "application/vnd.jupyter.widget-view+json": {
       "model_id": "",
       "version_major": 2,
       "version_minor": 0
      },
      "text/plain": [
       "FloatProgress(value=0.0, bar_style='info', description='Progress:', layout=Layout(height='25px', width='50%'),…"
      ]
     },
     "metadata": {},
     "output_type": "display_data"
    },
    {
     "name": "stdout",
     "output_type": "stream",
     "text": [
      "+----------------+----------+---------------+\n",
      "|            city|median_age|male_population|\n",
      "+----------------+----------+---------------+\n",
      "|   Silver Spring|      33.8|        40601.0|\n",
      "|          Quincy|      41.0|        44129.0|\n",
      "|          Hoover|      38.5|        38040.0|\n",
      "|Rancho Cucamonga|      34.5|        88127.0|\n",
      "|          Newark|      34.6|       138040.0|\n",
      "+----------------+----------+---------------+\n",
      "only showing top 5 rows"
     ]
    }
   ],
   "source": [
    "df_city_dem.select([\"city\",  \"median_age\", \"male_population\"]).show(5)"
   ]
  },
  {
   "cell_type": "code",
   "execution_count": 61,
   "id": "6e3907b8",
   "metadata": {},
   "outputs": [
    {
     "data": {
      "application/vnd.jupyter.widget-view+json": {
       "model_id": "339b91e500d74ccbb2d84a75d4f1bbc9",
       "version_major": 2,
       "version_minor": 0
      },
      "text/plain": [
       "VBox()"
      ]
     },
     "metadata": {},
     "output_type": "display_data"
    },
    {
     "data": {
      "application/vnd.jupyter.widget-view+json": {
       "model_id": "",
       "version_major": 2,
       "version_minor": 0
      },
      "text/plain": [
       "FloatProgress(value=0.0, bar_style='info', description='Progress:', layout=Layout(height='25px', width='50%'),…"
      ]
     },
     "metadata": {},
     "output_type": "display_data"
    },
    {
     "name": "stdout",
     "output_type": "stream",
     "text": [
      "+----+----+\n",
      "| _c0| _c1|\n",
      "+----+----+\n",
      "|code|mode|\n",
      "|   1| Air|\n",
      "+----+----+\n",
      "only showing top 2 rows"
     ]
    }
   ],
   "source": [
    "df_mode.show(2)"
   ]
  },
  {
   "cell_type": "code",
   "execution_count": 79,
   "id": "b00cea24",
   "metadata": {},
   "outputs": [
    {
     "data": {
      "application/vnd.jupyter.widget-view+json": {
       "model_id": "e016928fbac341e3beb7012b9e3fd8ea",
       "version_major": 2,
       "version_minor": 0
      },
      "text/plain": [
       "VBox()"
      ]
     },
     "metadata": {},
     "output_type": "display_data"
    },
    {
     "data": {
      "application/vnd.jupyter.widget-view+json": {
       "model_id": "",
       "version_major": 2,
       "version_minor": 0
      },
      "text/plain": [
       "FloatProgress(value=0.0, bar_style='info', description='Progress:', layout=Layout(height='25px', width='50%'),…"
      ]
     },
     "metadata": {},
     "output_type": "display_data"
    }
   ],
   "source": [
    "df_mode = df_mode.withColumnRenamed(\"_c0\", \"code\")\n",
    "df_mode = df_mode.withColumnRenamed(\"_c1\", \"mode\")\n",
    "df_mode = df_mode.filter(df_mode.code != \"code\")"
   ]
  },
  {
   "cell_type": "code",
   "execution_count": 80,
   "id": "42b19fd0",
   "metadata": {},
   "outputs": [
    {
     "data": {
      "application/vnd.jupyter.widget-view+json": {
       "model_id": "4a44e33376434181b9e66b0137e36606",
       "version_major": 2,
       "version_minor": 0
      },
      "text/plain": [
       "VBox()"
      ]
     },
     "metadata": {},
     "output_type": "display_data"
    },
    {
     "data": {
      "application/vnd.jupyter.widget-view+json": {
       "model_id": "",
       "version_major": 2,
       "version_minor": 0
      },
      "text/plain": [
       "FloatProgress(value=0.0, bar_style='info', description='Progress:', layout=Layout(height='25px', width='50%'),…"
      ]
     },
     "metadata": {},
     "output_type": "display_data"
    },
    {
     "name": "stdout",
     "output_type": "stream",
     "text": [
      "+----+----+\n",
      "|code|mode|\n",
      "+----+----+\n",
      "|   1| Air|\n",
      "|   2| Sea|\n",
      "+----+----+\n",
      "only showing top 2 rows"
     ]
    }
   ],
   "source": [
    "df_mode.show(2)"
   ]
  },
  {
   "cell_type": "code",
   "execution_count": 85,
   "id": "aa8d8cfb",
   "metadata": {},
   "outputs": [
    {
     "data": {
      "application/vnd.jupyter.widget-view+json": {
       "model_id": "6d65ae1d75d24c3f821d56fad3815709",
       "version_major": 2,
       "version_minor": 0
      },
      "text/plain": [
       "VBox()"
      ]
     },
     "metadata": {},
     "output_type": "display_data"
    },
    {
     "data": {
      "application/vnd.jupyter.widget-view+json": {
       "model_id": "",
       "version_major": 2,
       "version_minor": 0
      },
      "text/plain": [
       "FloatProgress(value=0.0, bar_style='info', description='Progress:', layout=Layout(height='25px', width='50%'),…"
      ]
     },
     "metadata": {},
     "output_type": "display_data"
    }
   ],
   "source": [
    "df_mode = df_mode.withColumnRenamed(\"_c0\", \"code\")\n",
    "df_mode = df_mode.withColumnRenamed(\"_c1\", \"mode\")\n",
    "df_mode = df_mode.filter(df_mode.code != \"code\")\n",
    "df_mode = df_mode.withColumn(\"code\",df_mode.code.cast(IntegerType()))"
   ]
  },
  {
   "cell_type": "code",
   "execution_count": 87,
   "id": "ca8b8c6d",
   "metadata": {},
   "outputs": [
    {
     "data": {
      "application/vnd.jupyter.widget-view+json": {
       "model_id": "863f7533f27944aea4c5bd0b733acbfc",
       "version_major": 2,
       "version_minor": 0
      },
      "text/plain": [
       "VBox()"
      ]
     },
     "metadata": {},
     "output_type": "display_data"
    },
    {
     "data": {
      "application/vnd.jupyter.widget-view+json": {
       "model_id": "",
       "version_major": 2,
       "version_minor": 0
      },
      "text/plain": [
       "FloatProgress(value=0.0, bar_style='info', description='Progress:', layout=Layout(height='25px', width='50%'),…"
      ]
     },
     "metadata": {},
     "output_type": "display_data"
    },
    {
     "name": "stdout",
     "output_type": "stream",
     "text": [
      "root\n",
      " |-- code: integer (nullable = true)\n",
      " |-- mode: string (nullable = true)"
     ]
    }
   ],
   "source": [
    "df_mode.printSchema()"
   ]
  },
  {
   "cell_type": "code",
   "execution_count": 81,
   "id": "00b874fb",
   "metadata": {},
   "outputs": [
    {
     "data": {
      "application/vnd.jupyter.widget-view+json": {
       "model_id": "6188b993cdb1481abf4b08223cda57d8",
       "version_major": 2,
       "version_minor": 0
      },
      "text/plain": [
       "VBox()"
      ]
     },
     "metadata": {},
     "output_type": "display_data"
    },
    {
     "data": {
      "application/vnd.jupyter.widget-view+json": {
       "model_id": "",
       "version_major": 2,
       "version_minor": 0
      },
      "text/plain": [
       "FloatProgress(value=0.0, bar_style='info', description='Progress:', layout=Layout(height='25px', width='50%'),…"
      ]
     },
     "metadata": {},
     "output_type": "display_data"
    },
    {
     "name": "stdout",
     "output_type": "stream",
     "text": [
      "+----+--------------------+\n",
      "| _c0|                 _c1|\n",
      "+----+--------------------+\n",
      "|code|             country|\n",
      "| 525|BRITISH VIRGIN IS...|\n",
      "+----+--------------------+\n",
      "only showing top 2 rows"
     ]
    }
   ],
   "source": [
    "df_country.show(2)"
   ]
  },
  {
   "cell_type": "code",
   "execution_count": 88,
   "id": "fc1c420e",
   "metadata": {},
   "outputs": [
    {
     "data": {
      "application/vnd.jupyter.widget-view+json": {
       "model_id": "0a026228451343299cac3b43c61c60ba",
       "version_major": 2,
       "version_minor": 0
      },
      "text/plain": [
       "VBox()"
      ]
     },
     "metadata": {},
     "output_type": "display_data"
    },
    {
     "data": {
      "application/vnd.jupyter.widget-view+json": {
       "model_id": "",
       "version_major": 2,
       "version_minor": 0
      },
      "text/plain": [
       "FloatProgress(value=0.0, bar_style='info', description='Progress:', layout=Layout(height='25px', width='50%'),…"
      ]
     },
     "metadata": {},
     "output_type": "display_data"
    }
   ],
   "source": [
    "df_country = df_country.withColumnRenamed(\"_c0\", \"code\")\n",
    "df_country = df_country.withColumnRenamed(\"_c1\", \"country\")\n",
    "df_country = df_country.filter(df_country.code != \"code\")\n",
    "df_country = df_country.withColumn(\"code\",df_country.code.cast(IntegerType()))"
   ]
  },
  {
   "cell_type": "code",
   "execution_count": 89,
   "id": "97a8a4b6",
   "metadata": {},
   "outputs": [
    {
     "data": {
      "application/vnd.jupyter.widget-view+json": {
       "model_id": "82bd6ee5d83842339eaf3bb0ca1819ec",
       "version_major": 2,
       "version_minor": 0
      },
      "text/plain": [
       "VBox()"
      ]
     },
     "metadata": {},
     "output_type": "display_data"
    },
    {
     "data": {
      "application/vnd.jupyter.widget-view+json": {
       "model_id": "",
       "version_major": 2,
       "version_minor": 0
      },
      "text/plain": [
       "FloatProgress(value=0.0, bar_style='info', description='Progress:', layout=Layout(height='25px', width='50%'),…"
      ]
     },
     "metadata": {},
     "output_type": "display_data"
    },
    {
     "name": "stdout",
     "output_type": "stream",
     "text": [
      "+----+--------------------+\n",
      "|code|             country|\n",
      "+----+--------------------+\n",
      "| 525|BRITISH VIRGIN IS...|\n",
      "| 217|              BRUNEI|\n",
      "+----+--------------------+\n",
      "only showing top 2 rows"
     ]
    }
   ],
   "source": [
    "df_country.show(2)"
   ]
  },
  {
   "cell_type": "code",
   "execution_count": 90,
   "id": "f808e183",
   "metadata": {},
   "outputs": [
    {
     "data": {
      "application/vnd.jupyter.widget-view+json": {
       "model_id": "21af91d2b95543989c798ae388581639",
       "version_major": 2,
       "version_minor": 0
      },
      "text/plain": [
       "VBox()"
      ]
     },
     "metadata": {},
     "output_type": "display_data"
    },
    {
     "data": {
      "application/vnd.jupyter.widget-view+json": {
       "model_id": "",
       "version_major": 2,
       "version_minor": 0
      },
      "text/plain": [
       "FloatProgress(value=0.0, bar_style='info', description='Progress:', layout=Layout(height='25px', width='50%'),…"
      ]
     },
     "metadata": {},
     "output_type": "display_data"
    },
    {
     "name": "stdout",
     "output_type": "stream",
     "text": [
      "root\n",
      " |-- code: integer (nullable = true)\n",
      " |-- country: string (nullable = true)"
     ]
    }
   ],
   "source": [
    "df_country.printSchema()"
   ]
  },
  {
   "cell_type": "code",
   "execution_count": 91,
   "id": "465105d7",
   "metadata": {},
   "outputs": [
    {
     "data": {
      "application/vnd.jupyter.widget-view+json": {
       "model_id": "37667bc8031844de8888594790533e65",
       "version_major": 2,
       "version_minor": 0
      },
      "text/plain": [
       "VBox()"
      ]
     },
     "metadata": {},
     "output_type": "display_data"
    },
    {
     "data": {
      "application/vnd.jupyter.widget-view+json": {
       "model_id": "",
       "version_major": 2,
       "version_minor": 0
      },
      "text/plain": [
       "FloatProgress(value=0.0, bar_style='info', description='Progress:', layout=Layout(height='25px', width='50%'),…"
      ]
     },
     "metadata": {},
     "output_type": "display_data"
    },
    {
     "name": "stdout",
     "output_type": "stream",
     "text": [
      "+----+---------+\n",
      "| _c0|      _c1|\n",
      "+----+---------+\n",
      "|code|visa_type|\n",
      "|   1| Business|\n",
      "+----+---------+\n",
      "only showing top 2 rows"
     ]
    }
   ],
   "source": [
    "df_visa.show(2)"
   ]
  },
  {
   "cell_type": "code",
   "execution_count": 94,
   "id": "ec445768",
   "metadata": {},
   "outputs": [
    {
     "data": {
      "application/vnd.jupyter.widget-view+json": {
       "model_id": "66a0e31a6217403ab1380446130f2dd8",
       "version_major": 2,
       "version_minor": 0
      },
      "text/plain": [
       "VBox()"
      ]
     },
     "metadata": {},
     "output_type": "display_data"
    },
    {
     "data": {
      "application/vnd.jupyter.widget-view+json": {
       "model_id": "",
       "version_major": 2,
       "version_minor": 0
      },
      "text/plain": [
       "FloatProgress(value=0.0, bar_style='info', description='Progress:', layout=Layout(height='25px', width='50%'),…"
      ]
     },
     "metadata": {},
     "output_type": "display_data"
    }
   ],
   "source": [
    "df_visa = df_visa.withColumnRenamed(\"_c0\", \"code\")\n",
    "df_visa = df_visa.withColumnRenamed(\"_c1\", \"visa_type\")\n"
   ]
  },
  {
   "cell_type": "code",
   "execution_count": 95,
   "id": "a712ba1d",
   "metadata": {},
   "outputs": [
    {
     "data": {
      "application/vnd.jupyter.widget-view+json": {
       "model_id": "43d6239478a141309b9b42b7cd7db919",
       "version_major": 2,
       "version_minor": 0
      },
      "text/plain": [
       "VBox()"
      ]
     },
     "metadata": {},
     "output_type": "display_data"
    },
    {
     "data": {
      "application/vnd.jupyter.widget-view+json": {
       "model_id": "",
       "version_major": 2,
       "version_minor": 0
      },
      "text/plain": [
       "FloatProgress(value=0.0, bar_style='info', description='Progress:', layout=Layout(height='25px', width='50%'),…"
      ]
     },
     "metadata": {},
     "output_type": "display_data"
    }
   ],
   "source": [
    "df_visa = df_visa.withColumn(\"code\",df_visa.code.cast(IntegerType()))"
   ]
  },
  {
   "cell_type": "code",
   "execution_count": 96,
   "id": "4cfb15a0",
   "metadata": {},
   "outputs": [
    {
     "data": {
      "application/vnd.jupyter.widget-view+json": {
       "model_id": "26bc7f36ae16448d82106f929ac949a3",
       "version_major": 2,
       "version_minor": 0
      },
      "text/plain": [
       "VBox()"
      ]
     },
     "metadata": {},
     "output_type": "display_data"
    },
    {
     "data": {
      "application/vnd.jupyter.widget-view+json": {
       "model_id": "",
       "version_major": 2,
       "version_minor": 0
      },
      "text/plain": [
       "FloatProgress(value=0.0, bar_style='info', description='Progress:', layout=Layout(height='25px', width='50%'),…"
      ]
     },
     "metadata": {},
     "output_type": "display_data"
    },
    {
     "name": "stdout",
     "output_type": "stream",
     "text": [
      "+----+---------+\n",
      "|code|visa_type|\n",
      "+----+---------+\n",
      "|null|visa_type|\n",
      "|   1| Business|\n",
      "+----+---------+\n",
      "only showing top 2 rows"
     ]
    }
   ],
   "source": [
    "df_visa.show(2)"
   ]
  },
  {
   "cell_type": "code",
   "execution_count": 99,
   "id": "4134bc0e",
   "metadata": {},
   "outputs": [
    {
     "data": {
      "application/vnd.jupyter.widget-view+json": {
       "model_id": "97464f67741246779c272674375949b8",
       "version_major": 2,
       "version_minor": 0
      },
      "text/plain": [
       "VBox()"
      ]
     },
     "metadata": {},
     "output_type": "display_data"
    },
    {
     "data": {
      "application/vnd.jupyter.widget-view+json": {
       "model_id": "",
       "version_major": 2,
       "version_minor": 0
      },
      "text/plain": [
       "FloatProgress(value=0.0, bar_style='info', description='Progress:', layout=Layout(height='25px', width='50%'),…"
      ]
     },
     "metadata": {},
     "output_type": "display_data"
    }
   ],
   "source": [
    "df_visa = df_visa.filter(df_visa.visa_type != 'visa_type')"
   ]
  },
  {
   "cell_type": "code",
   "execution_count": 100,
   "id": "c545c49e",
   "metadata": {},
   "outputs": [
    {
     "data": {
      "application/vnd.jupyter.widget-view+json": {
       "model_id": "b68d582ac51e4ae5b58e416e82095812",
       "version_major": 2,
       "version_minor": 0
      },
      "text/plain": [
       "VBox()"
      ]
     },
     "metadata": {},
     "output_type": "display_data"
    },
    {
     "data": {
      "application/vnd.jupyter.widget-view+json": {
       "model_id": "",
       "version_major": 2,
       "version_minor": 0
      },
      "text/plain": [
       "FloatProgress(value=0.0, bar_style='info', description='Progress:', layout=Layout(height='25px', width='50%'),…"
      ]
     },
     "metadata": {},
     "output_type": "display_data"
    },
    {
     "name": "stdout",
     "output_type": "stream",
     "text": [
      "+----+---------+\n",
      "|code|visa_type|\n",
      "+----+---------+\n",
      "|   1| Business|\n",
      "|   2| Pleasure|\n",
      "+----+---------+\n",
      "only showing top 2 rows"
     ]
    }
   ],
   "source": [
    "df_visa.show(2)"
   ]
  },
  {
   "cell_type": "code",
   "execution_count": 101,
   "id": "1c2b6161",
   "metadata": {},
   "outputs": [
    {
     "data": {
      "application/vnd.jupyter.widget-view+json": {
       "model_id": "517eb864426b4070964e749dd205f51f",
       "version_major": 2,
       "version_minor": 0
      },
      "text/plain": [
       "VBox()"
      ]
     },
     "metadata": {},
     "output_type": "display_data"
    },
    {
     "data": {
      "application/vnd.jupyter.widget-view+json": {
       "model_id": "",
       "version_major": 2,
       "version_minor": 0
      },
      "text/plain": [
       "FloatProgress(value=0.0, bar_style='info', description='Progress:', layout=Layout(height='25px', width='50%'),…"
      ]
     },
     "metadata": {},
     "output_type": "display_data"
    },
    {
     "name": "stdout",
     "output_type": "stream",
     "text": [
      "root\n",
      " |-- code: integer (nullable = true)\n",
      " |-- visa_type: string (nullable = true)"
     ]
    }
   ],
   "source": [
    "df_visa.printSchema()"
   ]
  },
  {
   "cell_type": "code",
   "execution_count": 102,
   "id": "34675bca",
   "metadata": {},
   "outputs": [
    {
     "data": {
      "application/vnd.jupyter.widget-view+json": {
       "model_id": "a81611e1dfff4bb19d79abb32cfb9f32",
       "version_major": 2,
       "version_minor": 0
      },
      "text/plain": [
       "VBox()"
      ]
     },
     "metadata": {},
     "output_type": "display_data"
    },
    {
     "data": {
      "application/vnd.jupyter.widget-view+json": {
       "model_id": "",
       "version_major": 2,
       "version_minor": 0
      },
      "text/plain": [
       "FloatProgress(value=0.0, bar_style='info', description='Progress:', layout=Layout(height='25px', width='50%'),…"
      ]
     },
     "metadata": {},
     "output_type": "display_data"
    },
    {
     "name": "stdout",
     "output_type": "stream",
     "text": [
      "+----+-------+\n",
      "| _c0|    _c1|\n",
      "+----+-------+\n",
      "|code|  state|\n",
      "|  AL|ALABAMA|\n",
      "+----+-------+\n",
      "only showing top 2 rows"
     ]
    }
   ],
   "source": [
    "df_address.show(2)"
   ]
  },
  {
   "cell_type": "code",
   "execution_count": 103,
   "id": "04608ce7",
   "metadata": {},
   "outputs": [
    {
     "data": {
      "application/vnd.jupyter.widget-view+json": {
       "model_id": "bfc0695ea3d647c2bd6d325b0d2fc7e2",
       "version_major": 2,
       "version_minor": 0
      },
      "text/plain": [
       "VBox()"
      ]
     },
     "metadata": {},
     "output_type": "display_data"
    },
    {
     "data": {
      "application/vnd.jupyter.widget-view+json": {
       "model_id": "",
       "version_major": 2,
       "version_minor": 0
      },
      "text/plain": [
       "FloatProgress(value=0.0, bar_style='info', description='Progress:', layout=Layout(height='25px', width='50%'),…"
      ]
     },
     "metadata": {},
     "output_type": "display_data"
    }
   ],
   "source": [
    "df_address = df_address.withColumnRenamed(\"_c0\", \"code\")\n",
    "df_address = df_address.withColumnRenamed(\"_c1\", \"state\")"
   ]
  },
  {
   "cell_type": "code",
   "execution_count": 104,
   "id": "aecfc5a7",
   "metadata": {},
   "outputs": [
    {
     "data": {
      "application/vnd.jupyter.widget-view+json": {
       "model_id": "6734012cdcb14815bc0ac53455d26b3e",
       "version_major": 2,
       "version_minor": 0
      },
      "text/plain": [
       "VBox()"
      ]
     },
     "metadata": {},
     "output_type": "display_data"
    },
    {
     "data": {
      "application/vnd.jupyter.widget-view+json": {
       "model_id": "",
       "version_major": 2,
       "version_minor": 0
      },
      "text/plain": [
       "FloatProgress(value=0.0, bar_style='info', description='Progress:', layout=Layout(height='25px', width='50%'),…"
      ]
     },
     "metadata": {},
     "output_type": "display_data"
    }
   ],
   "source": [
    "df_address = df_address.filter(df_address.state != 'state')"
   ]
  },
  {
   "cell_type": "code",
   "execution_count": 107,
   "id": "514f5033",
   "metadata": {},
   "outputs": [
    {
     "data": {
      "application/vnd.jupyter.widget-view+json": {
       "model_id": "9afdb4ba46084a50ab031c21e510d526",
       "version_major": 2,
       "version_minor": 0
      },
      "text/plain": [
       "VBox()"
      ]
     },
     "metadata": {},
     "output_type": "display_data"
    },
    {
     "data": {
      "application/vnd.jupyter.widget-view+json": {
       "model_id": "",
       "version_major": 2,
       "version_minor": 0
      },
      "text/plain": [
       "FloatProgress(value=0.0, bar_style='info', description='Progress:', layout=Layout(height='25px', width='50%'),…"
      ]
     },
     "metadata": {},
     "output_type": "display_data"
    }
   ],
   "source": [
    "df_address = df_address.withColumn(\"code\",df_address.code.cast(IntegerType()))"
   ]
  },
  {
   "cell_type": "code",
   "execution_count": 108,
   "id": "5438379f",
   "metadata": {},
   "outputs": [
    {
     "data": {
      "application/vnd.jupyter.widget-view+json": {
       "model_id": "6d4bcc67bb9b471198d8312e0a968e75",
       "version_major": 2,
       "version_minor": 0
      },
      "text/plain": [
       "VBox()"
      ]
     },
     "metadata": {},
     "output_type": "display_data"
    },
    {
     "data": {
      "application/vnd.jupyter.widget-view+json": {
       "model_id": "",
       "version_major": 2,
       "version_minor": 0
      },
      "text/plain": [
       "FloatProgress(value=0.0, bar_style='info', description='Progress:', layout=Layout(height='25px', width='50%'),…"
      ]
     },
     "metadata": {},
     "output_type": "display_data"
    },
    {
     "name": "stdout",
     "output_type": "stream",
     "text": [
      "+----+-------+\n",
      "|code|  state|\n",
      "+----+-------+\n",
      "|null|ALABAMA|\n",
      "|null| ALASKA|\n",
      "+----+-------+\n",
      "only showing top 2 rows"
     ]
    }
   ],
   "source": [
    "df_address.show(2)"
   ]
  },
  {
   "cell_type": "code",
   "execution_count": 109,
   "id": "a05e3f8c",
   "metadata": {},
   "outputs": [
    {
     "data": {
      "application/vnd.jupyter.widget-view+json": {
       "model_id": "75bf7e938d194b2fa41396d169c4749b",
       "version_major": 2,
       "version_minor": 0
      },
      "text/plain": [
       "VBox()"
      ]
     },
     "metadata": {},
     "output_type": "display_data"
    },
    {
     "data": {
      "application/vnd.jupyter.widget-view+json": {
       "model_id": "",
       "version_major": 2,
       "version_minor": 0
      },
      "text/plain": [
       "FloatProgress(value=0.0, bar_style='info', description='Progress:', layout=Layout(height='25px', width='50%'),…"
      ]
     },
     "metadata": {},
     "output_type": "display_data"
    },
    {
     "name": "stdout",
     "output_type": "stream",
     "text": [
      "root\n",
      " |-- code: integer (nullable = true)\n",
      " |-- state: string (nullable = true)"
     ]
    }
   ],
   "source": [
    "df_address.printSchema()"
   ]
  },
  {
   "cell_type": "markdown",
   "id": "f8007598",
   "metadata": {},
   "source": [
    "### Step 3: Define the Data Model\n",
    "#### 3.1 Conceptual Data Model\n",
    "![mode](https://github.com/adelabuhashim/ETL/blob/master/model.png?raw=true)\n",
    "#### 3.2 Mapping Out Data Pipelines\n",
    "in the wrangling step I got the tables I want to ingest the new tables schame"
   ]
  },
  {
   "cell_type": "code",
   "execution_count": 113,
   "id": "07ae8b8d",
   "metadata": {},
   "outputs": [
    {
     "data": {
      "application/vnd.jupyter.widget-view+json": {
       "model_id": "48ed1c7b068a4cc4b99069092379d85c",
       "version_major": 2,
       "version_minor": 0
      },
      "text/plain": [
       "VBox()"
      ]
     },
     "metadata": {},
     "output_type": "display_data"
    },
    {
     "data": {
      "application/vnd.jupyter.widget-view+json": {
       "model_id": "",
       "version_major": 2,
       "version_minor": 0
      },
      "text/plain": [
       "FloatProgress(value=0.0, bar_style='info', description='Progress:', layout=Layout(height='25px', width='50%'),…"
      ]
     },
     "metadata": {},
     "output_type": "display_data"
    },
    {
     "name": "stdout",
     "output_type": "stream",
     "text": [
      "+-------+----+-----+----------------+--------------+----+---+---------+------+----------+-------+\n",
      "|     id|year|month|citizenship_code|residence_code|mode|age|visa_type|gender|dt_arrival|address|\n",
      "+-------+----+-----+----------------+--------------+----+---+---------+------+----------+-------+\n",
      "|5748517|2016|    4|             245|           438|   1| 40|        1|     F|2016-04-30|     CA|\n",
      "|5748518|2016|    4|             245|           438|   1| 32|        1|     F|2016-04-30|     NV|\n",
      "+-------+----+-----+----------------+--------------+----+---+---------+------+----------+-------+\n",
      "only showing top 2 rows"
     ]
    }
   ],
   "source": [
    "df_i94.show(2)"
   ]
  },
  {
   "cell_type": "code",
   "execution_count": 116,
   "id": "19cb4551",
   "metadata": {},
   "outputs": [
    {
     "data": {
      "application/vnd.jupyter.widget-view+json": {
       "model_id": "cef83449d3794a06ab61885aebfd2d72",
       "version_major": 2,
       "version_minor": 0
      },
      "text/plain": [
       "VBox()"
      ]
     },
     "metadata": {},
     "output_type": "display_data"
    },
    {
     "data": {
      "application/vnd.jupyter.widget-view+json": {
       "model_id": "",
       "version_major": 2,
       "version_minor": 0
      },
      "text/plain": [
       "FloatProgress(value=0.0, bar_style='info', description='Progress:', layout=Layout(height='25px', width='50%'),…"
      ]
     },
     "metadata": {},
     "output_type": "display_data"
    }
   ],
   "source": [
    "import os\n",
    "df_i94.write.partitionBy(\"address\").mode('overwrite')\\\n",
    "    .parquet('i94')"
   ]
  },
  {
   "cell_type": "code",
   "execution_count": 117,
   "id": "2627a28a",
   "metadata": {},
   "outputs": [
    {
     "data": {
      "application/vnd.jupyter.widget-view+json": {
       "model_id": "9d2ba009351a4b98a556faf9ee6a9bde",
       "version_major": 2,
       "version_minor": 0
      },
      "text/plain": [
       "VBox()"
      ]
     },
     "metadata": {},
     "output_type": "display_data"
    },
    {
     "data": {
      "application/vnd.jupyter.widget-view+json": {
       "model_id": "",
       "version_major": 2,
       "version_minor": 0
      },
      "text/plain": [
       "FloatProgress(value=0.0, bar_style='info', description='Progress:', layout=Layout(height='25px', width='50%'),…"
      ]
     },
     "metadata": {},
     "output_type": "display_data"
    }
   ],
   "source": [
    "df_mode.write.mode('overwrite').parquet('mode_code')\n",
    "df_address.write.mode('overwrite').parquet('state_code')\n",
    "df_visa.write.mode('overwrite').parquet('visa_type_code')\n",
    "df_country.write.mode('overwrite').parquet('country_code')"
   ]
  },
  {
   "cell_type": "code",
   "execution_count": 122,
   "id": "c05fd70d",
   "metadata": {},
   "outputs": [
    {
     "data": {
      "application/vnd.jupyter.widget-view+json": {
       "model_id": "1ccd83631a3142b3a820819cb84d4980",
       "version_major": 2,
       "version_minor": 0
      },
      "text/plain": [
       "VBox()"
      ]
     },
     "metadata": {},
     "output_type": "display_data"
    },
    {
     "data": {
      "application/vnd.jupyter.widget-view+json": {
       "model_id": "",
       "version_major": 2,
       "version_minor": 0
      },
      "text/plain": [
       "FloatProgress(value=0.0, bar_style='info', description='Progress:', layout=Layout(height='25px', width='50%'),…"
      ]
     },
     "metadata": {},
     "output_type": "display_data"
    }
   ],
   "source": [
    "df_city_dem.write.mode('overwrite').parquet('city_demographics')"
   ]
  },
  {
   "cell_type": "markdown",
   "id": "3b97401b",
   "metadata": {},
   "source": [
    "## Creating arrival_time table"
   ]
  },
  {
   "cell_type": "code",
   "execution_count": 126,
   "id": "fbb21719",
   "metadata": {},
   "outputs": [
    {
     "data": {
      "application/vnd.jupyter.widget-view+json": {
       "model_id": "cd1cfc454d9744b79a49680b742770eb",
       "version_major": 2,
       "version_minor": 0
      },
      "text/plain": [
       "VBox()"
      ]
     },
     "metadata": {},
     "output_type": "display_data"
    },
    {
     "data": {
      "application/vnd.jupyter.widget-view+json": {
       "model_id": "",
       "version_major": 2,
       "version_minor": 0
      },
      "text/plain": [
       "FloatProgress(value=0.0, bar_style='info', description='Progress:', layout=Layout(height='25px', width='50%'),…"
      ]
     },
     "metadata": {},
     "output_type": "display_data"
    },
    {
     "name": "stdout",
     "output_type": "stream",
     "text": [
      "+----------+\n",
      "|dt_arrival|\n",
      "+----------+\n",
      "|2016-04-30|\n",
      "|2016-04-30|\n",
      "|2016-04-30|\n",
      "|2016-04-30|\n",
      "|2016-04-30|\n",
      "+----------+\n",
      "only showing top 5 rows"
     ]
    }
   ],
   "source": [
    "df_i94.select(\"dt_arrival\").show(5)"
   ]
  },
  {
   "cell_type": "code",
   "execution_count": 127,
   "id": "dbc02380",
   "metadata": {},
   "outputs": [
    {
     "data": {
      "application/vnd.jupyter.widget-view+json": {
       "model_id": "d978ca03e1024f518ded3ce2d27be6b3",
       "version_major": 2,
       "version_minor": 0
      },
      "text/plain": [
       "VBox()"
      ]
     },
     "metadata": {},
     "output_type": "display_data"
    },
    {
     "data": {
      "application/vnd.jupyter.widget-view+json": {
       "model_id": "",
       "version_major": 2,
       "version_minor": 0
      },
      "text/plain": [
       "FloatProgress(value=0.0, bar_style='info', description='Progress:', layout=Layout(height='25px', width='50%'),…"
      ]
     },
     "metadata": {},
     "output_type": "display_data"
    }
   ],
   "source": [
    "df_i94.select(\"dt_arrival\").createOrReplaceTempView('d')"
   ]
  },
  {
   "cell_type": "code",
   "execution_count": 128,
   "id": "49432955",
   "metadata": {},
   "outputs": [
    {
     "data": {
      "application/vnd.jupyter.widget-view+json": {
       "model_id": "8f026f0646c34fbcb4ea444aabb1e211",
       "version_major": 2,
       "version_minor": 0
      },
      "text/plain": [
       "VBox()"
      ]
     },
     "metadata": {},
     "output_type": "display_data"
    },
    {
     "data": {
      "application/vnd.jupyter.widget-view+json": {
       "model_id": "",
       "version_major": 2,
       "version_minor": 0
      },
      "text/plain": [
       "FloatProgress(value=0.0, bar_style='info', description='Progress:', layout=Layout(height='25px', width='50%'),…"
      ]
     },
     "metadata": {},
     "output_type": "display_data"
    },
    {
     "name": "stdout",
     "output_type": "stream",
     "text": [
      "+----------+\n",
      "|dt_arrival|\n",
      "+----------+\n",
      "|2016-04-30|\n",
      "|2016-04-30|\n",
      "|2016-04-30|\n",
      "|2016-04-30|\n",
      "|2016-04-30|\n",
      "+----------+"
     ]
    }
   ],
   "source": [
    "spark.sql(\"SELECT * FROM d LIMIT 5\").show()"
   ]
  },
  {
   "cell_type": "code",
   "execution_count": 136,
   "id": "0b3b7f68",
   "metadata": {},
   "outputs": [
    {
     "data": {
      "application/vnd.jupyter.widget-view+json": {
       "model_id": "b2c1c69a50944fd5a457d0505cd01fd0",
       "version_major": 2,
       "version_minor": 0
      },
      "text/plain": [
       "VBox()"
      ]
     },
     "metadata": {},
     "output_type": "display_data"
    },
    {
     "data": {
      "application/vnd.jupyter.widget-view+json": {
       "model_id": "",
       "version_major": 2,
       "version_minor": 0
      },
      "text/plain": [
       "FloatProgress(value=0.0, bar_style='info', description='Progress:', layout=Layout(height='25px', width='50%'),…"
      ]
     },
     "metadata": {},
     "output_type": "display_data"
    },
    {
     "name": "stdout",
     "output_type": "stream",
     "text": [
      "+----+-----+---+-------+\n",
      "|year|month|day|weekday|\n",
      "+----+-----+---+-------+\n",
      "|2016|    4| 30|      5|\n",
      "|2016|    4| 30|      5|\n",
      "|2016|    4| 30|      5|\n",
      "|2016|    4| 30|      5|\n",
      "|2016|    4| 30|      5|\n",
      "|2016|    4| 30|      5|\n",
      "|2016|    4| 30|      5|\n",
      "|2016|    4| 30|      5|\n",
      "|2016|    4| 30|      5|\n",
      "|2016|    4| 30|      5|\n",
      "|2016|    4| 30|      5|\n",
      "|2016|    4| 30|      5|\n",
      "|2016|    4| 30|      5|\n",
      "|2016|    4| 30|      5|\n",
      "|2016|    4| 30|      5|\n",
      "|2016|    4| 30|      5|\n",
      "|2016|    4| 30|      5|\n",
      "|2016|    4| 30|      5|\n",
      "|2016|    4| 30|      5|\n",
      "|2016|    4| 30|      5|\n",
      "+----+-----+---+-------+\n",
      "only showing top 20 rows"
     ]
    }
   ],
   "source": [
    "spark.sql(\"\"\"SELECT year(dt_arrival) as year, month(dt_arrival) AS month, day(dt_arrival) AS day, weekday(dt_arrival) AS weekday\n",
    "FROM d\"\"\").show()"
   ]
  },
  {
   "cell_type": "code",
   "execution_count": 140,
   "id": "19dd330c",
   "metadata": {},
   "outputs": [
    {
     "data": {
      "application/vnd.jupyter.widget-view+json": {
       "model_id": "47e0e121740f40258b456207cbe4f146",
       "version_major": 2,
       "version_minor": 0
      },
      "text/plain": [
       "VBox()"
      ]
     },
     "metadata": {},
     "output_type": "display_data"
    },
    {
     "data": {
      "application/vnd.jupyter.widget-view+json": {
       "model_id": "",
       "version_major": 2,
       "version_minor": 0
      },
      "text/plain": [
       "FloatProgress(value=0.0, bar_style='info', description='Progress:', layout=Layout(height='25px', width='50%'),…"
      ]
     },
     "metadata": {},
     "output_type": "display_data"
    },
    {
     "name": "stdout",
     "output_type": "stream",
     "text": [
      "+----------+----+-----+---+-------+\n",
      "|      time|year|month|day|weekday|\n",
      "+----------+----+-----+---+-------+\n",
      "|2016-04-30|2016|    4| 30|      5|\n",
      "|2016-04-30|2016|    4| 30|      5|\n",
      "|2016-04-30|2016|    4| 30|      5|\n",
      "|2016-04-30|2016|    4| 30|      5|\n",
      "|2016-04-30|2016|    4| 30|      5|\n",
      "|2016-04-30|2016|    4| 30|      5|\n",
      "|2016-04-30|2016|    4| 30|      5|\n",
      "|2016-04-30|2016|    4| 30|      5|\n",
      "|2016-04-30|2016|    4| 30|      5|\n",
      "|2016-04-30|2016|    4| 30|      5|\n",
      "|2016-04-30|2016|    4| 30|      5|\n",
      "|2016-04-30|2016|    4| 30|      5|\n",
      "|2016-04-30|2016|    4| 30|      5|\n",
      "|2016-04-30|2016|    4| 30|      5|\n",
      "|2016-04-30|2016|    4| 30|      5|\n",
      "|2016-04-30|2016|    4| 30|      5|\n",
      "|2016-04-30|2016|    4| 30|      5|\n",
      "|2016-04-30|2016|    4| 30|      5|\n",
      "|2016-04-30|2016|    4| 30|      5|\n",
      "|2016-04-30|2016|    4| 30|      5|\n",
      "+----------+----+-----+---+-------+\n",
      "only showing top 20 rows"
     ]
    }
   ],
   "source": [
    "spark.sql(\"\"\"SELECT dt_arrival as time,\n",
    "  year(dt_arrival) as year, \n",
    "  month(dt_arrival) AS month, \n",
    "  day(dt_arrival) AS day, \n",
    "  weekday(dt_arrival) AS weekday \n",
    "FROM \n",
    "  d\n",
    "\"\"\").show()"
   ]
  },
  {
   "cell_type": "code",
   "execution_count": 141,
   "id": "9db85053",
   "metadata": {},
   "outputs": [
    {
     "data": {
      "application/vnd.jupyter.widget-view+json": {
       "model_id": "be0eb736de0e4855b345d24550772da9",
       "version_major": 2,
       "version_minor": 0
      },
      "text/plain": [
       "VBox()"
      ]
     },
     "metadata": {},
     "output_type": "display_data"
    },
    {
     "data": {
      "application/vnd.jupyter.widget-view+json": {
       "model_id": "",
       "version_major": 2,
       "version_minor": 0
      },
      "text/plain": [
       "FloatProgress(value=0.0, bar_style='info', description='Progress:', layout=Layout(height='25px', width='50%'),…"
      ]
     },
     "metadata": {},
     "output_type": "display_data"
    }
   ],
   "source": [
    "df_times = spark.sql(\"\"\"SELECT dt_arrival as time,\n",
    "  year(dt_arrival) as year, \n",
    "  month(dt_arrival) AS month, \n",
    "  day(dt_arrival) AS day, \n",
    "  weekday(dt_arrival) AS weekday \n",
    "FROM \n",
    "  d\n",
    "\"\"\")"
   ]
  },
  {
   "cell_type": "code",
   "execution_count": 143,
   "id": "0ff3a7cd",
   "metadata": {},
   "outputs": [
    {
     "data": {
      "application/vnd.jupyter.widget-view+json": {
       "model_id": "21bfdc14fe4e4499b60775aa2d186163",
       "version_major": 2,
       "version_minor": 0
      },
      "text/plain": [
       "VBox()"
      ]
     },
     "metadata": {},
     "output_type": "display_data"
    },
    {
     "data": {
      "application/vnd.jupyter.widget-view+json": {
       "model_id": "",
       "version_major": 2,
       "version_minor": 0
      },
      "text/plain": [
       "FloatProgress(value=0.0, bar_style='info', description='Progress:', layout=Layout(height='25px', width='50%'),…"
      ]
     },
     "metadata": {},
     "output_type": "display_data"
    }
   ],
   "source": [
    "df_times = df_times.dropDuplicates()"
   ]
  },
  {
   "cell_type": "code",
   "execution_count": 144,
   "id": "9ad7ef46",
   "metadata": {},
   "outputs": [
    {
     "data": {
      "application/vnd.jupyter.widget-view+json": {
       "model_id": "f26571f4cebb4477bb78a5e3cc666892",
       "version_major": 2,
       "version_minor": 0
      },
      "text/plain": [
       "VBox()"
      ]
     },
     "metadata": {},
     "output_type": "display_data"
    },
    {
     "data": {
      "application/vnd.jupyter.widget-view+json": {
       "model_id": "",
       "version_major": 2,
       "version_minor": 0
      },
      "text/plain": [
       "FloatProgress(value=0.0, bar_style='info', description='Progress:', layout=Layout(height='25px', width='50%'),…"
      ]
     },
     "metadata": {},
     "output_type": "display_data"
    },
    {
     "name": "stdout",
     "output_type": "stream",
     "text": [
      "30"
     ]
    }
   ],
   "source": [
    "df_times.count()"
   ]
  },
  {
   "cell_type": "code",
   "execution_count": 145,
   "id": "ca69d022",
   "metadata": {},
   "outputs": [
    {
     "data": {
      "application/vnd.jupyter.widget-view+json": {
       "model_id": "b05334c035504aa9966d6ef3d0872196",
       "version_major": 2,
       "version_minor": 0
      },
      "text/plain": [
       "VBox()"
      ]
     },
     "metadata": {},
     "output_type": "display_data"
    },
    {
     "data": {
      "application/vnd.jupyter.widget-view+json": {
       "model_id": "",
       "version_major": 2,
       "version_minor": 0
      },
      "text/plain": [
       "FloatProgress(value=0.0, bar_style='info', description='Progress:', layout=Layout(height='25px', width='50%'),…"
      ]
     },
     "metadata": {},
     "output_type": "display_data"
    }
   ],
   "source": [
    "df_times.write.mode('overwrite').parquet('arrival_time')"
   ]
  },
  {
   "cell_type": "code",
   "execution_count": 146,
   "id": "5c2fd482",
   "metadata": {},
   "outputs": [
    {
     "data": {
      "application/vnd.jupyter.widget-view+json": {
       "model_id": "1a06660923b443138a233b90a15fb7d0",
       "version_major": 2,
       "version_minor": 0
      },
      "text/plain": [
       "VBox()"
      ]
     },
     "metadata": {},
     "output_type": "display_data"
    },
    {
     "data": {
      "application/vnd.jupyter.widget-view+json": {
       "model_id": "",
       "version_major": 2,
       "version_minor": 0
      },
      "text/plain": [
       "FloatProgress(value=0.0, bar_style='info', description='Progress:', layout=Layout(height='25px', width='50%'),…"
      ]
     },
     "metadata": {},
     "output_type": "display_data"
    },
    {
     "name": "stdout",
     "output_type": "stream",
     "text": [
      "root\n",
      " |-- time: date (nullable = true)\n",
      " |-- year: integer (nullable = true)\n",
      " |-- month: integer (nullable = true)\n",
      " |-- day: integer (nullable = true)\n",
      " |-- weekday: integer (nullable = true)"
     ]
    }
   ],
   "source": [
    "df_times.printSchema()"
   ]
  },
  {
   "cell_type": "markdown",
   "id": "c8e333cc",
   "metadata": {},
   "source": [
    "#### 4 Data dictionary \n"
   ]
  },
  {
   "cell_type": "raw",
   "id": "0a186568",
   "metadata": {},
   "source": [
    "i94\n",
    " |-- id: integer (nullable = true)\n",
    " |-- year: integer (nullable = true)\n",
    " |-- month: integer (nullable = true)\n",
    " |-- citizenship_code: integer (nullable = true)\n",
    " |-- residence_code: integer (nullable = true)\n",
    " |-- mode: integer (nullable = true)\n",
    " |-- age: integer (nullable = true)\n",
    " |-- visa_type: integer (nullable = true)\n",
    " |-- gender: string (nullable = true)\n",
    " |-- dt_arrival: date (nullable = true)\n",
    " |-- address: string (nullable = true)\n",
    "\n",
    "city_demographics\n",
    " |-- city: string (nullable = true)\n",
    " |-- state: string (nullable = true)\n",
    " |-- median_age: double (nullable = true)\n",
    " |-- male_population: double (nullable = true)\n",
    " |-- female_population: double (nullable = true)\n",
    " |-- total_population: double (nullable = true)\n",
    " |-- n_veterans: integer (nullable = true)\n",
    " |-- foreign_born: integer (nullable = true)\n",
    " |-- avg_household_size: double (nullable = true)\n",
    " |-- state_code: integer (nullable = true)\n",
    " |-- race: string (nullable = true)\n",
    " |-- Count: integer (nullable = true)\n",
    " \n",
    "address\n",
    " |-- code: integer (nullable = true)\n",
    " |-- state: string (nullable = true)\n",
    "\n",
    "visa__type_code\n",
    " |-- code: integer (nullable = true)\n",
    " |-- visa_type: string (nullable = true)\n",
    " \n",
    "\n",
    "country_code\n",
    " |-- code: integer (nullable = true)\n",
    " |-- country: string (nullable = true)\n",
    " \n",
    "mode_code\n",
    " |-- code: integer (nullable = true)\n",
    " |-- mode: string (nullable = true)\n",
    " \n",
    "arrival_time\n",
    " |-- time: date (nullable = true)\n",
    " |-- year: integer (nullable = true)\n",
    " |-- month: integer (nullable = true)\n",
    " |-- day: integer (nullable = true)\n",
    " |-- weekday: integer (nullable = true)"
   ]
  },
  {
   "cell_type": "markdown",
   "id": "e2ab3822",
   "metadata": {},
   "source": [
    "#### Step 5: Complete Project Write Up\n",
    "* I choosed Pyspark installed over EMR within AWS Cluster, why?\n",
    "    1. No one has cluster on his home.\n",
    "    2. It requires a lot of effort to install pyspark in local mode.\n",
    "    3. it is easier to connectwith the data on AWS S3.\n",
    "Before going into the cloud I did soma wrangling using pandas as it is easy and fast using small dataset, also I'm expert on it :D\n",
    "\n",
    "* The data may be updated for each bath, we can say monthly batchs for evey persiod of the application..\n",
    "* Write a description of how you would approach the problem differently under the following scenarios:\n",
    " * If the data becam 100X large it is no prblem as were using Spark on large cluster adn we can store it for hundreds of those data.\n",
    " * We can connect with tableu with batch streaming to load the data in this time daily to easy load and reload in using (better performance).\n",
    " * We can make usr groups that can connect ot the same data base or we can easily meake the s3 saved mode pulic."
   ]
  }
 ],
 "metadata": {
  "kernelspec": {
   "display_name": "PySpark",
   "language": "",
   "name": "pysparkkernel"
  },
  "language_info": {
   "codemirror_mode": {
    "name": "python",
    "version": 2
   },
   "mimetype": "text/x-python",
   "name": "pyspark",
   "pygments_lexer": "python2"
  }
 },
 "nbformat": 4,
 "nbformat_minor": 5
}
